{
    "metadata": {
        "kernelspec": {
            "name": "SQL",
            "display_name": "SQL",
            "language": "sql"
        },
        "language_info": {
            "name": "sql",
            "version": ""
        }
    },
    "nbformat_minor": 2,
    "nbformat": 4,
    "cells": [
        {
            "cell_type": "code",
            "source": [
                "SELECT szoba_id,\r\n",
                "        ferohely,\r\n",
                "        DENSE_RANK() OVER (ORDER BY COUNT(foglalas_pk) DESC, ferohely ASC) AS helyezes\r\n",
                "FROM Szoba JOIN Foglalas ON szoba_id = SZOBA_FK\r\n",
                "GROUP BY szoba_id, ferohely\r\n",
                "ORDER BY DENSE_RANK() OVER (ORDER BY COUNT(foglalas_pk) DESC, ferohely ASC)"
            ],
            "metadata": {
                "azdata_cell_guid": "945f7791-b9f0-4d14-9dea-471c09a62458",
                "language": "sql",
                "tags": []
            },
            "outputs": [
                {
                    "output_type": "display_data",
                    "data": {
                        "text/html": "(197 rows affected)"
                    },
                    "metadata": {}
                },
                {
                    "output_type": "display_data",
                    "data": {
                        "text/html": "Total execution time: 00:00:00.017"
                    },
                    "metadata": {}
                },
                {
                    "output_type": "execute_result",
                    "metadata": {},
                    "execution_count": 23,
                    "data": {
                        "application/vnd.dataresource+json": {
                            "schema": {
                                "fields": [
                                    {
                                        "name": "szoba_id"
                                    },
                                    {
                                        "name": "ferohely"
                                    },
                                    {
                                        "name": "helyezes"
                                    }
                                ]
                            },
                            "data": [
                                {
                                    "szoba_id": "58",
                                    "ferohely": "2",
                                    "helyezes": "1"
                                },
                                {
                                    "szoba_id": "182",
                                    "ferohely": "2",
                                    "helyezes": "2"
                                },
                                {
                                    "szoba_id": "185",
                                    "ferohely": "3",
                                    "helyezes": "3"
                                },
                                {
                                    "szoba_id": "70",
                                    "ferohely": "2",
                                    "helyezes": "4"
                                },
                                {
                                    "szoba_id": "94",
                                    "ferohely": "2",
                                    "helyezes": "5"
                                },
                                {
                                    "szoba_id": "12",
                                    "ferohely": "2",
                                    "helyezes": "6"
                                },
                                {
                                    "szoba_id": "172",
                                    "ferohely": "2",
                                    "helyezes": "6"
                                },
                                {
                                    "szoba_id": "35",
                                    "ferohely": "3",
                                    "helyezes": "7"
                                },
                                {
                                    "szoba_id": "48",
                                    "ferohely": "3",
                                    "helyezes": "7"
                                },
                                {
                                    "szoba_id": "74",
                                    "ferohely": "3",
                                    "helyezes": "7"
                                },
                                {
                                    "szoba_id": "122",
                                    "ferohely": "3",
                                    "helyezes": "7"
                                },
                                {
                                    "szoba_id": "121",
                                    "ferohely": "2",
                                    "helyezes": "8"
                                },
                                {
                                    "szoba_id": "140",
                                    "ferohely": "2",
                                    "helyezes": "8"
                                },
                                {
                                    "szoba_id": "110",
                                    "ferohely": "2",
                                    "helyezes": "8"
                                },
                                {
                                    "szoba_id": "55",
                                    "ferohely": "2",
                                    "helyezes": "8"
                                },
                                {
                                    "szoba_id": "38",
                                    "ferohely": "2",
                                    "helyezes": "8"
                                },
                                {
                                    "szoba_id": "1",
                                    "ferohely": "3",
                                    "helyezes": "9"
                                },
                                {
                                    "szoba_id": "3",
                                    "ferohely": "3",
                                    "helyezes": "9"
                                },
                                {
                                    "szoba_id": "43",
                                    "ferohely": "3",
                                    "helyezes": "9"
                                },
                                {
                                    "szoba_id": "83",
                                    "ferohely": "3",
                                    "helyezes": "9"
                                },
                                {
                                    "szoba_id": "88",
                                    "ferohely": "3",
                                    "helyezes": "9"
                                },
                                {
                                    "szoba_id": "89",
                                    "ferohely": "3",
                                    "helyezes": "9"
                                },
                                {
                                    "szoba_id": "117",
                                    "ferohely": "3",
                                    "helyezes": "9"
                                },
                                {
                                    "szoba_id": "198",
                                    "ferohely": "3",
                                    "helyezes": "9"
                                },
                                {
                                    "szoba_id": "149",
                                    "ferohely": "2",
                                    "helyezes": "10"
                                },
                                {
                                    "szoba_id": "156",
                                    "ferohely": "2",
                                    "helyezes": "10"
                                },
                                {
                                    "szoba_id": "163",
                                    "ferohely": "2",
                                    "helyezes": "10"
                                },
                                {
                                    "szoba_id": "165",
                                    "ferohely": "2",
                                    "helyezes": "10"
                                },
                                {
                                    "szoba_id": "118",
                                    "ferohely": "2",
                                    "helyezes": "10"
                                },
                                {
                                    "szoba_id": "109",
                                    "ferohely": "2",
                                    "helyezes": "10"
                                },
                                {
                                    "szoba_id": "127",
                                    "ferohely": "2",
                                    "helyezes": "10"
                                },
                                {
                                    "szoba_id": "139",
                                    "ferohely": "2",
                                    "helyezes": "10"
                                },
                                {
                                    "szoba_id": "80",
                                    "ferohely": "2",
                                    "helyezes": "10"
                                },
                                {
                                    "szoba_id": "59",
                                    "ferohely": "2",
                                    "helyezes": "10"
                                },
                                {
                                    "szoba_id": "39",
                                    "ferohely": "2",
                                    "helyezes": "10"
                                },
                                {
                                    "szoba_id": "27",
                                    "ferohely": "3",
                                    "helyezes": "11"
                                },
                                {
                                    "szoba_id": "49",
                                    "ferohely": "3",
                                    "helyezes": "11"
                                },
                                {
                                    "szoba_id": "96",
                                    "ferohely": "3",
                                    "helyezes": "11"
                                },
                                {
                                    "szoba_id": "97",
                                    "ferohely": "3",
                                    "helyezes": "11"
                                },
                                {
                                    "szoba_id": "138",
                                    "ferohely": "3",
                                    "helyezes": "11"
                                },
                                {
                                    "szoba_id": "143",
                                    "ferohely": "3",
                                    "helyezes": "11"
                                },
                                {
                                    "szoba_id": "115",
                                    "ferohely": "3",
                                    "helyezes": "11"
                                },
                                {
                                    "szoba_id": "187",
                                    "ferohely": "3",
                                    "helyezes": "11"
                                },
                                {
                                    "szoba_id": "193",
                                    "ferohely": "3",
                                    "helyezes": "11"
                                },
                                {
                                    "szoba_id": "195",
                                    "ferohely": "2",
                                    "helyezes": "12"
                                },
                                {
                                    "szoba_id": "161",
                                    "ferohely": "2",
                                    "helyezes": "12"
                                },
                                {
                                    "szoba_id": "150",
                                    "ferohely": "2",
                                    "helyezes": "12"
                                },
                                {
                                    "szoba_id": "148",
                                    "ferohely": "2",
                                    "helyezes": "12"
                                },
                                {
                                    "szoba_id": "169",
                                    "ferohely": "2",
                                    "helyezes": "12"
                                },
                                {
                                    "szoba_id": "106",
                                    "ferohely": "2",
                                    "helyezes": "12"
                                },
                                {
                                    "szoba_id": "126",
                                    "ferohely": "2",
                                    "helyezes": "12"
                                },
                                {
                                    "szoba_id": "145",
                                    "ferohely": "2",
                                    "helyezes": "12"
                                },
                                {
                                    "szoba_id": "141",
                                    "ferohely": "2",
                                    "helyezes": "12"
                                },
                                {
                                    "szoba_id": "130",
                                    "ferohely": "2",
                                    "helyezes": "12"
                                },
                                {
                                    "szoba_id": "137",
                                    "ferohely": "2",
                                    "helyezes": "12"
                                },
                                {
                                    "szoba_id": "78",
                                    "ferohely": "2",
                                    "helyezes": "12"
                                },
                                {
                                    "szoba_id": "42",
                                    "ferohely": "2",
                                    "helyezes": "12"
                                },
                                {
                                    "szoba_id": "64",
                                    "ferohely": "2",
                                    "helyezes": "12"
                                },
                                {
                                    "szoba_id": "67",
                                    "ferohely": "2",
                                    "helyezes": "12"
                                },
                                {
                                    "szoba_id": "28",
                                    "ferohely": "2",
                                    "helyezes": "12"
                                },
                                {
                                    "szoba_id": "29",
                                    "ferohely": "2",
                                    "helyezes": "12"
                                },
                                {
                                    "szoba_id": "19",
                                    "ferohely": "2",
                                    "helyezes": "12"
                                },
                                {
                                    "szoba_id": "33",
                                    "ferohely": "2",
                                    "helyezes": "12"
                                },
                                {
                                    "szoba_id": "4",
                                    "ferohely": "2",
                                    "helyezes": "12"
                                },
                                {
                                    "szoba_id": "7",
                                    "ferohely": "2",
                                    "helyezes": "12"
                                },
                                {
                                    "szoba_id": "15",
                                    "ferohely": "2",
                                    "helyezes": "12"
                                },
                                {
                                    "szoba_id": "17",
                                    "ferohely": "3",
                                    "helyezes": "13"
                                },
                                {
                                    "szoba_id": "18",
                                    "ferohely": "3",
                                    "helyezes": "13"
                                },
                                {
                                    "szoba_id": "6",
                                    "ferohely": "3",
                                    "helyezes": "13"
                                },
                                {
                                    "szoba_id": "9",
                                    "ferohely": "3",
                                    "helyezes": "13"
                                },
                                {
                                    "szoba_id": "22",
                                    "ferohely": "3",
                                    "helyezes": "13"
                                },
                                {
                                    "szoba_id": "36",
                                    "ferohely": "3",
                                    "helyezes": "13"
                                },
                                {
                                    "szoba_id": "44",
                                    "ferohely": "3",
                                    "helyezes": "13"
                                },
                                {
                                    "szoba_id": "54",
                                    "ferohely": "3",
                                    "helyezes": "13"
                                },
                                {
                                    "szoba_id": "77",
                                    "ferohely": "3",
                                    "helyezes": "13"
                                },
                                {
                                    "szoba_id": "82",
                                    "ferohely": "3",
                                    "helyezes": "13"
                                },
                                {
                                    "szoba_id": "92",
                                    "ferohely": "3",
                                    "helyezes": "13"
                                },
                                {
                                    "szoba_id": "132",
                                    "ferohely": "3",
                                    "helyezes": "13"
                                },
                                {
                                    "szoba_id": "133",
                                    "ferohely": "3",
                                    "helyezes": "13"
                                },
                                {
                                    "szoba_id": "134",
                                    "ferohely": "3",
                                    "helyezes": "13"
                                },
                                {
                                    "szoba_id": "146",
                                    "ferohely": "3",
                                    "helyezes": "13"
                                },
                                {
                                    "szoba_id": "124",
                                    "ferohely": "3",
                                    "helyezes": "13"
                                },
                                {
                                    "szoba_id": "120",
                                    "ferohely": "3",
                                    "helyezes": "13"
                                },
                                {
                                    "szoba_id": "176",
                                    "ferohely": "3",
                                    "helyezes": "13"
                                },
                                {
                                    "szoba_id": "181",
                                    "ferohely": "3",
                                    "helyezes": "13"
                                },
                                {
                                    "szoba_id": "188",
                                    "ferohely": "3",
                                    "helyezes": "13"
                                },
                                {
                                    "szoba_id": "197",
                                    "ferohely": "3",
                                    "helyezes": "13"
                                },
                                {
                                    "szoba_id": "189",
                                    "ferohely": "2",
                                    "helyezes": "14"
                                },
                                {
                                    "szoba_id": "190",
                                    "ferohely": "2",
                                    "helyezes": "14"
                                },
                                {
                                    "szoba_id": "191",
                                    "ferohely": "2",
                                    "helyezes": "14"
                                },
                                {
                                    "szoba_id": "168",
                                    "ferohely": "2",
                                    "helyezes": "14"
                                },
                                {
                                    "szoba_id": "175",
                                    "ferohely": "2",
                                    "helyezes": "14"
                                },
                                {
                                    "szoba_id": "170",
                                    "ferohely": "2",
                                    "helyezes": "14"
                                },
                                {
                                    "szoba_id": "171",
                                    "ferohely": "2",
                                    "helyezes": "14"
                                },
                                {
                                    "szoba_id": "157",
                                    "ferohely": "2",
                                    "helyezes": "14"
                                },
                                {
                                    "szoba_id": "154",
                                    "ferohely": "2",
                                    "helyezes": "14"
                                },
                                {
                                    "szoba_id": "164",
                                    "ferohely": "2",
                                    "helyezes": "14"
                                },
                                {
                                    "szoba_id": "119",
                                    "ferohely": "2",
                                    "helyezes": "14"
                                },
                                {
                                    "szoba_id": "107",
                                    "ferohely": "2",
                                    "helyezes": "14"
                                },
                                {
                                    "szoba_id": "128",
                                    "ferohely": "2",
                                    "helyezes": "14"
                                },
                                {
                                    "szoba_id": "131",
                                    "ferohely": "2",
                                    "helyezes": "14"
                                },
                                {
                                    "szoba_id": "99",
                                    "ferohely": "2",
                                    "helyezes": "14"
                                },
                                {
                                    "szoba_id": "111",
                                    "ferohely": "2",
                                    "helyezes": "14"
                                },
                                {
                                    "szoba_id": "81",
                                    "ferohely": "2",
                                    "helyezes": "14"
                                },
                                {
                                    "szoba_id": "86",
                                    "ferohely": "2",
                                    "helyezes": "14"
                                },
                                {
                                    "szoba_id": "52",
                                    "ferohely": "2",
                                    "helyezes": "14"
                                },
                                {
                                    "szoba_id": "45",
                                    "ferohely": "2",
                                    "helyezes": "14"
                                },
                                {
                                    "szoba_id": "62",
                                    "ferohely": "2",
                                    "helyezes": "14"
                                },
                                {
                                    "szoba_id": "61",
                                    "ferohely": "3",
                                    "helyezes": "15"
                                },
                                {
                                    "szoba_id": "51",
                                    "ferohely": "3",
                                    "helyezes": "15"
                                },
                                {
                                    "szoba_id": "20",
                                    "ferohely": "3",
                                    "helyezes": "15"
                                },
                                {
                                    "szoba_id": "8",
                                    "ferohely": "3",
                                    "helyezes": "15"
                                },
                                {
                                    "szoba_id": "16",
                                    "ferohely": "3",
                                    "helyezes": "15"
                                },
                                {
                                    "szoba_id": "87",
                                    "ferohely": "3",
                                    "helyezes": "15"
                                },
                                {
                                    "szoba_id": "79",
                                    "ferohely": "3",
                                    "helyezes": "15"
                                },
                                {
                                    "szoba_id": "112",
                                    "ferohely": "3",
                                    "helyezes": "15"
                                },
                                {
                                    "szoba_id": "113",
                                    "ferohely": "3",
                                    "helyezes": "15"
                                },
                                {
                                    "szoba_id": "93",
                                    "ferohely": "3",
                                    "helyezes": "15"
                                },
                                {
                                    "szoba_id": "144",
                                    "ferohely": "3",
                                    "helyezes": "15"
                                },
                                {
                                    "szoba_id": "123",
                                    "ferohely": "3",
                                    "helyezes": "15"
                                },
                                {
                                    "szoba_id": "153",
                                    "ferohely": "3",
                                    "helyezes": "15"
                                },
                                {
                                    "szoba_id": "160",
                                    "ferohely": "3",
                                    "helyezes": "15"
                                },
                                {
                                    "szoba_id": "155",
                                    "ferohely": "3",
                                    "helyezes": "15"
                                },
                                {
                                    "szoba_id": "152",
                                    "ferohely": "2",
                                    "helyezes": "16"
                                },
                                {
                                    "szoba_id": "173",
                                    "ferohely": "2",
                                    "helyezes": "16"
                                },
                                {
                                    "szoba_id": "174",
                                    "ferohely": "2",
                                    "helyezes": "16"
                                },
                                {
                                    "szoba_id": "186",
                                    "ferohely": "2",
                                    "helyezes": "16"
                                },
                                {
                                    "szoba_id": "196",
                                    "ferohely": "2",
                                    "helyezes": "16"
                                },
                                {
                                    "szoba_id": "184",
                                    "ferohely": "2",
                                    "helyezes": "16"
                                },
                                {
                                    "szoba_id": "129",
                                    "ferohely": "2",
                                    "helyezes": "16"
                                },
                                {
                                    "szoba_id": "100",
                                    "ferohely": "2",
                                    "helyezes": "16"
                                },
                                {
                                    "szoba_id": "114",
                                    "ferohely": "2",
                                    "helyezes": "16"
                                },
                                {
                                    "szoba_id": "98",
                                    "ferohely": "2",
                                    "helyezes": "16"
                                },
                                {
                                    "szoba_id": "103",
                                    "ferohely": "2",
                                    "helyezes": "16"
                                },
                                {
                                    "szoba_id": "85",
                                    "ferohely": "2",
                                    "helyezes": "16"
                                },
                                {
                                    "szoba_id": "91",
                                    "ferohely": "2",
                                    "helyezes": "16"
                                },
                                {
                                    "szoba_id": "11",
                                    "ferohely": "2",
                                    "helyezes": "16"
                                },
                                {
                                    "szoba_id": "5",
                                    "ferohely": "2",
                                    "helyezes": "16"
                                },
                                {
                                    "szoba_id": "21",
                                    "ferohely": "2",
                                    "helyezes": "16"
                                },
                                {
                                    "szoba_id": "50",
                                    "ferohely": "2",
                                    "helyezes": "16"
                                },
                                {
                                    "szoba_id": "57",
                                    "ferohely": "2",
                                    "helyezes": "16"
                                },
                                {
                                    "szoba_id": "63",
                                    "ferohely": "2",
                                    "helyezes": "16"
                                },
                                {
                                    "szoba_id": "72",
                                    "ferohely": "2",
                                    "helyezes": "16"
                                },
                                {
                                    "szoba_id": "73",
                                    "ferohely": "2",
                                    "helyezes": "16"
                                },
                                {
                                    "szoba_id": "66",
                                    "ferohely": "3",
                                    "helyezes": "17"
                                },
                                {
                                    "szoba_id": "69",
                                    "ferohely": "3",
                                    "helyezes": "17"
                                },
                                {
                                    "szoba_id": "46",
                                    "ferohely": "3",
                                    "helyezes": "17"
                                },
                                {
                                    "szoba_id": "34",
                                    "ferohely": "3",
                                    "helyezes": "17"
                                },
                                {
                                    "szoba_id": "40",
                                    "ferohely": "3",
                                    "helyezes": "17"
                                },
                                {
                                    "szoba_id": "2",
                                    "ferohely": "3",
                                    "helyezes": "17"
                                },
                                {
                                    "szoba_id": "10",
                                    "ferohely": "3",
                                    "helyezes": "17"
                                },
                                {
                                    "szoba_id": "13",
                                    "ferohely": "3",
                                    "helyezes": "17"
                                },
                                {
                                    "szoba_id": "90",
                                    "ferohely": "3",
                                    "helyezes": "17"
                                },
                                {
                                    "szoba_id": "84",
                                    "ferohely": "3",
                                    "helyezes": "17"
                                },
                                {
                                    "szoba_id": "104",
                                    "ferohely": "3",
                                    "helyezes": "17"
                                },
                                {
                                    "szoba_id": "95",
                                    "ferohely": "3",
                                    "helyezes": "17"
                                },
                                {
                                    "szoba_id": "183",
                                    "ferohely": "3",
                                    "helyezes": "17"
                                },
                                {
                                    "szoba_id": "177",
                                    "ferohely": "3",
                                    "helyezes": "17"
                                },
                                {
                                    "szoba_id": "178",
                                    "ferohely": "3",
                                    "helyezes": "17"
                                },
                                {
                                    "szoba_id": "180",
                                    "ferohely": "2",
                                    "helyezes": "18"
                                },
                                {
                                    "szoba_id": "151",
                                    "ferohely": "2",
                                    "helyezes": "18"
                                },
                                {
                                    "szoba_id": "158",
                                    "ferohely": "2",
                                    "helyezes": "18"
                                },
                                {
                                    "szoba_id": "166",
                                    "ferohely": "2",
                                    "helyezes": "18"
                                },
                                {
                                    "szoba_id": "101",
                                    "ferohely": "2",
                                    "helyezes": "18"
                                },
                                {
                                    "szoba_id": "75",
                                    "ferohely": "2",
                                    "helyezes": "18"
                                },
                                {
                                    "szoba_id": "76",
                                    "ferohely": "2",
                                    "helyezes": "18"
                                },
                                {
                                    "szoba_id": "136",
                                    "ferohely": "2",
                                    "helyezes": "18"
                                },
                                {
                                    "szoba_id": "23",
                                    "ferohely": "2",
                                    "helyezes": "18"
                                },
                                {
                                    "szoba_id": "37",
                                    "ferohely": "2",
                                    "helyezes": "18"
                                },
                                {
                                    "szoba_id": "68",
                                    "ferohely": "2",
                                    "helyezes": "18"
                                },
                                {
                                    "szoba_id": "71",
                                    "ferohely": "3",
                                    "helyezes": "19"
                                },
                                {
                                    "szoba_id": "30",
                                    "ferohely": "3",
                                    "helyezes": "19"
                                },
                                {
                                    "szoba_id": "31",
                                    "ferohely": "3",
                                    "helyezes": "19"
                                },
                                {
                                    "szoba_id": "14",
                                    "ferohely": "3",
                                    "helyezes": "19"
                                },
                                {
                                    "szoba_id": "135",
                                    "ferohely": "3",
                                    "helyezes": "19"
                                },
                                {
                                    "szoba_id": "162",
                                    "ferohely": "3",
                                    "helyezes": "19"
                                },
                                {
                                    "szoba_id": "179",
                                    "ferohely": "3",
                                    "helyezes": "19"
                                },
                                {
                                    "szoba_id": "24",
                                    "ferohely": "4",
                                    "helyezes": "20"
                                },
                                {
                                    "szoba_id": "26",
                                    "ferohely": "2",
                                    "helyezes": "21"
                                },
                                {
                                    "szoba_id": "47",
                                    "ferohely": "2",
                                    "helyezes": "21"
                                },
                                {
                                    "szoba_id": "53",
                                    "ferohely": "2",
                                    "helyezes": "21"
                                },
                                {
                                    "szoba_id": "56",
                                    "ferohely": "2",
                                    "helyezes": "21"
                                },
                                {
                                    "szoba_id": "108",
                                    "ferohely": "2",
                                    "helyezes": "21"
                                },
                                {
                                    "szoba_id": "102",
                                    "ferohely": "2",
                                    "helyezes": "21"
                                },
                                {
                                    "szoba_id": "105",
                                    "ferohely": "2",
                                    "helyezes": "21"
                                },
                                {
                                    "szoba_id": "192",
                                    "ferohely": "2",
                                    "helyezes": "21"
                                },
                                {
                                    "szoba_id": "167",
                                    "ferohely": "3",
                                    "helyezes": "22"
                                },
                                {
                                    "szoba_id": "116",
                                    "ferohely": "3",
                                    "helyezes": "22"
                                },
                                {
                                    "szoba_id": "142",
                                    "ferohely": "3",
                                    "helyezes": "22"
                                },
                                {
                                    "szoba_id": "25",
                                    "ferohely": "3",
                                    "helyezes": "22"
                                },
                                {
                                    "szoba_id": "41",
                                    "ferohely": "3",
                                    "helyezes": "22"
                                },
                                {
                                    "szoba_id": "32",
                                    "ferohely": "2",
                                    "helyezes": "23"
                                },
                                {
                                    "szoba_id": "65",
                                    "ferohely": "2",
                                    "helyezes": "23"
                                },
                                {
                                    "szoba_id": "147",
                                    "ferohely": "2",
                                    "helyezes": "23"
                                },
                                {
                                    "szoba_id": "125",
                                    "ferohely": "2",
                                    "helyezes": "23"
                                },
                                {
                                    "szoba_id": "194",
                                    "ferohely": "2",
                                    "helyezes": "23"
                                },
                                {
                                    "szoba_id": "60",
                                    "ferohely": "3",
                                    "helyezes": "24"
                                }
                            ]
                        },
                        "text/html": [
                            "<table>",
                            "<tr><th>szoba_id</th><th>ferohely</th><th>helyezes</th></tr>",
                            "<tr><td>58</td><td>2</td><td>1</td></tr>",
                            "<tr><td>182</td><td>2</td><td>2</td></tr>",
                            "<tr><td>185</td><td>3</td><td>3</td></tr>",
                            "<tr><td>70</td><td>2</td><td>4</td></tr>",
                            "<tr><td>94</td><td>2</td><td>5</td></tr>",
                            "<tr><td>12</td><td>2</td><td>6</td></tr>",
                            "<tr><td>172</td><td>2</td><td>6</td></tr>",
                            "<tr><td>35</td><td>3</td><td>7</td></tr>",
                            "<tr><td>48</td><td>3</td><td>7</td></tr>",
                            "<tr><td>74</td><td>3</td><td>7</td></tr>",
                            "<tr><td>122</td><td>3</td><td>7</td></tr>",
                            "<tr><td>121</td><td>2</td><td>8</td></tr>",
                            "<tr><td>140</td><td>2</td><td>8</td></tr>",
                            "<tr><td>110</td><td>2</td><td>8</td></tr>",
                            "<tr><td>55</td><td>2</td><td>8</td></tr>",
                            "<tr><td>38</td><td>2</td><td>8</td></tr>",
                            "<tr><td>1</td><td>3</td><td>9</td></tr>",
                            "<tr><td>3</td><td>3</td><td>9</td></tr>",
                            "<tr><td>43</td><td>3</td><td>9</td></tr>",
                            "<tr><td>83</td><td>3</td><td>9</td></tr>",
                            "<tr><td>88</td><td>3</td><td>9</td></tr>",
                            "<tr><td>89</td><td>3</td><td>9</td></tr>",
                            "<tr><td>117</td><td>3</td><td>9</td></tr>",
                            "<tr><td>198</td><td>3</td><td>9</td></tr>",
                            "<tr><td>149</td><td>2</td><td>10</td></tr>",
                            "<tr><td>156</td><td>2</td><td>10</td></tr>",
                            "<tr><td>163</td><td>2</td><td>10</td></tr>",
                            "<tr><td>165</td><td>2</td><td>10</td></tr>",
                            "<tr><td>118</td><td>2</td><td>10</td></tr>",
                            "<tr><td>109</td><td>2</td><td>10</td></tr>",
                            "<tr><td>127</td><td>2</td><td>10</td></tr>",
                            "<tr><td>139</td><td>2</td><td>10</td></tr>",
                            "<tr><td>80</td><td>2</td><td>10</td></tr>",
                            "<tr><td>59</td><td>2</td><td>10</td></tr>",
                            "<tr><td>39</td><td>2</td><td>10</td></tr>",
                            "<tr><td>27</td><td>3</td><td>11</td></tr>",
                            "<tr><td>49</td><td>3</td><td>11</td></tr>",
                            "<tr><td>96</td><td>3</td><td>11</td></tr>",
                            "<tr><td>97</td><td>3</td><td>11</td></tr>",
                            "<tr><td>138</td><td>3</td><td>11</td></tr>",
                            "<tr><td>143</td><td>3</td><td>11</td></tr>",
                            "<tr><td>115</td><td>3</td><td>11</td></tr>",
                            "<tr><td>187</td><td>3</td><td>11</td></tr>",
                            "<tr><td>193</td><td>3</td><td>11</td></tr>",
                            "<tr><td>195</td><td>2</td><td>12</td></tr>",
                            "<tr><td>161</td><td>2</td><td>12</td></tr>",
                            "<tr><td>150</td><td>2</td><td>12</td></tr>",
                            "<tr><td>148</td><td>2</td><td>12</td></tr>",
                            "<tr><td>169</td><td>2</td><td>12</td></tr>",
                            "<tr><td>106</td><td>2</td><td>12</td></tr>",
                            "<tr><td>126</td><td>2</td><td>12</td></tr>",
                            "<tr><td>145</td><td>2</td><td>12</td></tr>",
                            "<tr><td>141</td><td>2</td><td>12</td></tr>",
                            "<tr><td>130</td><td>2</td><td>12</td></tr>",
                            "<tr><td>137</td><td>2</td><td>12</td></tr>",
                            "<tr><td>78</td><td>2</td><td>12</td></tr>",
                            "<tr><td>42</td><td>2</td><td>12</td></tr>",
                            "<tr><td>64</td><td>2</td><td>12</td></tr>",
                            "<tr><td>67</td><td>2</td><td>12</td></tr>",
                            "<tr><td>28</td><td>2</td><td>12</td></tr>",
                            "<tr><td>29</td><td>2</td><td>12</td></tr>",
                            "<tr><td>19</td><td>2</td><td>12</td></tr>",
                            "<tr><td>33</td><td>2</td><td>12</td></tr>",
                            "<tr><td>4</td><td>2</td><td>12</td></tr>",
                            "<tr><td>7</td><td>2</td><td>12</td></tr>",
                            "<tr><td>15</td><td>2</td><td>12</td></tr>",
                            "<tr><td>17</td><td>3</td><td>13</td></tr>",
                            "<tr><td>18</td><td>3</td><td>13</td></tr>",
                            "<tr><td>6</td><td>3</td><td>13</td></tr>",
                            "<tr><td>9</td><td>3</td><td>13</td></tr>",
                            "<tr><td>22</td><td>3</td><td>13</td></tr>",
                            "<tr><td>36</td><td>3</td><td>13</td></tr>",
                            "<tr><td>44</td><td>3</td><td>13</td></tr>",
                            "<tr><td>54</td><td>3</td><td>13</td></tr>",
                            "<tr><td>77</td><td>3</td><td>13</td></tr>",
                            "<tr><td>82</td><td>3</td><td>13</td></tr>",
                            "<tr><td>92</td><td>3</td><td>13</td></tr>",
                            "<tr><td>132</td><td>3</td><td>13</td></tr>",
                            "<tr><td>133</td><td>3</td><td>13</td></tr>",
                            "<tr><td>134</td><td>3</td><td>13</td></tr>",
                            "<tr><td>146</td><td>3</td><td>13</td></tr>",
                            "<tr><td>124</td><td>3</td><td>13</td></tr>",
                            "<tr><td>120</td><td>3</td><td>13</td></tr>",
                            "<tr><td>176</td><td>3</td><td>13</td></tr>",
                            "<tr><td>181</td><td>3</td><td>13</td></tr>",
                            "<tr><td>188</td><td>3</td><td>13</td></tr>",
                            "<tr><td>197</td><td>3</td><td>13</td></tr>",
                            "<tr><td>189</td><td>2</td><td>14</td></tr>",
                            "<tr><td>190</td><td>2</td><td>14</td></tr>",
                            "<tr><td>191</td><td>2</td><td>14</td></tr>",
                            "<tr><td>168</td><td>2</td><td>14</td></tr>",
                            "<tr><td>175</td><td>2</td><td>14</td></tr>",
                            "<tr><td>170</td><td>2</td><td>14</td></tr>",
                            "<tr><td>171</td><td>2</td><td>14</td></tr>",
                            "<tr><td>157</td><td>2</td><td>14</td></tr>",
                            "<tr><td>154</td><td>2</td><td>14</td></tr>",
                            "<tr><td>164</td><td>2</td><td>14</td></tr>",
                            "<tr><td>119</td><td>2</td><td>14</td></tr>",
                            "<tr><td>107</td><td>2</td><td>14</td></tr>",
                            "<tr><td>128</td><td>2</td><td>14</td></tr>",
                            "<tr><td>131</td><td>2</td><td>14</td></tr>",
                            "<tr><td>99</td><td>2</td><td>14</td></tr>",
                            "<tr><td>111</td><td>2</td><td>14</td></tr>",
                            "<tr><td>81</td><td>2</td><td>14</td></tr>",
                            "<tr><td>86</td><td>2</td><td>14</td></tr>",
                            "<tr><td>52</td><td>2</td><td>14</td></tr>",
                            "<tr><td>45</td><td>2</td><td>14</td></tr>",
                            "<tr><td>62</td><td>2</td><td>14</td></tr>",
                            "<tr><td>61</td><td>3</td><td>15</td></tr>",
                            "<tr><td>51</td><td>3</td><td>15</td></tr>",
                            "<tr><td>20</td><td>3</td><td>15</td></tr>",
                            "<tr><td>8</td><td>3</td><td>15</td></tr>",
                            "<tr><td>16</td><td>3</td><td>15</td></tr>",
                            "<tr><td>87</td><td>3</td><td>15</td></tr>",
                            "<tr><td>79</td><td>3</td><td>15</td></tr>",
                            "<tr><td>112</td><td>3</td><td>15</td></tr>",
                            "<tr><td>113</td><td>3</td><td>15</td></tr>",
                            "<tr><td>93</td><td>3</td><td>15</td></tr>",
                            "<tr><td>144</td><td>3</td><td>15</td></tr>",
                            "<tr><td>123</td><td>3</td><td>15</td></tr>",
                            "<tr><td>153</td><td>3</td><td>15</td></tr>",
                            "<tr><td>160</td><td>3</td><td>15</td></tr>",
                            "<tr><td>155</td><td>3</td><td>15</td></tr>",
                            "<tr><td>152</td><td>2</td><td>16</td></tr>",
                            "<tr><td>173</td><td>2</td><td>16</td></tr>",
                            "<tr><td>174</td><td>2</td><td>16</td></tr>",
                            "<tr><td>186</td><td>2</td><td>16</td></tr>",
                            "<tr><td>196</td><td>2</td><td>16</td></tr>",
                            "<tr><td>184</td><td>2</td><td>16</td></tr>",
                            "<tr><td>129</td><td>2</td><td>16</td></tr>",
                            "<tr><td>100</td><td>2</td><td>16</td></tr>",
                            "<tr><td>114</td><td>2</td><td>16</td></tr>",
                            "<tr><td>98</td><td>2</td><td>16</td></tr>",
                            "<tr><td>103</td><td>2</td><td>16</td></tr>",
                            "<tr><td>85</td><td>2</td><td>16</td></tr>",
                            "<tr><td>91</td><td>2</td><td>16</td></tr>",
                            "<tr><td>11</td><td>2</td><td>16</td></tr>",
                            "<tr><td>5</td><td>2</td><td>16</td></tr>",
                            "<tr><td>21</td><td>2</td><td>16</td></tr>",
                            "<tr><td>50</td><td>2</td><td>16</td></tr>",
                            "<tr><td>57</td><td>2</td><td>16</td></tr>",
                            "<tr><td>63</td><td>2</td><td>16</td></tr>",
                            "<tr><td>72</td><td>2</td><td>16</td></tr>",
                            "<tr><td>73</td><td>2</td><td>16</td></tr>",
                            "<tr><td>66</td><td>3</td><td>17</td></tr>",
                            "<tr><td>69</td><td>3</td><td>17</td></tr>",
                            "<tr><td>46</td><td>3</td><td>17</td></tr>",
                            "<tr><td>34</td><td>3</td><td>17</td></tr>",
                            "<tr><td>40</td><td>3</td><td>17</td></tr>",
                            "<tr><td>2</td><td>3</td><td>17</td></tr>",
                            "<tr><td>10</td><td>3</td><td>17</td></tr>",
                            "<tr><td>13</td><td>3</td><td>17</td></tr>",
                            "<tr><td>90</td><td>3</td><td>17</td></tr>",
                            "<tr><td>84</td><td>3</td><td>17</td></tr>",
                            "<tr><td>104</td><td>3</td><td>17</td></tr>",
                            "<tr><td>95</td><td>3</td><td>17</td></tr>",
                            "<tr><td>183</td><td>3</td><td>17</td></tr>",
                            "<tr><td>177</td><td>3</td><td>17</td></tr>",
                            "<tr><td>178</td><td>3</td><td>17</td></tr>",
                            "<tr><td>180</td><td>2</td><td>18</td></tr>",
                            "<tr><td>151</td><td>2</td><td>18</td></tr>",
                            "<tr><td>158</td><td>2</td><td>18</td></tr>",
                            "<tr><td>166</td><td>2</td><td>18</td></tr>",
                            "<tr><td>101</td><td>2</td><td>18</td></tr>",
                            "<tr><td>75</td><td>2</td><td>18</td></tr>",
                            "<tr><td>76</td><td>2</td><td>18</td></tr>",
                            "<tr><td>136</td><td>2</td><td>18</td></tr>",
                            "<tr><td>23</td><td>2</td><td>18</td></tr>",
                            "<tr><td>37</td><td>2</td><td>18</td></tr>",
                            "<tr><td>68</td><td>2</td><td>18</td></tr>",
                            "<tr><td>71</td><td>3</td><td>19</td></tr>",
                            "<tr><td>30</td><td>3</td><td>19</td></tr>",
                            "<tr><td>31</td><td>3</td><td>19</td></tr>",
                            "<tr><td>14</td><td>3</td><td>19</td></tr>",
                            "<tr><td>135</td><td>3</td><td>19</td></tr>",
                            "<tr><td>162</td><td>3</td><td>19</td></tr>",
                            "<tr><td>179</td><td>3</td><td>19</td></tr>",
                            "<tr><td>24</td><td>4</td><td>20</td></tr>",
                            "<tr><td>26</td><td>2</td><td>21</td></tr>",
                            "<tr><td>47</td><td>2</td><td>21</td></tr>",
                            "<tr><td>53</td><td>2</td><td>21</td></tr>",
                            "<tr><td>56</td><td>2</td><td>21</td></tr>",
                            "<tr><td>108</td><td>2</td><td>21</td></tr>",
                            "<tr><td>102</td><td>2</td><td>21</td></tr>",
                            "<tr><td>105</td><td>2</td><td>21</td></tr>",
                            "<tr><td>192</td><td>2</td><td>21</td></tr>",
                            "<tr><td>167</td><td>3</td><td>22</td></tr>",
                            "<tr><td>116</td><td>3</td><td>22</td></tr>",
                            "<tr><td>142</td><td>3</td><td>22</td></tr>",
                            "<tr><td>25</td><td>3</td><td>22</td></tr>",
                            "<tr><td>41</td><td>3</td><td>22</td></tr>",
                            "<tr><td>32</td><td>2</td><td>23</td></tr>",
                            "<tr><td>65</td><td>2</td><td>23</td></tr>",
                            "<tr><td>147</td><td>2</td><td>23</td></tr>",
                            "<tr><td>125</td><td>2</td><td>23</td></tr>",
                            "<tr><td>194</td><td>2</td><td>23</td></tr>",
                            "<tr><td>60</td><td>3</td><td>24</td></tr>",
                            "</table>"
                        ]
                    }
                }
            ],
            "execution_count": 23
        },
        {
            "cell_type": "markdown",
            "source": [
                ""
            ],
            "metadata": {
                "azdata_cell_guid": "fe661816-e68b-4212-bb70-d882f890a8bf"
            },
            "attachments": {}
        },
        {
            "cell_type": "code",
            "source": [
                "SELECT szallashely.SZALLAS_NEV, SUM(Foglalas.FELNOTT_SZAM+GYERMEK_SZAM) AS 'Össz foglalás'\r\n",
                "FROM szallashely INNER JOIN Szoba ON szallashely.SZALLAS_ID = szoba.SZALLAS_FK\r\n",
                "INNER JOIN Foglalas ON Foglalas.SZOBA_FK = Szoba.SZOBA_ID\r\n",
                "GROUP BY szallashely.SZALLAS_NEV\r\n",
                "HAVING SUM(Foglalas.FELNOTT_SZAM+GYERMEK_SZAM) = (SELECT TOP 1 SUM(Foglalas.FELNOTT_SZAM+GYERMEK_SZAM)\r\n",
                "                                                    FROM szallashely INNER JOIN Szoba ON szallashely.SZALLAS_ID = szoba.SZALLAS_FK\r\n",
                "                                                    INNER JOIN Foglalas ON Foglalas.SZOBA_FK = Szoba.SZOBA_ID\r\n",
                "                                                    GROUP BY szallashely.SZALLAS_NEV\r\n",
                "                                                    ORDER BY SUM(Foglalas.FELNOTT_SZAM+GYERMEK_SZAM) ASC)"
            ],
            "metadata": {
                "azdata_cell_guid": "9f8a5df2-a27d-4301-8d26-84a59f90a5a3",
                "language": "sql"
            },
            "outputs": [
                {
                    "output_type": "display_data",
                    "data": {
                        "text/html": "(1 row affected)"
                    },
                    "metadata": {}
                },
                {
                    "output_type": "display_data",
                    "data": {
                        "text/html": "Total execution time: 00:00:00.009"
                    },
                    "metadata": {}
                },
                {
                    "output_type": "execute_result",
                    "metadata": {},
                    "execution_count": 22,
                    "data": {
                        "application/vnd.dataresource+json": {
                            "schema": {
                                "fields": [
                                    {
                                        "name": "SZALLAS_NEV"
                                    },
                                    {
                                        "name": "Össz foglalás"
                                    }
                                ]
                            },
                            "data": [
                                {
                                    "SZALLAS_NEV": "Családi Ház",
                                    "Össz foglalás": "52"
                                }
                            ]
                        },
                        "text/html": [
                            "<table>",
                            "<tr><th>SZALLAS_NEV</th><th>Össz foglalás</th></tr>",
                            "<tr><td>Családi Ház</td><td>52</td></tr>",
                            "</table>"
                        ]
                    }
                }
            ],
            "execution_count": 22
        }
    ]
}