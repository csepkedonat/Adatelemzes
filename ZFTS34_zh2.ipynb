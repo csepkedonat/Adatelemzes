{
    "metadata": {
        "kernelspec": {
            "name": "SQL",
            "display_name": "SQL",
            "language": "sql"
        },
        "language_info": {
            "name": "sql",
            "version": ""
        }
    },
    "nbformat_minor": 2,
    "nbformat": 4,
    "cells": [
        {
            "cell_type": "code",
            "source": [
                "SELECT Szoba_ID,\r\n",
                "DENSE_RANK() OVER(PARTITION BY SZOBA_ID ORDER BY COUNT(*))\r\n",
                "FROM Szoba INNER JOIN Foglalas ON Foglalas.SZOBA_FK=Szoba.SZOBA_ID\r\n",
                ""
            ],
            "metadata": {
                "azdata_cell_guid": "945f7791-b9f0-4d14-9dea-471c09a62458",
                "language": "sql"
            },
            "outputs": [
                {
                    "output_type": "error",
                    "evalue": "Msg 8120, Level 16, State 1, Line 1\r\nColumn 'Szoba.SZOBA_ID' is invalid in the select list because it is not contained in either an aggregate function or the GROUP BY clause.",
                    "ename": "",
                    "traceback": []
                },
                {
                    "output_type": "display_data",
                    "data": {
                        "text/html": "Total execution time: 00:00:00.002"
                    },
                    "metadata": {}
                }
            ],
            "execution_count": 13
        },
        {
            "cell_type": "code",
            "source": [
                "SELECT szallashely.SZALLAS_NEV, SUM(Foglalas.FELNOTT_SZAM+GYERMEK_SZAM)\r\n",
                "FROM szallashely INNER JOIN Szoba ON szallashely.SZALLAS_ID = szoba.SZALLAS_FK\r\n",
                "INNER JOIN Foglalas ON Foglalas.SZOBA_FK = Szoba.SZOBA_ID\r\n",
                "GROUP BY szallashely.SZALLAS_NEV\r\n",
                "HAVING SUM(Foglalas.FELNOTT_SZAM+GYERMEK_SZAM) = (SELECT MIN(SUM(Foglalas.FELNOTT_SZAM+GYERMEK_SZAM))\r\n",
                "                                                    FROM szallashely INNER JOIN Szoba ON szallashely.SZALLAS_ID = szoba.SZALLAS_FK\r\n",
                "                                                    INNER JOIN Foglalas ON Foglalas.SZOBA_FK = Szoba.SZOBA_ID\r\n",
                "                                                    GROUP BY szallashely.SZALLAS_NEV)"
            ],
            "metadata": {
                "azdata_cell_guid": "9f8a5df2-a27d-4301-8d26-84a59f90a5a3",
                "language": "sql"
            },
            "outputs": [
                {
                    "output_type": "error",
                    "evalue": "Msg 130, Level 15, State 1, Line 5\r\nCannot perform an aggregate function on an expression containing an aggregate or a subquery.",
                    "ename": "",
                    "traceback": []
                },
                {
                    "output_type": "display_data",
                    "data": {
                        "text/html": "Total execution time: 00:00:00.005"
                    },
                    "metadata": {}
                }
            ],
            "execution_count": 18
        },
        {
            "cell_type": "code",
            "source": [
                ""
            ],
            "metadata": {
                "azdata_cell_guid": "0ca454c8-4b41-4578-b211-e3552e563fb7",
                "language": "sql"
            },
            "outputs": [],
            "execution_count": null
        }
    ]
}