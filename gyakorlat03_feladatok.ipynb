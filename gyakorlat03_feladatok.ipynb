{
    "metadata": {
        "kernelspec": {
            "name": "SQL",
            "display_name": "SQL",
            "language": "sql"
        },
        "language_info": {
            "name": "sql",
            "version": ""
        },
        "extensions": {
            "azuredatastudio": {
                "version": 1,
                "views": []
            }
        }
    },
    "nbformat_minor": 2,
    "nbformat": 4,
    "cells": [
        {
            "cell_type": "markdown",
            "source": [
                "**Az első 5 feladat ismétlés (többtáblás lekérdezések) a tanulmányi adatbázisból**\n",
                "\n",
                "1. Készítsünk listát arról, hogy melyik óra melyik teremben van!\n",
                "    \n",
                "    1. Jelenítsük meg az óra azonosítóját és a terem nevét!\n",
                "    2. A listát szűrjük a 3 karakter hosszú, \\[100;199\\] zárt intervallumba eső termekre! Feltesszük, hogy a 3 karakter hosszú terem nevek csak számjegyeket tartalmaznak."
            ],
            "metadata": {
                "azdata_cell_guid": "77f2d5b3-38e9-41cc-893f-f5afd02b97ef"
            },
            "attachments": {}
        },
        {
            "cell_type": "code",
            "source": [
                ""
            ],
            "metadata": {
                "azdata_cell_guid": "bd3cef1a-4e6e-4ece-9dc3-aaa9d2b5d66d",
                "language": "sql"
            },
            "outputs": [],
            "execution_count": null
        },
        {
            "cell_type": "markdown",
            "source": [
                "2. <span style=\"font-weight: 600; color: rgb(36, 41, 47); font-family: -apple-system, BlinkMacSystemFont, &quot;Segoe UI&quot;, Helvetica, Arial, sans-serif, &quot;Apple Color Emoji&quot;, &quot;Segoe UI Emoji&quot;; font-size: 16px;\">Hány óra van összesen az egyes napokon?</span>\n",
                "\n",
                "1. Jelenítsük meg a napok nevét és az órák számát az adott napon!\n",
                "2. Az oszlopokat nevezzük el értelemszerűen!\n",
                "3. A listát rendezzük óraszám szerint növekvő sorrendbe!"
            ],
            "metadata": {
                "azdata_cell_guid": "88f5b4bb-f4c1-4bad-a0c7-b2592687b422"
            },
            "attachments": {}
        },
        {
            "cell_type": "code",
            "source": [
                "SELECT n.nap, COUNT(ORA_ID) AS \"Órák száma\"\r\n",
                "FROM Orak o JOIN Napok n ON o.nap = n.nap_id\r\n",
                "GROUP BY n.nap\r\n",
                "ORDER BY COUNT(ORA_ID)"
            ],
            "metadata": {
                "azdata_cell_guid": "e9de5726-f036-4fb9-8c33-a873955ed886",
                "language": "sql"
            },
            "outputs": [
                {
                    "output_type": "display_data",
                    "data": {
                        "text/html": "(5 rows affected)"
                    },
                    "metadata": {}
                },
                {
                    "output_type": "display_data",
                    "data": {
                        "text/html": "Total execution time: 00:00:00.081"
                    },
                    "metadata": {}
                },
                {
                    "output_type": "execute_result",
                    "metadata": {},
                    "execution_count": 1,
                    "data": {
                        "application/vnd.dataresource+json": {
                            "schema": {
                                "fields": [
                                    {
                                        "name": "nap"
                                    },
                                    {
                                        "name": "Órák száma"
                                    }
                                ]
                            },
                            "data": [
                                {
                                    "nap": "Péntek",
                                    "Órák száma": "6"
                                },
                                {
                                    "nap": "Szerda",
                                    "Órák száma": "6"
                                },
                                {
                                    "nap": "Kedd",
                                    "Órák száma": "13"
                                },
                                {
                                    "nap": "Csütörtök",
                                    "Órák száma": "19"
                                },
                                {
                                    "nap": "Hétfő",
                                    "Órák száma": "23"
                                }
                            ]
                        },
                        "text/html": [
                            "<table>",
                            "<tr><th>nap</th><th>Órák száma</th></tr>",
                            "<tr><td>Péntek</td><td>6</td></tr>",
                            "<tr><td>Szerda</td><td>6</td></tr>",
                            "<tr><td>Kedd</td><td>13</td></tr>",
                            "<tr><td>Csütörtök</td><td>19</td></tr>",
                            "<tr><td>Hétfő</td><td>23</td></tr>",
                            "</table>"
                        ]
                    }
                }
            ],
            "execution_count": 1
        },
        {
            "cell_type": "markdown",
            "source": [
                "3. <span style=\"font-weight: 600; color: rgb(36, 41, 47); font-family: -apple-system, BlinkMacSystemFont, &quot;Segoe UI&quot;, Helvetica, Arial, sans-serif, &quot;Apple Color Emoji&quot;, &quot;Segoe UI Emoji&quot;; font-size: 16px;\">Készítsünk listát arról, hogy melyik oktatónak hány órája van az Órák táblában!</span>\n",
                "\n",
                "1. A lista jelenítse meg az oktatók nevét, és az órák számát!\n",
                "2. Az oszlopokat nevezzük el értelemszerűen!\n",
                "3. A listából hagyjuk ki az óraadókat!"
            ],
            "metadata": {
                "azdata_cell_guid": "9e7249de-1b59-43d8-84b1-26fa7d81fc5a"
            },
            "attachments": {}
        },
        {
            "cell_type": "code",
            "source": [
                "SELECT ok.nev, COUNT(ora_id) AS \"Órák száma\"\r\n",
                "FROM Oktatok ok JOIN Orak o ON tanar = oktato_id\r\n",
                "GROUP BY ok.nev"
            ],
            "metadata": {
                "azdata_cell_guid": "6405d3e8-a9b1-45d7-aa76-3b1e785ef6cc",
                "language": "sql"
            },
            "outputs": [
                {
                    "output_type": "display_data",
                    "data": {
                        "text/html": "(20 rows affected)"
                    },
                    "metadata": {}
                },
                {
                    "output_type": "display_data",
                    "data": {
                        "text/html": "Total execution time: 00:00:00.013"
                    },
                    "metadata": {}
                },
                {
                    "output_type": "execute_result",
                    "metadata": {},
                    "execution_count": 6,
                    "data": {
                        "application/vnd.dataresource+json": {
                            "schema": {
                                "fields": [
                                    {
                                        "name": "nev"
                                    },
                                    {
                                        "name": "Órák száma"
                                    }
                                ]
                            },
                            "data": [
                                {
                                    "nev": "Aranyi Mária",
                                    "Órák száma": "1"
                                },
                                {
                                    "nev": "Balkán András",
                                    "Órák száma": "3"
                                },
                                {
                                    "nev": "Farkasos Piroska",
                                    "Órák száma": "7"
                                },
                                {
                                    "nev": "Jogrerős Pál",
                                    "Órák száma": "2"
                                },
                                {
                                    "nev": "Juhász András",
                                    "Órák száma": "2"
                                },
                                {
                                    "nev": "Kiss János",
                                    "Órák száma": "4"
                                },
                                {
                                    "nev": "Kovács András",
                                    "Órák száma": "4"
                                },
                                {
                                    "nev": "Kovács László",
                                    "Órák száma": "4"
                                },
                                {
                                    "nev": "Ludas Mátyás",
                                    "Órák száma": "2"
                                },
                                {
                                    "nev": "Nógrádi Kata",
                                    "Órák száma": "1"
                                },
                                {
                                    "nev": "Pelikán József",
                                    "Órák száma": "6"
                                },
                                {
                                    "nev": "Róbert Gida",
                                    "Órák száma": "1"
                                },
                                {
                                    "nev": "Szabó Andrera",
                                    "Órák száma": "2"
                                },
                                {
                                    "nev": "Szénási ászló",
                                    "Órák száma": "2"
                                },
                                {
                                    "nev": "Szentágotai Istvás",
                                    "Órák száma": "8"
                                },
                                {
                                    "nev": "Szép llonka",
                                    "Órák száma": "4"
                                },
                                {
                                    "nev": "Szerb László",
                                    "Órák száma": "3"
                                },
                                {
                                    "nev": "Ujfalussi István",
                                    "Órák száma": "3"
                                },
                                {
                                    "nev": "Varga Kata",
                                    "Órák száma": "4"
                                },
                                {
                                    "nev": "Vitéz János",
                                    "Órák száma": "4"
                                }
                            ]
                        },
                        "text/html": [
                            "<table>",
                            "<tr><th>nev</th><th>Órák száma</th></tr>",
                            "<tr><td>Aranyi Mária</td><td>1</td></tr>",
                            "<tr><td>Balkán András</td><td>3</td></tr>",
                            "<tr><td>Farkasos Piroska</td><td>7</td></tr>",
                            "<tr><td>Jogrerős Pál</td><td>2</td></tr>",
                            "<tr><td>Juhász András</td><td>2</td></tr>",
                            "<tr><td>Kiss János</td><td>4</td></tr>",
                            "<tr><td>Kovács András</td><td>4</td></tr>",
                            "<tr><td>Kovács László</td><td>4</td></tr>",
                            "<tr><td>Ludas Mátyás</td><td>2</td></tr>",
                            "<tr><td>Nógrádi Kata</td><td>1</td></tr>",
                            "<tr><td>Pelikán József</td><td>6</td></tr>",
                            "<tr><td>Róbert Gida</td><td>1</td></tr>",
                            "<tr><td>Szabó Andrera</td><td>2</td></tr>",
                            "<tr><td>Szénási ászló</td><td>2</td></tr>",
                            "<tr><td>Szentágotai Istvás</td><td>8</td></tr>",
                            "<tr><td>Szép llonka</td><td>4</td></tr>",
                            "<tr><td>Szerb László</td><td>3</td></tr>",
                            "<tr><td>Ujfalussi István</td><td>3</td></tr>",
                            "<tr><td>Varga Kata</td><td>4</td></tr>",
                            "<tr><td>Vitéz János</td><td>4</td></tr>",
                            "</table>"
                        ]
                    }
                }
            ],
            "execution_count": 6
        },
        {
            "cell_type": "markdown",
            "source": [
                "4. <span style=\"color: rgb(36, 41, 47); font-family: -apple-system, BlinkMacSystemFont, &quot;Segoe UI&quot;, Helvetica, Arial, sans-serif, &quot;Apple Color Emoji&quot;, &quot;Segoe UI Emoji&quot;; font-size: 16px;\">Van-e olyan tantárgy, amelyből nincs óra?</span>\n",
                "\n",
                "1. Jelentsük meg a tantárgy nevét és a tantárgyfelelős nevét!"
            ],
            "metadata": {
                "azdata_cell_guid": "6478e469-c094-472c-a772-ccd5b5c61516"
            },
            "attachments": {}
        },
        {
            "cell_type": "code",
            "source": [
                "SELECT t.Tantárgynév, o.targy\r\n",
                "FROM Tantárgyak t LEFT JOIN Orak o ON t.Tkód = o.targy\r\n",
                "WHERE o.targy IS NULL"
            ],
            "metadata": {
                "azdata_cell_guid": "02031ea2-3838-458d-839c-228e3b362b61",
                "language": "sql"
            },
            "outputs": [
                {
                    "output_type": "display_data",
                    "data": {
                        "text/html": "(1 row affected)"
                    },
                    "metadata": {}
                },
                {
                    "output_type": "display_data",
                    "data": {
                        "text/html": "Total execution time: 00:00:00.009"
                    },
                    "metadata": {}
                },
                {
                    "output_type": "execute_result",
                    "metadata": {},
                    "execution_count": 9,
                    "data": {
                        "application/vnd.dataresource+json": {
                            "schema": {
                                "fields": [
                                    {
                                        "name": "Tantárgynév"
                                    },
                                    {
                                        "name": "targy"
                                    }
                                ]
                            },
                            "data": [
                                {
                                    "Tantárgynév": "Folyami gáttan",
                                    "targy": "NULL"
                                }
                            ]
                        },
                        "text/html": [
                            "<table>",
                            "<tr><th>Tantárgynév</th><th>targy</th></tr>",
                            "<tr><td>Folyami gáttan</td><td>NULL</td></tr>",
                            "</table>"
                        ]
                    }
                }
            ],
            "execution_count": 9
        },
        {
            "cell_type": "markdown",
            "source": [
                "5. <span style=\"background-color: rgb(255, 255, 255); color: rgb(36, 41, 47); font-family: -apple-system, BlinkMacSystemFont, &quot;Segoe UI&quot;, Helvetica, Arial, sans-serif, &quot;Apple Color Emoji&quot;, &quot;Segoe UI Emoji&quot;; font-size: 16px;\">Hány óra van összesen a 120-as teremben?</span>"
            ],
            "metadata": {
                "azdata_cell_guid": "9edbbaf9-c276-4898-9a01-e1b2993c089f"
            },
            "attachments": {}
        },
        {
            "cell_type": "code",
            "source": [
                ""
            ],
            "metadata": {
                "azdata_cell_guid": "5ad5fdcb-2878-4111-861a-833bcd50e935",
                "language": "sql"
            },
            "outputs": [],
            "execution_count": null
        },
        {
            "cell_type": "markdown",
            "source": [
                "**A 6-10 feladatokat halmazműveletek segítségével oldjuk meg, szintén a tanulmányi adatbázison**\n",
                "\n",
                "6. <span style=\"background-color:rgb(255, 255, 255);color:rgb(36, 41, 47);font-family:-apple-system, BlinkMacSystemFont, &quot;Segoe UI&quot;, Helvetica, Arial, sans-serif, &quot;Apple Color Emoji&quot;, &quot;Segoe UI Emoji&quot;;font-size:16px;font-weight:600;\">Jelenítsük meg azon tanárok azonosítóját és nevét, akik hétfői vagy keddi napokon tanítanak!</span>"
            ],
            "metadata": {
                "azdata_cell_guid": "5fe65c1c-2479-45ac-ad03-ec99d12eae21"
            },
            "attachments": {}
        },
        {
            "cell_type": "code",
            "source": [
                "SELECT nap\r\n",
                "FROM Napok\r\n",
                "\r\n",
                "EXCEPT\r\n",
                "\r\n",
                "SELECT n.nap\r\n",
                "FROM Napok n INNER JOIN Orak o ON n.nap_id = o.nap\r\n",
                "    INNER JOIN Oktatok ok ON o.tanar = ok.oktato_id\r\n",
                "WHERE ok.nev LIKE 'Pelikán József'"
            ],
            "metadata": {
                "azdata_cell_guid": "924f2dde-f1c2-4def-a7f9-dbf4bace7735",
                "language": "sql"
            },
            "outputs": [
                {
                    "output_type": "display_data",
                    "data": {
                        "text/html": "(3 rows affected)"
                    },
                    "metadata": {}
                },
                {
                    "output_type": "display_data",
                    "data": {
                        "text/html": "Total execution time: 00:00:00.015"
                    },
                    "metadata": {}
                },
                {
                    "output_type": "execute_result",
                    "metadata": {},
                    "execution_count": 10,
                    "data": {
                        "application/vnd.dataresource+json": {
                            "schema": {
                                "fields": [
                                    {
                                        "name": "nap"
                                    }
                                ]
                            },
                            "data": [
                                {
                                    "nap": "Csütörtök"
                                },
                                {
                                    "nap": "Péntek"
                                },
                                {
                                    "nap": "Szerda"
                                }
                            ]
                        },
                        "text/html": [
                            "<table>",
                            "<tr><th>nap</th></tr>",
                            "<tr><td>Csütörtök</td></tr>",
                            "<tr><td>Péntek</td></tr>",
                            "<tr><td>Szerda</td></tr>",
                            "</table>"
                        ]
                    }
                }
            ],
            "execution_count": 10
        },
        {
            "cell_type": "markdown",
            "source": [
                "7. <span style=\"background-color: rgb(255, 255, 255); color: rgb(36, 41, 47); font-family: -apple-system, BlinkMacSystemFont, &quot;Segoe UI&quot;, Helvetica, Arial, sans-serif, &quot;Apple Color Emoji&quot;, &quot;Segoe UI Emoji&quot;; font-size: 16px; font-weight: 600;\">Melyek azok a tantárgyak, amelyek esetén van óra a 8.00-kor kezdődő sávban, de nincs a 12.30-kor kezdődő sávban?</span>"
            ],
            "metadata": {
                "azdata_cell_guid": "3aeb6bf5-b111-40d5-92b2-9712ce335696"
            },
            "attachments": {}
        },
        {
            "cell_type": "code",
            "source": [
                ""
            ],
            "metadata": {
                "azdata_cell_guid": "3e89b651-f56f-4102-af52-30eb2bbe360d",
                "language": "sql"
            },
            "outputs": [],
            "execution_count": null
        },
        {
            "cell_type": "markdown",
            "source": [
                "8. <span style=\"background-color: rgb(255, 255, 255); color: rgb(36, 41, 47); font-family: -apple-system, BlinkMacSystemFont, &quot;Segoe UI&quot;, Helvetica, Arial, sans-serif, &quot;Apple Color Emoji&quot;, &quot;Segoe UI Emoji&quot;; font-size: 16px; font-weight: 600;\">Listázzuk azokat a termeket, amelyekben oktat Kovács László és van olyan tanóra a teremben, ahol a tantárgy nevében nem szerepel az 'ürge' szó!</span>"
            ],
            "metadata": {
                "azdata_cell_guid": "26a504dc-ff6a-439f-94c0-4580eca3eacf"
            },
            "attachments": {}
        },
        {
            "cell_type": "code",
            "source": [
                ""
            ],
            "metadata": {
                "azdata_cell_guid": "1cbb8aeb-78b5-4350-aa45-e3202fdab85b",
                "language": "sql"
            },
            "outputs": [],
            "execution_count": null
        },
        {
            "cell_type": "markdown",
            "source": [
                "9. <span style=\"font-weight: 600; color: rgb(36, 41, 47); font-family: -apple-system, BlinkMacSystemFont, &quot;Segoe UI&quot;, Helvetica, Arial, sans-serif, &quot;Apple Color Emoji&quot;, &quot;Segoe UI Emoji&quot;; font-size: 16px;\">Készítsünk listát arról, hogy melyik tanárnak hány órája van a (munka) hét elején (hétfőn), hét közben (kedd, szerda és csütörtök), illetve a hét végén (péntek)!</span>\n",
                "\n",
                "1. Jelenítsük meg a tanár azonosítóját, nevét, az időszakot (hét eleje - hét közben - hét vége), valamint az óraszámot!\n",
                "2. A három megjelölt időszakot külön kérdezzük le, majd fűzzük össze a lekérdezések eredményeit!\n",
                "3. Rendezzük a listát az oktató neve, azon belül időszak szerint!"
            ],
            "metadata": {
                "azdata_cell_guid": "435e2860-2dd5-4877-90f4-34a43baeb53c"
            },
            "attachments": {}
        },
        {
            "cell_type": "code",
            "source": [
                ""
            ],
            "metadata": {
                "azdata_cell_guid": "ce846351-ddbe-4d8e-b8fb-2a92c73ac80b",
                "language": "sql"
            },
            "outputs": [],
            "execution_count": null
        },
        {
            "cell_type": "markdown",
            "source": [
                "10. <span style=\"background-color: rgb(255, 255, 255); color: rgb(36, 41, 47); font-family: -apple-system, BlinkMacSystemFont, &quot;Segoe UI&quot;, Helvetica, Arial, sans-serif, &quot;Apple Color Emoji&quot;, &quot;Segoe UI Emoji&quot;; font-size: 16px; font-weight: 600;\">Melyik napokon nincs órája Pelikán Józsefnek?</span>"
            ],
            "metadata": {
                "azdata_cell_guid": "217c5772-afe2-4a7c-b913-e3a3e09d6411"
            },
            "attachments": {}
        },
        {
            "cell_type": "code",
            "source": [
                ""
            ],
            "metadata": {
                "azdata_cell_guid": "a9cc0926-3dbd-4ed8-8179-1c39d64a0762",
                "language": "sql"
            },
            "outputs": [],
            "execution_count": null
        },
        {
            "cell_type": "markdown",
            "source": [
                "![](data:image/png;base64,iVBORw0KGgoAAAANSUhEUgAAAysAAAHACAYAAACiS/c0AAAgAElEQVR4nOzdd3xV9f348dfdO7nZew+ySEKYIQzZewuCiFvRqm2trZ3ftra2/mpbB3WLW5QlogxBZM+wZxISkkDIDtnr5s7fH0mQICBE4CbwefLQR3Lm+96be855f6akorrOgSAIgiAIgiAIQhcjbyot5cAf/uDsOIRbmEyrZeBrrzk7DEEQBEEQBKGbkTusVpqKi50dh3ALk+v1zg5BEARBuEnOHTzI8ZdecnYYQhcRdtddhEya5OwwhG5M3v6DW3Q0w1992ZmxCLcYh93Oigm39gVq77PP0nD6tLPDEIROC5s1i7A773R2GMItxG4203LunLPDELoIW3Ozs0MQurnzyYpULkftZnRmLMItxmG3OzuEG87a0IClrs7ZYQhCp9lbWpwdgnCLChk5gv5/+J2zwxCcJHPR5xx7731nhyHcAuQ/vokgCD9m0tLF6P39nB2GIFy1rM+Xcuj1150dhnALk8rlKLRaZ4chOIlMqXR2CMItQiQrgnAdSOVypHLxdRK6D4lM6uwQBEEQBOFHibuVIAiCIAiCIAhdkkhWBEEQBEEQBEHokkSyIgiCIAiCIAhClySSFUEQBEEQBEEQuiSRrAiCIAiCIAiC0CWJZEUQBEEQBEEQhC5JJCuCIAiCIAiCIHRJIlkRBEEQBEEQBKFLEsmKIAiCIAiCIAhdkkhWughrYyV5x/aSnlmGydnBCIIgCIIgCEIXIL8hR604wbr0HOqbLRcsNJI4diQ9DJIbcsruzlyZz86vPmSXfhZ/j/VB7eyABEEQBEG4Jpb6MvJycqlUh5MS5yvu5YJwHdyYZOX0Rhb8exOe/eMI06uRAcXpW9hWauGJ+8YT43JDzvoTtFBTkk3G4XN49BtGDw9nxyMI16Y+eyNr87wZPSoeo0xKVyoSsJnqKMrcy3FTBENTw9A5OyBBELqfonQWbTmF1DOFiWNiMXRYaaauPIdDuwvR9RpMn2Ctk4IE87k8dq7+jMMed9FDJCuCcF3cmGQFgBgmPvUMU4I8UAG566r55TP/YUmvNP4yyPXGnbYzrPUUH/uGRe/lkhokkhWha6jO3cPeQycorL1goX8vxqXG4W/seAus2f8ZL37Vh+RhsRhlXat1p62pmsxNi3ivagYpIlkRBKEzTq3hH88vQxo0Ctf4BYwPvHCliaqzu1j++kZ8f53s1GRFEITr76Y91USMnUo85WTn1dysU149qxVLQz11zo5DEABMJRzb8hXvLVjE+r1ZlNTXU19fT319KYfXL+Gjtxex7VQlTdZrOaiZ2rLDbFr8JYdKrzWgCo6uW8GmfWeoar7WfQVBEK6XSMI0m1m0cBtnnR2KIAg3zQ2sWblIdRWVgLvR+P0ym4nq0+l89fVBqgGUbgTFD2LsHZHoL9i1Jn8/u3dtJ6u8fYkfyaMG0SchsENVcFH6Er49VExN+wNV9GgeGxWDpvEIn320jTKHo0NIcp0bwYlp+J9dwoqNxygsbWTzZy9TERlIQv87GBVvoDRjH7t27udMQ9tOvomMGtyXhMDv27KV7P+Cbw8UUNXUtiByJA+PisGgVgDgsNvIWb+ANVnteygxeCYzbl4aAVd4y2ryD7Bn1zbOanqRNnAAcb6iQvnWV82pPd/w6Wf7aXbvzZ33jKHX+b/zRnK3b2DFpx/z8dsge3omff1dUF7NYa1NVOZsYdmn++gTM41evtcQUmMe21d8Qm5PD4IjQ3DXdOZ1CYIg/DQSaRwT5kex4U9vsnBYKM8NDXZ2SIIg3AQ3KVmpZt9nX3Myfiov9GprAmZroTZ/K5+8s4xD1ngGxWupq8hj65dnMbs8zN0pfkAt+Qd2s3rpVkrVavyDA1ED507s5KsPMymddR+jk8LxUNWTuX4lS9btQxEaiZeLDhln2LSrAMsd0WikKnQuLrg4HIADc2Mhu5d/Sa7/VH7VdyhKrR6dWolMZkatc8HFoEOjkELNGTJPZnKyRoG3uwao5MSu1XxRa0Nz51AiPM2c/G4Vy75Jh8AwvF0MyDjLlvQCWoZEtSUreaz99zK+OXWasAF9MAKWpgZy1r9GgbmK2TMnEXeJPjw1pw+w/rN32FykIGp0KgpZV+qFINwozcUZbF23n0r3Ptz/5J0MCrzwj0NHxOCp3OtSwb9+t47VO3oRPSkRL81VfI3tdqydrT1saqLBasHy41sKgiDcMBKJlKjhj2FIeZz/LVzB9KRfkmS83NYtlGcfYMd328mpb1vkHccdQwfRP9wNgIZT21iz9Rz+QxPR5e4m/UQxdW0XuqgxjzIu3g2N4vsj2q1mMte8zOrzBY8qjD59mHD/IDq0SrtIVc4utm/fTqGhH8MGp4qCR0G4RjcwWcli9f/+ywm9Ghn1ZK4/TfLv/0ZaEICdlsYCtiz+lI1N/Xj2Vw+SFq6i4cw+lr/9Lmu+2k7fqFl4VR7hu1UrybD34a65k0mN9kYF1ORtZsnrC/lmzTbCfLzwCCnl0KoVnDHew9OzxxPvo0FGKUn7rWiUUtDFM+XBeADs5ibyvnuJ7dooxsy9l7G9wtDFzoaWSk4WlpM65SHuSWh7CQ1mQhLvICAtmGhvNVDDnvf+ydvpOznUJ4FAz2aOfPMVecqpPDFrMskBOmSU0eugBYO69a09tfpl3vjWwYTf/oJ5o2MwABZTDccDa3nr089YEpDMc2ODOrxzLWVZ7PnqczYXutDvroeZlNoDL9WN+6SErqKZkoxjHKuQEj2xD0mBlx6JwidpKiNS1vDm1oMUDY3GXaP/wTY2i4kTX73IqjwDIamTiS54j8WbjnGmvJoN7/+NonB/4tLGc2dfD0oz09m6fgsn2zMZ30RGDR9KaqQbpYe+Zt23q9mdW05D3We8WboV1/iRPDI+Bb+2fjO5615m2YF6zLbW3eXK3tz1uwlEXOGV1hedYNe3X3DMFsfA4WMZGP7D1yAIgtCRBLkijOGPzmb7n79g4RdD+PtDKVwyX6krIi8ng6xmI8EBOqCKzCOb+brKhv7uMcT7aWguPMi3KzdQk96TtD7ReHoHYABqj3zBojeqaZr/e2YmuaKSg91+ki///jnflVQTN6QvboC5voacTa/zlrmKObMnE3+JS3bVqd2s/uRddlW7ET/OFa2ia/UpFITu4AYmKwb8IqKIcdcjB2K9dez47h3+ZpvHnyeF0Fi4l2+3FxP95F2khbd2udW7+xEV6cY3mw+TWTGGlsxDHM+TEnvPiPOJCoAxPJURQ3axc0kGGQWDSAiRo1BKaco7RGbJYCI8NOjkvvTpc1FIdivNRVtZ9NFmrKlPc+/wiCt39tX7Ea53pWD/Rt57bxd5DVB75jinaqOobWzCigKFUkpz/mGyiocS7a3DoPAhJaX9ADl89842zINfO5+oACjULkQPnM6QHf/H0vXpFIwNwrNtnak8m21frmRjhoPEyU8wKTVaJCq3jVpKi4qpd7gS4O970Wg3F/KiR0IAlg9PcbrJRAwdH/QdNivHl/2FVz8/htf0nxHsqcPNHk14YBHHs1vwCY0lNtKdADc11J4lNzebfGkQsbF64BzH923l61o7hrnjCDT6ERoahLs+E4lnMOHR0XgHeaBWSIE8vvnPEr7OKCVuRH/ClQqw28hc+Tr/eb6MB372IP3cfxh9fXEmGxctYO1J6DF5FB66m9caVRCE7k0ik+OVOIn7ZhzmhZXvs2V4ClPDLrGh3IWghCFM7xNMjI8aqOeQ4hXe2rCTvTnJRPiFtm1YTpPEh5i0KdzRwwOtHBoHRWB/8dcsXpZKWsx4QuQKslb8m4W7XJn5p6eYNbS1qbqluZJjvjW88/lSlgUnEz+2Y7M0U/Ex9ny5mJ3V/gye8xDj+4TjflXtdgVBuNANfEoIoPf4yedHA6MhBcef5/P8u1JGpP6O6IZyCkuqsa14kV9vbdvF1kTl2WwaFfE0m5ppaqjFZNHjanSl4/O6msCQYNxsh6huMtFCBAPv+yU1H73M12/8mZ16PcrEO/m/Wb1x1bbX4TqwWkrY/OFCtlmH8Jv7hxH6I8MSVWXvYMPaZewq9yA0tCf947WUyIs5faJ9Cx/6z32S6o9fZd3bf2GPiyuqnlP53Z198TSogDKKzzowTva/6MFTilrjRlREAJbtFVRBa7LSXMzJnbkUZ7sSPfxhZgwRicptpbmWqqoqJJpQPNwv27YBAJ3egKzJRJPdjuOidWVbFvCfj48SfM+feWRaauvfecRkHM1n2X3ASuLwmcxMbj+ng7Ck4fj0DyDSSwU0EGl7ibe+283+3BQiBvflDn0D6evTKYwfxJjJQ4lsbUHBqbVv8+F2E4MfeYA5Y3rirpCB3UZBcA0v/W0R70YMot+c6A6xmavOkLX6I1ZnKug790mmDYrBW7SIEAThqkmQK71IGDOPwZt/yfJ3viHxhbQfjhak9SQgREfR4S289853ZNZCQ0kWWTUBxDU0XdCsNZx+Y4bSK7I1UQHQhaYyum8Yn320nzzzKIJ0uWx4dw8Mf5+7hkaeL+RUaIxE95/IwB2H+fq7fRSMDaZ9MNHm4uN8t+wYW/O09JvxMOP7hIlERRA66eYVaeojGDW0B3/ffIrTTRANyFVagnuPYlRUx001Rh/CAqHk2OUPZ25pwWptHw5JQ0DSYO58QknMmRqayvbwzuev8duCWfz+N2MJ0iiR2G0Ub3yHhVtsDPvDgwwJ+ZFMpbmIzD3r2XrMTPS0O7lzUCSBRiXZjsOkn6ls20iNf0Ia0x9XEn26isbSvby/9G3+eLqc3zwznrArzCdjt9sxNV80tJLcgF9wEKHuVeTm55BdkkqA4fLl68ItxmLBbDZTb7Fgtljg6rrOd1C++SVefHMFqvELmD+9Hz86gqfGA/8gLWcPbOCtBes5UQONZTlk14eS0NjM5QccO8XOpftpSniaKUNicVfIWud2kUoJ6DWDSX2/4s8rt5I9J5r28ktzdSH7Vm5m9a5Kekz5PdMHi+aNgiB0glSG1jeOCfePJ+Ofn7FqbxxTZB03qc7bx3cr32drqRdhUamM6qen7HAL5w6YLzqYJ+5uGlQXXYt0ehekDU00OhxAOaVFYPT3uag1hgyN1o2IEH/MB6qogdZkpfEsx3dnkeflRa9xs5g6QCQqgvBT3NT2F4319Ujww8tbjlISS4y/jCJDKGPG9LjE1ibMPgG4anZQdLaYhn7uFzR2qSP3ZC7nXN0Y5uF6vtbCLaI/gyMAUyL+phd5+P017JwznJkRSiSlG3jzjY34z32DB4cE8aOjsFsbqK2uokUTSlxcHIFGgHpqa5poauq4qTGsL4PCAFMSgdaXeOy9deyceQdBsXEk9ZPy7YGjlD8cgff3B6e5sYSjWSVo46M5X4OtMOAdP5L77zDx1bI1vP2xCu6bzbAo0Z7/tqDRotfpMVVVc66qBq7QSLGyohSLRwgecvn3JYpnv+blVyo4GXAfK+ZeRaICVJ/azbrlC9l8zp+4hNHMCDVQcuBLGva2/NieVJbb0Pb0QCeTXTAJpQSZTE9MXCT2beeogtZkpaWawoPLeadIg2faI8wbKRIVQRA6T6bUEZoynTG9/sBnHyzGb/oFbU5NpeQeWM/mIy1E3DmHWYMiCHJTkkcm6dmZ1zUOu91Oc1NDx4VKI6GRofjpKzh1MoPMkj74ivu4IHTazevpdeQDnvkkk7AZM+inlaPz6MmkEaHkrHmNlSfbN6rjTNYeVi89RA1qAmMSSY6Qs2fxIpZsyqb9clC4cxnL1hUSPngwvWJ8UJLLmjWHKS1t20Lth8xShMToR4CrFKmkjHWvLmBL4AP8ZlYy/hcPvapQoDK6ozO1UFld3bpMo0FnMNBQUs6ZomIAivasZPXG7WRXt++Yz/r1hyksbOuZrPZFZilB4uqLv6scqdSd4ffNwG3/2zzzj28pa9vLVFfBrk9fYmtVH+be35cOU2SqXfHrNY45E4cQXPoVb364hK05F10IhVuTwp/gsBD8LQWcyS+g/LIb5nA4vQKXuETCdRrOD1bj3ovZE5Own9rMFwfKLrv3ec3FZO//lm2ZMhJG3std08Zyxx130C8+BM+fMHOjw+Ggvr6240K5Fu+w3gxPNFKUsZcdOdWX3lkQBOGqyFAbw0idPZOIkjV8tHgb59pX2ZpprKuiSeZHZI9YgtyUQAP1dQ001F98nEqqqptp6VA+c46Mw2cwJ8aToJAhpScpA+DM3sN0vLJaaKgr5Oipc+gTenQoePRKGM1Dc6fQ27qbNz9czBZxHxeETruBNSv7ePcX8/lCpWjNiGrPYJz5Fr+aHI8RCWh9SJ72c35rfp2Xfj2HJXoAK2qfSIbN+C06QOEZz9gHnkKzYgXfvvEM695t7azfjA9pY+5l6uQBBOlbL0LF37zF0oWVmNtG4aqXRPH0/80jxV3N0YUP8dK3+dRov+QPj286H6HC1Zf+c//IE4ONhEQPYkSfQ/zvn4+wJzqRYdPmMHvYOEbkfc6afz7BJqMaTWgKUf49CD9fi9xIyYaFfP5mGS1tw8fWE8b8Z++hr68OuQTcUh7lv28ms/if/+LxOR+gAmwoUHoO4InnZ9HnUiM+qVwI6T+dh8xm3l3yJc//vZiih+cwZUikmP37lqYmdNBQhh86ybJNW9iZGM60JJ8fbJX91XuszfJg8POJeBtV35c46IJImvUQHype4ImXfomDl/nj6CtMqGI30VRfg0nuQ2h4FH6uAPXU1Vzqhn6xGHr2UbEq4xjF5iRcdXJaW2E4sFpL2LvnFMp+c4hv31ymQh/cl2n3uOP5+Yd88PZrSB57klm93K7lDRIEQThPKtfgH38Hs6Yd4A//3USVbxwJAGo1WqORlvIick4XQHQwJQfWsvqbbzh+LoGUDkc5y4Y3lhIb4cWEpCAMQMaSv/Pudh/ueWk4flolUtSMeHAW7z31Bs88r+a/fxqDD9BcVcK2jxewp7E/981LwQA0th9W5YJv8mDubqzjrU9X8vpHEqT338WQSFHDIgjX6sYkK3F38eo7o2ix2DosdguOJ8ClrcGIVI7aP5HRD/yF8LHfPxkpNAY8/Y2tpcVyLe7+8YyZ602vkedoaG9Ar3DBx88bdxd12wNSFFOf+TWDG03ft7FXeRIW5oVWLiVy/P+xINX+gzAlciWuvi6AHI1vT8Y8/hyxdzaCUoebly8uLoHMfDKUIefqsQIKgydGpYU5Jgd6T2/UOJj41NMMqL+gbb/Kg9AQb3TtbfjVPsT2HsWTL4ZRbmo/sQylwZfQYLfzvRJUPrGMf+i3DJG64wrIte5EDL6bZ3oMp9KkxtPHG9EP+dando1lzJxplLy5mPf/35uYn7qPiQPD2pLUKnYvfIm3lh4jcN6zTEoMQS+/qHLUNYQ+s/7En0se4+8vPY3D8TJ/GuMLcjkqDy9cTUcpO3cO8AS1Bp3RiKmshJzTZyA6hKL01Xy9di3HKpPp235MoxueKjUZ5yoxmUyAGjCQOnM6wb/8gt/+WcvL/28mkToVWK2kv/lLFuUM4KnnB2MAzuf2cjUuEQOZNK2Z6oWv8f7bIHnsKWYmX3kwAUEQhEuTotD6ET1wBuPWfsPi9gpbmSfxqeOYfPJDFv2/x9j1lhptaAoxAb2Ja7m4iWsUw8a7cPC9v/JlYTUWoLHMjYl/+yWzEgNRyVqvsW69H+eVd1NY/PcXeGj62ygBu0SNPng4T/9jBkm+l0hCVC6EDJjJI1Yzb3/2BX/9SyGPPH4Pkwf9yEikgiB0cGOSFZ0PUT1+WCL8AzIFao8QEjyuuBFaN19C3a405bYWr7BIvC6z1hAQR8KVpoqH1gcpnzASLgrbzTeEK53aMyTi/LDDlyORqPGOTLigz8oPyVQ6PPx0XPhWyLVG/EKN+P3I8YVbiQqX0EHc+2wsPdcs5IvXHuHDf7TXnlgx9JrFg8/NIzkhFHedEtkljiA1hjDq8VeRSJ7mzy/8jLx983nhTyPxDxvKtNHp/PHvc9n5SRyDZz7KLwZPYGruB3z0/MNselWJPmogSaED6GkzfX9ARQwzZg9n15sf88v7F6Ia8CCv/mwckTGzeWFhT5b/9Tl+OeszJEjAIcHiNYw/fziPFL9L3Lzlajxjh3P3/Wbs77/NS3+p4My8B3nkzuSOzSEFQRAu1OdJVq50/PB+KJVjDO3Lwy+tZoZFjYunByBH65PIpMf+xICZDVgBmcYVFxWYzVZULu5ogdarnA7vnqMYM/NuFCYL9vZlId4YlN/3CZSoPOmRPIqnXulBVXsJjESGUu+Jv6/L+ea4moAkpj0WyjiZS1vBo5GIwffw27hx1FpUuHt6iIJHQbhGYoIDQehqZBqM3oGkzfoF8WMexHTBkFxynTserlpUF9Wo+E16gZXDVfgoZSCRoPaOYvQv3iPpARsyjREPZMjdoxg8/18sn20CmRKtixsanYRJj/+VQXc3YwNkaj1aBVgtNpR617bSPzXGAfN4occUTGYbqI34umtALsU/rB8P/Ps9ppm+H0JZonLD18dw/uatcPVn8EP/IsmmwxOQKjX4Jo7jsef6MdskQ+tiRDSMEAThinTeREZeepVMocY9IIoO0zrJVOjd/dBfYq6nH5Dr8Q4K5cqbSpBIVXiERHGl8lWpUoubd8fRTWQaV7wDXa9YYCkIwuWJZEUQuiilzg1v3dX16ZAbvAm6cJRriRSV0Y/gC1tYSeWoXb0JvqgKQ+vqhfbHqjVUBrx9LzWMthyDd+AVJrAEiUyB1ujdYQQ+qUKNi2cAVxjdWxAEQRAE4SaOBiYIgiAIgiAIgnANRM2KIAiCIAi3Hc/BT/DGADtShUI8DAlCFya+n4IgCIIg3HYkMgWqS41SIghClyKagQmCIAiCIAiC0CWJZEUQBEEQBEEQhC5JJCuCIAiCIAiCIHRJIlkRBEEQBEEQBKFLEsmKIAiCIAiCIAhdkkhWBEEQBEEQBEHoki45dHFLbS21efk3OxbhFuGZEI9UoXB2GIIgCIIgCEI3d8lkpe5MAcc++PBmxyLcIgY//zeUIlkRBEEQ2jSUlFBfcNbZYQg3mMbLE2N4uLPDEG4xl0xWvBJ7MmLBKzc7FkG4JRTt3IXDbnd2GILwA1ovL9xjejg7DOE2VJWVTd6aNc4OQ7jBfPv0EcmKcN05dQb7pqYm9u3bd9n1fn5+REdH38SIBOGny1//LQ6r1dlhCMIPeCUlimRFcIrgYUMJHjbU2WEIgtANOTVZqaqq4vnnn7/s+vHjx4tk5TZ2+nQ+BWfOEBERSUBgoLPDuWqD/vZXZ4cgdEM1NTXU19ffsONrNBo8PT1v2PEFoSuoqKjg8OHDl10fFRVFaGjoTYxIEISfyqnJyoXc3NxITU2lrKyMAwcOODscwclO5+ezdPFnHDp4gHsfeLBbJSs3y/bt26mrq7vkOrlczpgxY25yRMJPUVRURFVVFQaD4bofu7m5GblcLpIVoVN2bNtKi7mFO+4YjkzeZR4bLik3N5cXX3zxsusfffRRkawIQjfTZa46gYGBPP300+zevVskKwJ1dbXU1dU6O4wubdGiReTm5l5ynVarFclKNxQQEED4DWjvXVZWRkFBwU8+zratW2hqbGTYiJGoVKrrEJnQ1W3dspmP3l9Ic3MzgwYN6fLJyoVCQkLo1asXOTk5nDhxwtnhCILQSV1mnpWKigqWLFnCjh07nB2K0AUkJiWTlJzi7DC6jUmTJjFr1iyk0i7zlRZuMVs2b+KTjz7kow/ew2RqdnY4wk1SU1ONvZsOGBIXF8cTTzxBWlqas0MRBOEn6DJPNqWlpSxcuJBvv/32Jxylgdwdq/j2UCGN5u55cb0eivetYPHaw1RabTgusd5mqqfg4AbW7Myj8aZHJ9wIc+fO5ZFHHkHejUo9he7F3NKCw3H7XldvV1OmTker1To7jE45deoUn376qWitIQjdXJdJVq6PRnK3fcW6Q4U03dbJynI+X32YSuul3wN7Sz1nDq5ndRdOVjJOHOfE8WMAHDywn1M5OU6OqGtbvHgx77//PlYxCplwg4weOw6DwcXZYQjCVcvJyeGjjz7q9snKmW0f8tGq41yuYbSlvoKsPetZl36appsamSDcHE5NVlxdXZk/fz7Tpk3rsDw8PJz58+czZMgQJ0V2/dltFkr3r+Cj1ce5dJfo6ydw4D08OKMvXvLum4sqlSr69uvPPffeT3JyCgqlmGTySlauXMnnn39+w5trlBz8msUbD1FR13JDz9NZdquZk98tvOL3zFx9lsPb1vHt/gJxYxeEH/HlF8tpamr9pny+6JNu2ySsOytKX8rSDVk0XGa9ramS3INb2XyoENFAU7gVObXNiMFg4M477yQrK4v09HRmzJhBfn4+Bw4coLi4GDc3N2eGd33ZbVRlbmbNCTmjJyZwI8snfZPHM+UGHv9miIyKIjIqytlhCBepPLmdbwt60zs+Ci+XrtfB2mG3UrD3K9bUeV/2e2ZtKCf70G6y3D3o2yeY7tnA5eb78ovl1NbWAPDZp5/w0CPzUSqVTo5KuNE8vby4e96953+XSCROjObHhYaG8tRTT5GVlcWGDRvOL+/Tpw+pqanExcU5MbrOCRv5M37WEIurswMRBCfpMg3cPTw8mDx5Mrt372b16tWsWrUKm83GiBEjOnW8miMrWHagvTlYDFN+NZ6ots7HtpYGCvYs5Yt9VYAcF58YhkwZS0zbk03LuTwO7tzAzpy2OQ88o0kbNIjUSPfW3xvy2L5hB4dzy2kBcO3JhMkDiWo5yqfrDnLuolJn70GTiMxYydq9JTTWfMe7LxXgHzGEmRPCMeXs5us1R9qqd10IjO3HsAnJ+AA0l3B09052Hjzd2lxLH0Ha8DRSor250mNi/qa3WWUaxPxRsagUUuxWC1nfvMrak4BUjc4ziqBOvatCVzJv3jzq6+t59913Owxh/Ktf/QqFwjk1URXpn/BZXiz3zunD1RQ1mMqz2X8wiwbPZIZch8RBIlMSN+HnPGbuISSATDAAACAASURBVG7s11lgUBD33vfA+d/FYA63h8FDutdEjr6+vkyePBmtVktpaSmjR49m3759FBYWkp2djZ+fn7NDvGZ+vSYywdlBCIITdZlk5UIxMTFMmzYNf3//Tu1fmb6UFZLBJMUmopRJObX2E97+0J3fPzgQ15ZGjq36H6tyjCT0T8FoqqMi5ygrvnDhvgcG4lKcyY6vlnGozpPwvil400xhTjab1jUiGTuGAZEWDm9Yy4E8Lb7RKXjroTC/BrPVhN3gR2xCEo2m1n4DVfs+5b3jYTw53RVfezI9Ck9w3B5EQq9E/Dw9kTY1UnWmAElkCiku0FCST9ax9WwO8GV2sopT+zeza18FqvAUenhAeXE9dnM9Vq6crFRmbWVjfTgPj4jBYbeT+fWLfLCmlpi5Ywl32Gg6l8/unZUQ0am397opPFvAlyu+6NS+k6dMI+Q2Hyu/fYSbRYsWcd9996HX63nxxRc5dOgQKpWKkSNH3vSYGvJ38126ljuvMlmx1peRc+IIVaHBpPYJ/snnl8rkBCSNIuAnH6nrW758OZMnT75ptRt9+/W/KecRhOslMDCQsWPHUl9fz7Zt28jLyyMkJIS+ffte03Fy1v6HHcZ5jLOv4v1t5SBV4RI+jLmzUlqvc5Y6ijN2sHLNYVrrHo2EJqUyYkIvfGii8PBODhQ48PFSUZ59kONFzUAgA6aNpF+sP/ofOX/26n/xlWQ6v5nQ2trA3FjN0TVv8u0pQOGCh6f/DW2tIQjO1iWTFW9vb4YPH97p/Zs0AfTum8aQGE+UcinJ2kP86t/rODK5H/0bdvHN+kK873+A8Wm+qK31nPW0UrhqC8dzexCUt43dOSYip01n0mBfdFioC9WxbNluDhzMJtio5WRGGfbgMfQfNogwA9RVVCB1cUGu8qL/wLY5Eqr28uZXeobefTdDQ33QBg3FlLuaVU09SB02BD/AbjYRkDyKKcZgvNTQUnwE+/KVHNybTWmPQM7mFlEtC2XcsOEke0JjdTU2heKKicrFHI4sdn65E9XoBcwYHomb3UpDkTvVJ4+wq9Pv8PVRW1vLrh3bO7WvxWxm9ty5+Pr6ixJeWhMXDw8P/vvf/7J582a0Wi3PPPPMNR+nsWA/mzZt5sDptqEXAvsxY0waPYMuXU9Rtf8z3ttwCt2AKSRkr2L1vmLMVev5399O4hU+igdmJ2A/tZXPF++hEgAD/tGpTLi7N4qT+9iwdCnbTlZgOVnFi/lHGDx8OENSgrDnbmftxl1kFLe1wA4bwrxx/Ynw1l0xfpulheOrX2Kjeia/GhcJQHNVEfvXvMvGXEDlib+3G7Jrfme6lmXLlrF//37q6uq47777kMm6+ysSnGnN6lWczMy45v0MBgOPPPazGxDR9Td48GCGDx/eqQkhK7O2sSqzgrqRIxkyJJLm+gzWLfqM992NPDMyHEtDA1UlZeiShpDoCrUF2Zw4sYGtAX7MStZSV3KK9NW7aY4YzKDEZIZEKCjZv5HNq79FpZlE31APrlTkcC5zK1ulQ/nNhCgszXUcWvEyy/dISZozklBbC9Vnj7N5VxWK3p1/fwShK+uSycqxY8f4wx/+QN++fX/Q+f5qeEb3oWewEWVbB3P3pBTCml4jq8BOSsMR9hWW4rliAQVrAByYm6qoNWlxOXUWfUk1ja49SUrxpfWxSIFLUDChbjvYX1RCRctwwsP1HN3/Of8rKuauu0bQK8zrogtNFXuWfEZm4Dh+NTAEnURyySGEpUo1Go2cnLX/4eX9VWBppLLEjLFXI00KH/wCveHYet5/o4FxE0cyNCXomktPHFk72VaVzLxJka0lQFI5Khc/Qv017Kq6xoN1IWfPFlB49iweHl5icrqLPP/8850awvhc1jbWrfiWYvc4+o+PxIN6Tqan88WqFqSTRxAfeNFfX+463li0F3naFAZEBODrNYZBdTkcz4plyNjB+LkGoWoxUXz6LIbU8fR3g4bSMxw99g1rdwcwNyacnn16cbrxGPU+/Rh5RzLhAUaqj6xh7Ze7qQ/rRdr4IFyp5djWrXz0lYUHpw0m1PMKjcUcNsqz97DPMAoAU20p6cv/x9qTbvS9axgh1kZKTu5nw9EavO+45reoS1i6dCkHDx7EZrORkZHBBx98wMMPP3zdz7N82RJyOzEKn7uHJ4/MfwzOX/W6dh+H21n7J5SXe4p9e9OveX+1WoOvnz+Tpky9voHdAEFBQQwaNKjT+ze5xTByyCDi/VS01IdgOfIvlh7Ip2pkOK5aN0J6j8HfxR93FbQUamlevoYTB09RlpwIgEXtRVhsH+4Y0hMPnZxG31oK3tlLVk45Pfw98LyqClIr5ubj7N+UjcfkfzN5UBAuNjNVeQpKc89wqtOvThC6ti6ZrAQFBTFr1iw8PDw6tb9GrepY2q7RoKEZkwlosWDXJTJq3hSiL9hHqtTirraSVyABlQHdhQW4CgUKhQOsVqxSV+JHz8GYVEXm9lWsfnsHS8Im8tT0NMK8WnfKXvU/PskMYOrTqQQaZEgkXCJZMVF5dg/LF3xHqX8co2eNxFh7loNb9nISQK4jrN845gQmcfLgTvYve4Fvtw/jrokjGBDhfvVvRk0NVRJP3IzX8AbeJCGhYfzpL891at/jR49SUVFBi8kkkpWL9OvX79o7wTadJevgDjKbvEibPIHhCa6osBBjNPPexwfYl9EDH68LOqbmruPfq76hLu5h5o/oQ5hRgVTiSc/jOmRFwST160MAYLda8O8zgcku/rgrwVJhxF6SwbrdJ6lKHU14dBT+GUVUBceS0isW14Zc1u/eRb4skrFpYxgQqUeJmWhtHQve38eehBjcXUNwuaouOS001h7jyP5zBM/4JeP6+aK3tVDhaqXwTFVbTU/3smTJEg4fPtxhiOqsrCzeffddHnnkket6rvy8PA4fOnjN+2m1WjzcPZg+887rGo9wI1yqGO3qqVRKeqV0j+L8jRs3cuLECSZOnMgdd1x7SYV/fCrxfhoAFAp3YqP9sWwsphRwV2lQySo4vvKfrX1hLY1UlYPvwKbzo3MZvIOJCA/BQ9f62KULCSNIu5GCsjoaTVxdsmK1Yso8xEFzMveObCu8lCnRunjj76UWyYpwy+qSyYrRaCQ5ObnT+5dVVLbdzNteXnk5JfjR1xuk9R54cwCLJpnkHhft2FBAsYsdTuVythAiA9uXN1LXKEOi16PVgNYYTJRHMAE+HiTkbuOjRXvY3TMaD6MOl/xVvPd1KeEzn6FfgAsy6WUeGk2NVB89zMF6H2bdNYE0f1dsRZC3Z8f5TVQu3oS6eOPn709sXABffnWCQ0fCCPF3p+2a+eO8fPF1HKWiAvBqXWS1WqiqKMfZbWH0ej3xCT07ta+p2URWVgamFhMuoit1B7/4xS9Qq9W8+OKLV79T/TlKSxwog+PoEeXa1tRQgUtYKMGqjeQV11Dfftet2MNH71fgSH2E+yf2JtRVweX+zKVyBUqVnOyvn+e57RVgNVFfZcUQl0Qz8IMcuqaUs6Vq3GJjCAvWt9VYKjH2iCJUupHCogaaE7m6ZKWlmYbMDDKlydw/yLe1XbhMhc7FHS83ZbdLVtoTFYvF8oN12dnZNyRh6QyLxUJh4dlLPgaLOpauKSgomDFjx9MzMRGDy9XX38vlCgKDusdwLYmJiUyYMAEfH59O7a9Rq8//LJVIUSlVOFrMWGiiPHcnS/+3mcqwXkx/IA7Xmnz2bNxH7gX7KxRyFBfWeCsUKGU2bBY7Vz0atMOBo76BeqkRF0OnXoYgdEtdMlk5ePAgjz/+OGlpadxzzz3XvL95/6cs69eHh9LU6JTlfPfOMvL6zOLPwQpUjaMZEbmaDe9+QZ//zKAHFqpLC8g4Uk3cqEQCopMI2v0lO9bvJOqhNAJpIPfAXvaXSYgcEUWYI4Od+8A3IIwI/yDCK3VYW6o5Z7JidWSz8oPV1MVM57E+QRgU0vM3Z4lEgpenN9aSUioAP6kUmUaCwlZCfbMrClMF2cd38t2ecgyDgMYCjueew6yOIiXam2APd5TWes41mWi5hmHuJcG96efzBV+8v4l+vx2OV0sdlQe/5PODZtyurY9hl+Lj68vu3Ttpaema830405NPPnntfRjsNmw2OTKVmg4VVQoFCpkdu9WOvf3p01JDUWkNevR46aXILttlyExt2W4+eW4lZ0MGcPeTd+FeX8zRzZvYdrkJTmw2rHYlCrWKDv3GFQqUUis2qwPH1RYG2x3Ym0w0y3w71pR2Q1dKVAAcDgfZ2dm88847PProo9flnPfe9wB3zrzrqraV0FpG32xqJn33LtzcrqH2V3A6L29vbDYbAUFB+Pp2v9GyroaXlxfx8fHX/8BNDVQeO84Jewh33z2Wfl4GLAVNHJN1vDfV1tVTX98I7Y25a2qoatahMapRXe0YGRIJMk9PPG2FnLugANLcYqK6suL874Jwq+kSyUpYWBhTp07loYceIjo6mldeeQVoLXnvDN+0Uai/e55fL2rC7LBQFzKVV34+HDelBIc8iNHz/4b1nb/xt4fWosaBzMWP5AmP0V+qxBA3lJnzJHyz9lN+/9D7KLGjCkxm2LjZjOkViNp0lDNbvuCjYyXYFFJoUdJjyjzG9wqmZM1fWZN9huKTH/Hc8SXna1WkqT/j3YeS0fcezdBl/49/PXqc4MTpPD5jBKMi/8unf3mIVS6ehIdH0HtAKNkA9hbKDq9j2foFWNQysCgITpvApBEp+F9trQogUUUy8y+/xvLPBfz6oUXIlTqMcUOYlerDhm482bmvnx91dXU0NzXhcNiRSEQn+3ZRUVHX3gxMq8NgqKex5CwlpRDo27a8poaqZi0aowaVktYmDV6DeHSihDVfvMsCw1P8ZkosLupLJEfmFhqOHGR/cxj3PzSB3p56bGVWcmi8fBx6A0ZtBRmFJZw7Bz6ebcurqqhoccXgruSqR2WWyVB4GnE3l1N5Dmg7VnNTEzXVldCNnqdHjRp1VU1XrudgEz6+vj++ER0bEtVUV9PU2MiA1IFIRD1Kt+Hu7k5+Xi4tphYcbZ/orfb5rV69mh07djBz5kzGjh17/Q4skyHTgsJcRHWdAbm+hOOHd7IpvRzPUd9vZju9m13p8cSETiLeq4YjGzZzWBbI1Gh/vNWXP3zHc8lRhvQkTreBrz/bRvIvhuDVUErBvjV8ecxKZOfHJRKELq1LJCsqlYr+/fsTFRWFSqXC3b2zTxEeDPrZC/SWaVGaJzDZbG+97GqM+Lq2Xg0kUhluIT2Z9uzrjDC17iWRKdAY3FrfDJUOv8Rh3BXemwkmG9Dan8VgMKBVSkGZwKSHQxhhstBawSFD62pEr1FiHfkr/pFqwXZxya/GDSRS1J69ePBfbzDLJkWmMuDuosDrsX/Rr8kGEjkqtRql1IbZrsSgU+A79TESRrWcP49Kb8Cg06D4keeRnve8wtt2PWqlFIlEintwf+5//lXutAISKTKNARfJMIbYtVc1vGxXJJfL8XD3oLq6CrPZIvqtXODee+9Fo9HwzjvvXP1Ohkhi46M5uHg3O3fFEDw9BR9qOLJhEwcdvkzpEYivhtZhORV6PGOH88xTBl7870u8wG/4v6nRaFUyfH0CsBcUUQoESCTIDGq0lgxKzumRGyrJO7GZr7eWomqr1dNqdbigoKC6ljrA1RhHr6Rgjq7cwu6YCHxHxOBBFXu/WsdRl1jmR3lhvNpSSIUKbXAMwdL3Wb1sJwmPp+FZc5rs9PWsybDR28lDd1+Lzl8Tb4bWC57D7qChoZ7KykrCwsIuWHtrPvzeGlo/E3d3d5qamjCZTE6O5/pJS0ujoaGBefPmMWTIEF577TWgdQSz60ppJCB+BMMOvsyHf5zHMoMvsTGR9E0LI/+CzVx7JCKtPcpnf1xKQbOdFr/+3DdrAgOjPZFfbRmDRIbGvSd3/vphFv/3VX4x711kOm8C41OY0a+WI9f3lQlCl9ElkhVoTVh++mRNcrRGr7aJ5XRc7pIkkcrQuflxuZYhUoUag5v60vvLVBjcVJdcJzN44n2F66BEqsTg5ddhX7mrN5rLdLlQuLij/UHz4Xw2/O9jVu7I4NzFq3rfz8uP3IG/mzcXlolKJIofnBe0XG1hTlcVFBxMRXkFLS0tt3WysmDBAp599lnq6upYuHAhSqXy2mtWpAqCB8zkQbWOJV8u4Iklzciw45I4iblzxzEwyqPjDVWuxS1mMr+/r4T5bz3H/Xun869/Tieo/zSmfPos/5izH6+ec/nT4+OZ0Xcvr/7xLlbqPAiP6cPwsTHsbOswIvUOJ6anJwc/eYWn925l0uzZTBn+EI/rlvPhyn/y2DstSLFj7DObRx8YTlKwK7KrfWkSJcbA3sx6qonFL/+bx+9agNQYQmxCPFP7wNlre4eEy2j/OCxWK2fPnMHfPwCV+hqqfwWnaf/sXFyMmJqbaWm5dZIVjUbD2LFjGTx4MGq1Gt1PaAua8uiHxMouuBkrdfiMfILXB0nRS2TIfeMY9+RLDGmxg0SGQqlELrFjRYGWFrIBmcqbxNEzGBSiwuoA5Gr0Og2qq8hU+jz+CR9jACRIZWq8I4fwyIu9mGcDJDLkShUqySQmov7ROVsEoTvqMsmKcLWCGfrwb0i93/bDDqxyFTqVc2YudwY/Pz+OHTuK2Wx2dihO5ebmxssvv4zD4UCv1197otJGptTg23sSjyeM4eG26kGJXIlaqUTeliHETn+O/9nlqFUKkEpwSZvPu70fxCFRolXKkNKD+xZ8zhw7SGQqtBo5fvNfo9+DdkCCTK5ALrUz0S5r7cQvcyVm2Dz+OPAubMhQqFSoFDJcBs7m171nYG3rKCNRqNAoFZcfsKKNVKHhjp9/SqpEQ+uNXYdf7EieWDCIR+201izK5cixY5Nc25xFt7PLD0L8/VXIYrFw8mQWPXv27PA3KGpUujYHDlQaFUqliqamJqwWG3LFrTFvj1qtRq3+6cVySr17x+kJJFJkaj1u7YeWyVHr3VBfMlNo77siRaHR4+p+cQnkSVb89S2+PnKa2ot3HfhzFv18MFq9xwWtViVIZUp0Ro+LClw13b4AUhAuRyQr3Y4MpUZ7xQmkbhe+fv5s3rQJy22erEDn+3ddTCpTotYqL3vTk6m0HW+QcjV6/YVby1DpDB2SAKlah+GiA37/9ytBplChVXRMGyRyFRr5pVKJ43zyi5dZdar0Bz1fZCP+xNe/SkWhMfB9yi5BKlOg1inEjfy6+T51uTCJsVotnM7PZ/KUaee3EQ3AugeJRIK7hzuNjY2YW0woFKJ8/uaJYvIf/8UE+yVGDpHKz88XJwi3M5GsCN1Weyf7pqZG7Ha7mMn+thDPPa8s5NrHCBQ6pz3daCf5wToAu81OaWkpKqUKNw93HFyqFkboahwXpJvu7p40NtRjajGh1evalopP8XqQSKTIZHDpSm8pcoVSPIwJwhWI74fQbUkkEvz9/SmvKCcwKPi27rdy+5Bc5oYv3DztAxV//7vVaiUrI4O4hHikEimOti3ER9W1SS6oHXP3cKeiokwMB3/duRA7dj6x13EAMkG43YiiaKFbCw4Joby09LbvtyII11N7stGablz4H1w867nEAVabjcyME/RMTLqJUQrXiwRwdXWluakJi/nSc/kIgiA4i6hZEbo1P39/9u1Nx3qZyfIEoTsxm800NV1uxszOu1Gl5RJaJ6RsaKinuqqS4JCQ88uF7sOBAw9PTxoaGm6pEcEEQbg1iGRF6Nb8/Pw5V1GB2WzG4XB0eiQsQegKsrOzyc7OviHHvpah4S/1LWrvMn/xOrvdTsbx48TExiFXKEXzr26n9ZN1NRppaWlpnWvF4RAT7QqC0GWIZEXo1rx9fGhubqaxsQGHw1skK0K3plarUSqv/1h/Vqv1Gve4/GDFF7M77GRmZJDSt69IUro5D09P6uvrWueuahvyV3SyFwTB2USyInR7gYGBlJaVERgYhFJ0she6scjISMLDw6/7ccvKyigoKPhJx+g4Dpik/QfMZjP5+bnMmTcPBw7xcNuNeXp4Ul9Xj7nFfD5ZEQRBcDZRzyt0e8EhoZQUFXWi9FgQhEu7uEP9JeaAaFtXVFiIwcUFV1fXmxOacENIkOBqNNLU2IhF9AEUBKELEcmK0O35BwRQXl6GxSpusIJw43yfsEgu+PnQwQP06pXSIb0RuoeOI76Bh5cn9fX1YnRFQRC6lFssWTFRnn2I42eqaLHanR2McJMEBARSUV6OxWLB4bhcCbAgCFfrwroUB5JLdKtvZbfbyThxnISeiSDSlW6r/VPzcPekrr5OJCuCIHQpt1iyUsvh5a/z/sZs6kwiWblduHt4YLPZqKurw24Xn7sgXB+OthnOHW0/Sy5IXFp7plRXVdLY2EBgUNAFs6EL3UV7etn+Kbu5u2MymTCZTDjs36ergiAIznSLJStdl8NuoyY3nS0HCrj+sygIQUFBFBcXY7PZnB2KIHR7V1tHcvzYMWJi45DJxVgt3Z8DlVqFUqGgqakRu83etlQQBMG5RLJykzhsFop3fcobyw5T6+xgbkHBIaEUFxaKZEUQrpuOs9dLLmgc5mj7d+jQAXql9EbS9k/oni785Nw9PKivq8NsEU3BBEHoGm7Z4rDG/F3sza+kxeoAAhkwtS/+0tZLst1ioiJrOztz6gEZWmMgCQN6E6ht3ddSV8qpjENkFje3LnAJIC4ujhh/Q+vvplJOHDxBXmktFgBdKH37x+BvOc3mA7nUNXXs6O0a1w+/gl1syazCVHaY9Sul+PkmMKivL5biTNL35dMIgBbPoGgS+4ZjBGipIj8rg4zccloANH7EJsYSGWCkITedHJMX/ooqsvOKqWmygj6StEExeGmV57PQuuxNfHe8BpAgV3mRMHQQQbI6Tp/YTZGuN3fEep6Ps6mygOyTuZg94kjs4UN3GrgyMDCIrMxMkawIwnXx4/OsmJqbOVtQQI+YGDFkcTfmuOD/IMHD04va2losFjMaNM4LTBAEoc0tmazUZW1jk9wLu7n1wbV430ZytXrmj41DZzGRt2s53+0rxGz0RGc2UZR1krwmDbMmxqGtPMuxTavYeaoau5cPRlo4l5vL6eJqGJlGjL+N3D0b2Jx+DovWgEED53KbCY4LwkfWTG1NNdUNrSVS9dmbWH/ah9m/S8Kttoq6Jit2SyM1VdVo9S1YmusozdzL0UIZblporsrlxMlcGt3vZlyEguLMXWzdmEG5xB13F6ipb8Dg601wgJHyY+tZcdCGf3AIeqkDu72Mo6v3c9Y+lweH9cCgklO0bzlrtmTT6OaNwWbDWn6YjFodc8d7U3xgPYvr5MTHjsALgGbKT6WzadUhjGOiSOjhtI+vUwKCgigrKz3fyV5MDikIP43jot++Hzmq9afT+fl4enqh0+tvdmjCdeC4ZELqwNPTg5zsbDF88QWK9i7nhH4kfR17WH+sBqQKtL5JDB8SiR7A2kRlwXF27c1rK3jU4RMeR69+EW3PECfIqQCjq4KaolOcOdcCeBIzsBc9gj1ESigIP+KWTFZqa2pQhs9mRr8ANEoZZwP/xLMfryYjtQdJjUdYt3wLDSOf5ckp0Rhaasjb/TWLNqznRO9AAk5t5btdp3Ab8TizJ0bhjonyYxtZ/NUhtu/3xWuogsO7szD5jWHatCFEuEJ5fj4ydy1SXW9mzO7dGkT9SZb/9zjJE+cxOSkMY8/7UZtOcPBEGnc9OBk/wNpUj3voAO4cmESYHpoKDrDqi5Xs25nNgEBfTh3LpNQaxKj759DbB6qKi7Gp1SjaXmd9XR0y/75MGRqLh+4c2+r+yYItx5k4IBxdyynWfrKSvH6/4ff3JOFqa6EmYzX/eX05Rwf9jqSevfFans7u/AFMDtNB0znKSipodk9mdGIgWmd9eJ3k6uqKTCajpqYaV1dXkax0Ql3hcU6WNqJRq6ktPEluuQl0IfQekER0gPH8311D3k42HjxNbZMNcKXnmDH09FJTuucztjoGMzct6PwxLc11nNq7nhxpCsMHRyAea7uLH//+HD1ymJ6JSTchFuFG+j79bP3Z09OL/fv2YTGLZKXd2R0f80FZMRXJ7tgsFlqac9ixIYt6/YPMTfHD2lRLafZhTlWr8dBBY3khp86epcVjDmMjZJRnp/PNugykEclEuCtw2KEyewu5tfUwdQQJPi635sOYIFwnt+T3wzV+OCN7+qJRygAIGjiE8Fc/4HiBjdiGdHbmtxB2ehtLFm4D7DRXn6W2vpG8zLMoiwqpMvTk/7N33vFxXWXCfu700YzKqMyoF1uWZTvuJU4cO043IYUkECDUwEJCYGGBXfh2WZayHyzfLiwsWSCwoS0hBAgJqSZAEiexHTvuXbZcJMvqfUZdM3O/P0bj6dKMNOrv459kzb3nnvvOzLn3nve87aZNi8gEwIR90WIqsw9xqOYiDWs3kO2wcrz2NZ59zsu2G9ZQXlZ2eSLnw8nJPz3BG+513P+25dg0GtQoSap0Kalk5hfQdeh3PHraCf0d1J7tYcjbQSeLSM/IQK06zF9eyMB9zVpWVeQTXJ89tXwjm5eXkWXRAbms2bAA889baBh2U9y6h9fPubGXvMXvH90HqLgH2+gfrKGqxsO1i5azyvEW+3af5/qy5ShtLTS0dpN6xS2UZ07K1zLplJSWUnfxIoWFRWg0Eo6VKK76E7z+wg66bGtZnGfFYHBR9eafudA+yH13bWJRjoWmwy/y0htV9KZlkW40oq0/yG9/bcL8ieuxNuzhsb/C5k33UQyAm/7uKt548jlarlvHDdP8/oTk4fF4OHH8GB/92APi/jULiczcFvgOMzOzcTmdIZYVcfODTlc/9tV3cFOlhf7uKlJr/pOXdlRzx5o8zDoLORXXcM+WpRSnQF/NXv741HYO7KnmyoWVAPQPDpGaWc6WWzdSkmmk4+jv+NGvjnKsahklmWnY9GMIIAjzmDmprKSlWtFqsFZrCAAAIABJREFUgyaraWmk043TBWpvDz26HHILbdhGdttsWRSvyKI0x0v3OQVScsi0BXVoMmIyquAaZEiTy8rrbkY5XcOJozt5/jf7MJVv5Z1blpOX4YvyqNv9BI/v8rDxwzexLFOHokTLqDJEd8tJdjyxk3MeyC7Ow2J002ZqZQjAmMnC9ddyQ0omx06c4rWnD7Jn4SZuumotSwt8sTNWSwp6feArtFpT0fa00aOq0OOkm2xWFtuwafwPmUwcd68ir0iPOdXOgkUF7D54hAudxZgv1FLfncWq2wtmSaxKpAtDSUkpl+ou4vVeNT0izQEG3SqGnAq23LyR4sw+Thh+xiNvneFc03JKzE3senEHNTk3c98d17DAZkLb/Aa1X36CPec38b6r7mT900/wwpFb+cTKDHAP0ld3jCrdBt69uQzLdL85ISkoKLS2tOBxe8jNy8d3Lc7viexsInZ2L58KY0m1oHq9DAz04/WqaDTy3QJkr76VmyrTADAaClm7poDndzXQBCxKScOWk8WZPY/xo9Mu6Gun5kw3Wn3X5YQ6KXmLWbV8GSWZviXHzEWVlJn30dTQjWsAUVYEYRTmpLLS0dk9Emg98vY6O2kniyU2UPQZ5OjbKF5/D3cVhx3oqmXPMS/U1NPSAuX2ke39/fT2a1DMZkxGyMhby5aytSxfvJ/jh9/gqVdf5a2CPG5cWYilYRe//f1+tFc+yA1LstFpY9zoh3rpOL6bPx9ysvWzH+K2FQVoG4+yvbmO3SNNrLkVbMitYMmSKqoOv8rzu99kT0oWjuzlY38IGTaylH5yVr6DeyqifM0eLfkVayg//ioHjyyloL4WV84mVubODlUlGkVFxRw6eEBqrUyAFEc5pcuWUpxpAAwsrCghe88F2nr7GGg5xdGL7TR17eapn5/ApAXopdFVQ2tVO947N3Dr2p/z8PZjvGflZqwDA9QeO4p29cdYnjPNb0wYk2D13x90rVz+rYS0Onn8GIsrl6CTlMWzkGjqSmCbTqcjLSOD7u5uPG43GoPMogHS01Iv/63RaLCYLXh7euljgM76Y/z1iV1c1JrIX1iItUdLd4MLZ9DxJpMRk9EQ2GA2k6IfYnjAjeSFEYTRmZO+Mr1Hn+fl0y76hwE62ff7P3G+8ma2FuswFG/iqvwLvPb4Di4C4MbZXs+xvVU4zdnkLijH3necva8dpQWAfupPHON4m4bs8jKKNDUcPXWB+rZBbGXr2LxyEWkDzdR1DzDovcjrv3uK6vTruOu6JWTptZcf8YqikJFuw9PWTheAqqIOD6IaPKRmFWAe6qSu+jBvHvGdlf4mzp87zem6PlLzK1m/agWFWhdNHd243HF8CAVbuGlpMzse3c45ALwM9jdz8NXDvvNrTdhyF7CsVMtbO/ZS26lh8YbFpCftW0iE0HrZ8WX2j6wEUVhcTFNTE263VLIfL0ajAWPQA9VkMqN3exhwu/EM9NPnzaSgsoIlyyqprKyksnItb/vwp7lrZTo6jZUl16xDd/QNjrcP0990hF1Hs9hy/YJZFwMl+AhkilJD1JWjhw+zfOVKFEWDWFXmEr77ak6Ona6uTgmyj4eBHlqP7eW1027Kb3kHd91+OzdvXsvCnFBFvqe3j76+/qANPTgHTRitBvSi8wvCqMzJSyRrQTGdL/8P3/uzF6/ST91AJQ99bBulFg1e4xK2vf8jDD7xv3z/G7uw4cWrt5C//HYW6SzkLb2Wt28bYMf+J/juN57DyjBuQybFa2/ihvVlpKmnOLXjVU7U9WK06MDpwrB2KxsrHLTt+glP7ztNqwWe/vE5XtD5HuLKFffwT7eXk7FiM6ue+jU//VYHCxZu5rZ1V7Ix/2c8/V/f4EBmChlWI/aibJoB3C4uHvgzf9nXRkqGAXr7IHcZG9ctJtsI9WN9CJYSbv7oF+j5yaP84BtHyULFq1FJWXgXS0aaGNKzKF68lLTdb1CXfSvXL5geVSVZWCwWrFYrra2tWCxWCbJPNqnp2HT9mPLWcPW1FWRHMcJZK+/ghvwvsfNQE47+XZy2X839haKqzAZCbSfBVpXg5LYKPS4XbW1tlJSWyTU2i4iMUwnfHvguc3JyaG1twe0WZWVMVBXVOwT6YcxpuZgG26iqOsSeo60YgzySh+oOc+jIWlaUOVhg66F61x5OkMeWBQ6yJB2YIIzKHFNW0ll1zyfJMzlI675EY88wHhXIruDqCl89EY3OQMGqm3mnNZPzHb6jNEYrOSXFvliNNDuV17yd9JIlXGwfBECfnktxcTG5aXoYWshV1+kobe/BZ+Aw4ihfTFF2KgPeG3nfZzcyGGbSVXJyQKPFWHglH/xMCpf6dZgyS8guSOVt7/8EC5sGQGsmw5ZFhmGQLk86DpMF64YbsBR0+mJYMJBZWEpxQQ4WHeRvuJd3DaeTnxFkoi+9kb/9+0EK081ogezFW7jnQR1VLSPTDK2ejNKFgTSJeiu5S6/jIw9WMJReQoGRaUKJ8XcsYteAKC0ro/bCBUpKSpMhmBCMfQ0blz7HH7b/haPLcthUbMNIB3tfPE3JDeuwG/VoLMXcsKmIz+74K/kmF2tvXYdt7J6FGUGs60oJ+av2wgVyHHYslhQUReJV5hL+b9KWmcm5c2dxu+Mx489zjOnYKzawYd8v+d13vsIuWyo5GWbyy3JoD2pmzbWjNh7iqe+/hss7RIeaw5XX3shVi+2YtdMmvSDMCuaYsmLCvng1vlCTfEpitNLqjeQt2URejP06SyZFlZkURdtpyKC4MoPwcBcAY/FK1kXb4T+vLo2S1ZtC5EpZuJachaHtCkb+t5QuxR5jzp2aX0lEKZSMEtauD92UtehqNi2KKRGmVAeLVjliCz3NjF2aLpSSklIuXqwlPlcyISGM2ay/+5P0/ubHvPDDf+VPihEtg7DgXfyDOuJAotGQvfF2Vr/0E3Zm3MTnl2ZMt9RCgozYg0dW3P32FGWkZj0cO3aUJUuWodXIDGv2EHonVULsKUrE3TI7J4euzk7cwwFlZT5nBKu86yt80mQPbNCbydzwLr5YaqBMY8BavJpbP5jGkrZB38JjRgYW7RA9pGEHagBDRgmLrryOZelD9LgBq4OFRblkWg0xzioIgp85pqwIMx01aPIzfmIfW1xczJu7dyEhK4mTveQ67igawpQe5LZVcCXve+gKDDnZWAF9fiXXvf8hylv7GKm5ism+kHSDzvetKAp6+1ru/9wXaNflUTZ78zXMK8a6Kv2Xk8ftpvp0FR+4/yNotFrEqjIbUMP+DlZOlAg3MBV1JGalSywrI2SUrSVk2UWjw2RfwEq//mKwkF22guyyaEf7w+z1pOWWsWQko5ggCPEjyoowrYylvCQ6FSoqKaWxoYHh4SHJVJQgxjQ7BeHPUXMWJeVZIZusjkUsiWmMU9BoU8itWE7uZAgpTAOX04TQUF+PwWgkKzNL4lVmCZHrNtFXcpSgFNR6gx6r1UpXdxe5ublodGJFEwRh+piT2cCEmYsy8i8a8eUB87WK1dZoNJKVlU1DQ8NExBSEeUVkbr3IfQpwpqqK0gULMBgNoqzMCkLvkpHfmBrzjmx3OOhob2dYrCuCIEwzsvQsTCuTMd1ZUL6Q82fPsnBh+ST0Lghzm9BsYKHT3ZMnT3LNli3odVJ7Yy4Qfv8N/q4zM7NwdnfjlSIgE8TCws3v4eMbwGSV0riCMB7EsiLMGEZb3Q1vNVrb0tIyamtrkiiZIMw/wi2XPS4Xba2tFBYWjcSrCDMdNeQuOXpEUvBvgBx7Dp0dHbiDlJVY6Y+F0dBitNrIyrJhMcp1IwjjQZQVYZoZTe2IxzEssk1xSQm1NaKsCML48S8KBBYGzlWfobC4CJPZDEpkBilhJuKPCQx+NRa+b91ut9Pe0Y7H7WZybOCCIAjxIW5gwpSRaBri2D34UaLsUygpLbscZK/XS1pIYfZw8uRJqqqqkt6vqqrY7fbY+0f+D1VBlJDV9qqqKhYsWIDBIC5gM5nQbzA2Sthf4epnjt0xYllxE6+aIwiCMBmIsiLMYMZSa4LVn8DDVKPRUFhURG1tLeXlMYvMCMKMoqysjMLCwknrP1Z2vPDEtlHbqCqnT51kw4fvH1kAmL81N2Yy6iivlDBHL3/ur2hLQCqQlpaOx+Ohr7cPNUtF0cj3LQjC9CBuYMKUEenwFV/+r8geovWkhPhnL6qo4OyZ0+OUVBCmHo1GM+k/YxN6ffmdwc6fO4ctM5P09Aw0WnlszHQCd0Pl8r0xuMRn+O/I+7CvyqstM5Ourk48Hk+cMYWCIAjJR546wrQxmqoSuS9a69iPz5LSMmokbkUQxsR3FYVPZX34t54/d47ComJfymJk0jpTCf9uot9fY6czDreW5TpyaWttvZwRLJA4XhAEYeoQNzBhGknelMdfe9n/qqSklBeeexZVVaUehCCMQaxoMBWfC1jVqZNs2XItJpMZUVVmA+HRR/7f0SMHQ9NUB5TWHIeD9vZ2PF7vuKRwDw7S39Y+rmOF2c9wb990iyDMEeaVsqKqXga6W3FpMrCnGadbnHlPuAPC6Ek2Ix3IorfzUVhURHtbGwMD/ZjNKROQUhDmA4ErKSJlsdOJy+ki225Hr5fg+tlGdEevYKfZ2Mqn3W6n+sxpPB7PuOwpda/uoO7VHeM4UhAEIcC8Ula8wwPs/PHH+Xnql3n8oXXTLc68YuKZwOLpJXR7aWkpNTU1LFmydEJnFYSpYGhoiL6+yVuJNJlMmM3mqPuUy849kdfW6apTFJeUkCJK/6wisXutEtV9zOFw0N7WhifBwpBakwlLUVFCxwhzF31q6nSLIMxy5pWyMlUMdzdyyWUgL8+GUasRp4kxiKyi7J82xa4OEO72FY2yhb5K9qKsjJ/B7mZae1SstkzSUgzjCnLzDA/i7GiiV2+nMDP6ZFmAuro66uvrMRiSn27b7XaTnp7O+vXro+yNHqvi5/z58xQU5GM0mZIulzBVqBHfry8bWOidNPyv9AwbvT09uN1uVBXi9ajNWrWKa/7nfyYstSAIAoiyMim07fwhX/xzOV/9xnuotBpFWSFZXu6RriqjbSkpKeXIkSNJOfN8pW7Xr/jhy4Nsef+HuGV1IeNRNQY66/nrL77G7sK/57vvW550GecS5eXlLFiwIOn9Njc3c/Hixaj7AhPX0HorKgpDQ4NcrK1h1erVMa0ywuxBjfNOrIyMAJPZhDnFQndXJzZbJopkghMEYRqYk8rKYPsFzjY4GfaogIncigoc5tCbrGd4kI6Gc3QaiqnIs17ePtTbRWtzM8MpeRRk63C1NNHQ4sQNQApZBXk4clIxAEPd9VxsV8m0qrR2dNM/oMVoHKbxUjfDvU1UHzvKoK2IysUOzBLkHUZsq0hk/YbR3L5i5xQrLinhueeexev1xpm2dX7j7u2gqc2FYs3GkWVBB5gzi1i4cJhsqxENMNRZx4UOLY6CHNJMekknOKeIDLquq60lPT2d1NQ0FI3mslIjzD5Cg+dDVdPR4lccuQ5aWlooKSkFrRKznSAIwmQx55QV56UT7H/5Wf561onqUVC6+rFte5CP3FZBRlA7d28HR579Pr/3vo9vf2YzPo/KIdrO7uap3/4F71Wf4ENXeTi0Yzt/PdSGoof+dg+5W27krtu3UJFmxHn8eX70VBPlS3PoamnB5UolO7ubxtMNDLR18/LTnVgKbubvFtkxa+XmHkxkxexEPazD+wpVcRRFwe7Ipa+nh54eF2lp6eMVdd7Qd3EfzzxzCM3KO3j/25aSChRsfDef3Bho03L4Sb673cL7P/VOrizOFGVljhFwvPT9de7sWXLzC0ixWKZPKGFayXXk0traglf1op1uYQRBmJfMLWVloIU3f/sIL7pv4KHP30J5hhlt9e/55D89yq6rvsXbg+arRrOFyuXrSHlqH3tb1nOj3QRDHbQ2XcRpWMYN6yowDp2jcNVNPHjnckos0LLnMR7561GOnKygZGOJr6POc+zrWc+XPvZhFmb7AlAbX/gyn/lzOQ/+i88NTCZ00YgdjxJKLGUmuiNYuMJSXFJCbW0ty5evGK+g8wA3rtZ6zpyqpqGlBU31UfZkQcWCYjLcjVx06sjPy0ZtqeHY2SZ6ukycOvgWnrbFrFiWQ3/1CXoda1iYrUejgOr14Ko/wenhItYvsIWdy0N/dwstTd0YCirxGzWHXc3UtfWiT8ujKMsMQ51cPF9LQ1uPz6ppcrBocRHZqSaZME0RHo+H2poLrFqzlpSUFFlLn9X4Hbt8fxPyf4Dgu6p/b47DwemqU3jHmb5YEARhosyteXTzW7xxfJgMm5fz+9/ktVde4ZU6DUUpxzhwOCzLjjGF9Mr1XJl9lp2v1TIADLa309jQje6KjVyRB+b8hSwozGaoeievvPIKxy920nupm6bOLpz+fkyVbNt6BY5syZSTCOE1sifWV7grmO+1oiiUlJZRe+H8hPqf+7jpab7AqROnqW9p4dKZQ+zec4zalh7qDj7Dz59+iVMNbbRWH+bImUZ6u+o4ue9N3njrHJ2DLez91bf54/F+PCNzGdUzRN0bP+W7fzoX5VzDdNTu5+Wnfs+BxsDW/vojbP/zdt443Q700HjiNbb/8QVe/PPrvP766zz3/BtUt3SPuGMKySTaFagAXZ0dDAwMkJWVjd5gkFKAcwa/Q5gaVuAx9D7qf5Wdk0NHezter4wAQRCmh7llWXF20eHxoq0/yZFu4+UVWO0VN7AwbRAIVih0mC25LFqcx+7jR7h4axHm+joututYtqUUK/201Z7n6M69nGxqxOk1oO9ppLVbR2HwOW3ppBsMSPWB0YnX1z3SXhJfmuLg6JXL64aKQlFREQcP7E9E1HmIibwrtnKndhBnmBvY2Rp/mzSWbPsAWcY2zmy3cM8DPjcwPQ0cS7Y4g/Xse/UAzsxred/Hb2RxJjScPo022zTHVldmJv5r8Pz5c9gduVit1lHbC7OHwH1yNMUj9G6dm5tLS0uzWFYEQZg25payYk7Bokmj8vaP8u5VeVjD3p1nKNS6ojOnUlC5mpLDb3Ho5AoKL1TTYlrLnQut0HeBE69t5/mDerbe/2FuWlmA5vSL/OCnB6bwDQnRCFZoosWrXLbZKAqFRUU8+8en8Xg8aLXiQDQr8KRgSbUy2H6cN9+0od+wmOLFi+fYzWomEd26eeH8eex2OxarVVzA5gRjRvoRbFnxO46lpafjcXvo7e3FYrGMpC+WVAuCIEwdc2uh0nEFa4pbOfbSAWp6BkZcRno4c+AMTjXKSpIuBVvBMlaXD7L3tf1caBugYMNSHAD9/fT2DGAuLqKsrADzYBtVVWe52NA9phgWixXF1UuP1yuuEyPE+1gLnTZFZvqKfBX8cA09j0ajIcOWicfjobu7KxFxhekkpYhVm69mZbGRhv1/4vk//pYnXz9Bc/fAdEs2b+jv66OjrY2s7GzMZtMYK/HCbMJ3n1SiZF2M7ZSbm5dPc3MT6sgzTUaDIAhTydxarEytYOudd9Py+Ms891QLh8xmdDip617Cx1aXRz3EmJpBacVS1F/v50Ll1bxzmd23w+qgbFEuR1/fz3O/HuS4Ddyt3Qxrxnb4Slu0jis0z/HXp35PtWMNb79lGRkaWYUK4PeZDkStJEp4iGisMHyNRkNhUREXa2vJzMwax5mEeOh2uVDVVEBBVVVcztGVw6HhYfr6+2GkcsvgwAADA/2X92dVbub2ys1sPLWDPXteY/uzL2Gx3MsNKwtJmVt3rbg4cOAAXV1jK9xGo5FrrrlmQudSgEsXL5KSYiE9w4ZGLJLzhlj3ZLvDTmtLC96lqiS4EARhyplzj/28tXdyr6Kw83Q3A243blJYcvUVZCgKqlbPgmveyz2G/MABxjQcSzdz723puByrKfFn6DRmsWDNDdyszeBEfT9uXR7LNi2ibNkghiIHKYBStI5bbvCyINsaegMv2MC97+ngQNMAHrf4+YYT/6pc9JW/0fYHn0MBtFothUXFI4Xt1sR95vmI0WjC6AVX/wCDMJLOOxRLihVtbx8utxsPoCeV/CIbtbv2cvGWO1io0TBcu5vtR7ogav1HHWZzOib6uXDyNO0rVpHlauDs6VNUNQyTB9DfyNlmD9a0HHKXbOX2lEGOH/orF9p66PUwL5UVr9fLrl27cDqdMdvo9Xq2bds2ofP4r82amgtkZWeTlpYqzj7zGt+3b7c7aGttRY3moSAIgjDJzMnHft6aO3hXlHmpotWzcNN7WBiyVYslawFX3RZZNdqYVcaa68uIOcUtXsvNxdF2pLL4xnexOFHB5w3xW1TircIS6Y3tQ6PRkJ+fz759b8Uv3jzFmFNEWd5Bdhx4jl/1t7LlqrURFestC1ay3PoH3nz6cWqKN3L721ZTccttLPrGdh77eSsFWg0YzWRl2qiOehYdqbkLWbq0iLM7n+Bnrn1k6Ayo3UOkpIwkwBhs5threzjf4iUtQw8djbgXruKKshws83RZd/369SiKwvPPP09PT0/Efo1Gw6233srmzZsnfC632019/SUWVy4ZCa4XdWX+EHrH9X/zuXm5nK0+I8qKIAjTwpxUVoSZzej2EH+L+ItFRjvKj0ajIb+gkIY/Po3H40arlSEfk9QCVm29HoPjPG1KKmaDjpyl1/EOu4EF9hFFIucKbr23hxOXuhlIsaDXKKQuup77PqJwvN2NioK2eB2briyiYrAIAIM1i1U3vA+HNQ8AfaqDJZtvBesx6vsBq4OStWu4UvFiykoHs5GlSyvRp3UyDJBdzJpVa1lSlDUvrSp+1q1bh6IoPPvss/T29obsu/POO9m0adO4+w6+hjra23G73dhsNvQGo4RSz0PCv/Pc3DyamprClBUZGYIgTA3z+NEvzAYm+ijUaDSkpqWi0+lob+9Ao1F4+g9PXt5vsVhYuWo1mZlZ7N2zm9bW1sv71m+4cp65jhnJKlvJ5rKVQdvWklMa3CaF4rXXU7w2eJuB8i23ExoVVojfIUmfks6idTez6PI+HamOcjZsix5HBqksXr+VxevH/UbmLGvXrkWj0fDUU0/R3++L8bn77ru5+uqrk9K/CtTWXMBms5GenpGUPoXZQ2DBx6eI+FWTzKxsent6GBocxGAwgCKqiiAIU4coK8IMIjyNZiyCV/eUoEdqNGcwBa1WR0FBAUcPH+bggX2cOnmCFStWUlJWxr69ezh54jgWi5WO9jYqKpdgNBjYu+dNzp87i6JoWLlqVTLenCAkhdWrV6PVanniiSe4/fbbufLKKyfcp2+S6rtmLtbWkp6eQXp6ukxG5z2+MWEwGkixWOjq6sSaGi2aTRAEYfIQZUWYFcRyCovlAhbcTqfVkpdfwJnTVRw6eIDCwiLe9Z73YsvMRKfT8ZtfPwbA+vUbeMdd96DVaekf6GfHK6/QUH9JlBVhxrFixQo0Gg1LlixBo5l4Bnr/tdPjdOFyOSktLcVkDo9YEuY+4bVWAq8cuXk0NTVSWBQ1UFMQBGHSEGVFmIHEjlfxuR6Ebx89R5hOpyM3L48zZ07zgQ/dz1NP/o4nHv81AG73MNffcCM5djsnjx/jlz//KQANDfVs3nIta9atm/jbEYRJ4Iorrkhib76ktfX19ZhMJmyZmWi0WnH1mWdEhs8H1JW8vDyaGpumWCJBEIS5VhRSmPHEKig2VqGxWBMmBfWyG1hkQTPfK61WS15ePueqq9mzexderxeLJYWVq1bjcjqpOnWKfW+9RUdHB3n5+ZSVLcA9PEz1mTNcrKlJ8B0KwuzDf93U1dVitaaSnmGbVnmE6ST8Tup7nZefR1Njo2QEEwRhyhHLijAD8a/mqQSv7IVbVOJOa6zRkJKSgtFooLr6DMUlJbzr3fdhTbXi9Xr5xc8eBeCqq6/mttvvRKPV0O3s5i8v/Ym2trYkvi9BmIn4rjOPx0NzUxOFhUWkpaWJRWUe4vvOo6cvzsvL59WXXw5qKyNEEISpQSwrwpQSXnE+eHv0R18gN0309TzlctXl0KOUkYBh31E6nY7iUl9aK5fLxfGjR+js6KDq1InLxzQ1NnL+/Dku1dVRV1sb71sShDlBc3MzALbMTPR6/TRLI8w08vLzaWxouPxaHfknCIIw2YhlRZgGRrOJhO8LfR38KlpdlVgqjV6vZ83adWy86mr++7++xxO/+TXmlBS8Hg93vOMu8vLy+fOfXuSnP3kERaOhu6uLbW97O5s2b0n43QnCbMLvSFl/6RJmcwqZmZkoiqyaz1+iLf6omFNS0Ol0OJ1OMjLSRU0RBGHKEGVFmHbUGG5ejGyNlvFrLBewaEH2KeYU/vcXP8Pr9dLd3U13dzcajYYdr7yMTq/H5XQyPDx8+ZhdO1/n8OGDALz3vvezYeNVib85QZgl1F+qIyUlhcys7OkWRZhBXL7XKgr5hYXUX6ojIyOD0aMMBUEQkocoK8KUM7qvc2i8SjR3MQh9TKoxWgSfR6fXY3fkRsSgeL1enE5nVElcLhculwuAZ//4NBk2GxWLK0eRXRBmJz1OJz29PeTY7aSkpEy3OMIMxWF30NLSzFKWE8u2LQiCkGxEWRFmAKNFq4S3GM0KE/7gDNhfFEUhNS2Va7ZcO7IqmBir165jwcJYFdcFITmcOnWKM2fOJL1fr9dLTk5O1H0K0NjYiEGvJysrCxRFUhYLlwlWSQJxK6KkCIIwdYiyIkwZ/lD50BwzkYpIeCX68PbhrWIVigxv19/Xz5u7do7LH7+oqJilS5clfJwgxEtlZSUVFRWT1v9oxSPrLtZiNJrIybFP2vmF2UjoXTQvv4ATx4+FtVDHsJYLgiBMDFFWhCkksdW4YCew0JrKkT2GKzQRZ1ZVVFXF4/EkJIOf5575I9k5OSxdlsxCfIIQQKvVotVqp/y8brebtrZWMjJsZNhshLtQCvOX0HhBFbvDTmtLC6qqShIGQRCmDFFWhCkjmi0lMr9X5BGx4laCWwTKQgYsMcHHDQ4OcPSfrLZoAAAgAElEQVToEfR6/bgesne84y5RVIQ5SWtrCxQUkJWdjUYr2eyFAOFKa15+Pq1tbbiHh9EbDNMklSAI8w1RVoQpZDQlIXp+r2hxK2NlAguE5o+oMqpKT08PRw8f5v9957vk5eUnInRcDLlcDHZLYLIwe3APDADQ2NCArqSYnBy72FOEMcnJzqG1tZX8goLpFkUQhHmCKCvCNBO9TKQasi2aU0pwwmMlpM59oIeRytxuNzUXLmBNtU6KogKw/UP3T0q/gjDZNDY2UmowYHc4kLB6YSwKCguov3QpRFmRhAyCIEwml5UVz9AQrvr66ZRFmGOoXm/o65H/oz/UlKj7o1deCe4velD+5b9Ulb6+Pnbv2skt294Wh9SJYczOxt3Xl/R+BWEqGB4eRmsykpqaitlsQqadwljk5eXT1NQYtlXGjSAIk8dlZaXr7Fmevefe6ZRFEC4TO2A+3NoSGnof7jbm9arU1V1koL+fxZWVJPuhuvbrX09aX0JsRi8c6m8TIDJDXLRqPJEK8lguhmOde2ZM16Kp8dFz5p2uqqLz6BFyc/OmSDZh9uIbQzkOB+fOnCGWVVwQBCHZ6DR6PanlUj9CmDx0ZjMQewIZSEEcOWWMNQmMnGSGhtirgKKqDAz0s3vXTq674cYJvgthLqCgoI6MltGsdon3G+x4OD1EmzLGVvoVVFWlubkJRVGw28UFTBgd/+goLCpix8svI0qKIAhThc7scHD1f//3dMshCHESPaFxJL5UxQ0N9bS0tLBqzRpJyDqrif+biz41j+5cGN12F6xEz8YRE2xjjC3/0NAQnR0dGI1GMmw2qZchxEV2djYdnR14PJ5pSbUtCML8Q/JUCtNGIFlxeNriaGmMox8fHRVUcHvc7H1zNxs3bkSn009IVmF6CYwIv/0idjtitvNti290xe4l9rlVlGlcbVai/ETD/5462ttwu91k59glZbEQFypgtaai0Si4nE5RbgVBmBIkG5iQAMHuWaExBJExBfF48Seeyti/JdzlJnybCrS1tXK2upq77nmnPFLnBX73rtjug/EQnFtu9hH/O29qasLr9ZKfXyCTTiFOfMUgHY5cmpuayLBlBu2ZnXbIZDDsctF16tR0iyEIs5LMVavQjlG3SZQVISFCQ3eT12N4AcjRVoVj46+z7GPXG2+wes1aLBbrBGUUZg7RR0Z4AH34diUhe0rgPPEfMRNC7EM/hViSKIDH46G9rQ1F0ZBjt0+BbMJcwj6irCxesiRo6/xVV3ouXuTgv/zLdIshCLOSax97DG129qhtRFkREiBgNRl7KhfskDN2JqdYx0cvERk7+bE6orB0dXZy4vhxPvXpzyRwTmEmE884Gn2MjTZ+JqZszKxp2tifgdPppLe3h/SMDElZLCSEoijk5efR2NAw3aLMOMzZ2TjWrJ5uMQRhVlC/ezfDPb1xtRVlRYibWEmDJzbFUWK8ir5GHL4/MH1VQ7bv3fsmC8vLycrOmZB0wuzAn+Ur9DVMnTvXTMgHNkYcF4FPo62tleHhYfInqUiqMDfxX1d2u52zZ85MtzgzDlvFIjZ9/avTLYYgzAqev+/9dPdciKutRFUKcRIcaqyG/Iw1HQzUmE/kHNF7iu0GFFBXXC4Xhw4cYPO1W+M4pzB7GN2VK/oYU0KU69FD85UxW4129MxhdPlVVaWttQW3e5i8/HziTWghCAAaBXLz8mkQy4ogCFOEKCtCHARSuUbPdjTG5Chmi9EmhmPlNIqeRwwUjh0+QobNRklJyZiyCbOHiU2p4xsHwWp44kznpH/sJQP/78GBAbo6uzAaTWTYMuI4VhCCUcjIyKC/r4+hwcGQPTKSBEGYDERZEcZJwF6iEG49CZ/ujTX9i/8RF+hJDUpEe7kMJIMDA7y5eydbr7s+7j6F2U2s0RU9IfZYysR4EhuPX71JJmMlZvZL2dnZycDAAI7cXDQaeQQIiaEqoNPqsNlstLa0Rrn3C4IgJBd5UglxEFBJIqdl/m2JKByj1RCPt4fgVwFJTledQq/Xs3BhOdO70i1MFoHxkwjx1+6Zi6Mm+NPqaG+nv7+fgoIi5ua7FSYXFUWjwe7IpampcZzXoyAIQvxIgL0w6Yy+mh3Pilx4aH+wY5rvfxUVr8fDG6/vYNPmLej0UgRyvhCINPFXYI+dDju5CYZn1iQ/Hmncw2462tsBsDsckyuQMGfRaDRk5+TQ0tw83aIIgjAPEMuKMAahtpT4wpCD642PtuoWyFA0lqoSbs3x23mCy/9VnzmDx+OlYvFiFGVmTSSF5BF/wob4iD5Ggx0Og8ffzHD5Cmfs1BQ+B7Genh5cLheZmZmYzOYZ+E6E2YBGUXA4HDQ1NRFcw0juuoIgTAairAhxETkZmkgYcuypZrD6EThDuAtapCOaAuzauZPVa9aQkmJBdJX5SPSsX8GOTvE6PSUyumem+hKdzo4Oenp6KCwqmm5RhFmMoihk5eTQ1tJ8OXoQZs91IAjC7EKUFWEMQh2vRgvgjXV0rBKOgdU4NahNZARMaB9qyOTQ/3fdxYu4nN1UVi5Fq9UmJKMwuwmMiIkoz6OlRA6v9DMTx9bocvk/na7ODnp7eygoLJqx70SYBWgU7HY7bW1teNzu6ZZGEIQ5jigrQlyET2oCtSuSuZamRJ1AqVEnoqF5nt7ctZMlS5eRnpEhLmDznHDlI/4A4GBbXvy1gYLLT07PynJ8Z+7v66ezqxNraippaWmTL5YwZ1EUBbPJjE6nw+l0hty3JdheEIRkI8qKEAeBpK9jT99Gc8IJ3h+wjfhTrganXo12ruDKKsrlSaUvu9HFi7Usu+IK9BJYP++IpVQkkqUolm1mtrh4jXZt+j8Dp9OJs9tJfl4+Gq1GJpXChNBotb4g+5aW6RZFEIQ5jigrwrgJniQmGvA82iQwWkB9+FQseHL51p43WVheji0zS+pGzFNGLx8ar5VkPI5RASfG0IQPU0l8cnd1duDs7qa0tGzyRRLmPBqNhpwcO81NTdMtiiAIcxyZ2QkJEIgnGf+ULLKSRXjhvtDWAZtLNItNX18fJ08c54oVKzCbTOOWSpjdRE8AkXgP4ZnuxlYDZoftxe1209nZidvtxpGXl/SMasL8Q6PRYMvMpKOtDYl+EgRhMhFlRRgHo03Q4ktbHMjvFX1f4PhwFUUN+Tnw1lsUFhWRk+MYsarM/ImjkAxGVxIiK/OM1df4zhxanHQmhawHFHwF6HX10NXZSW5+Pjq9Xq4SYcJoNBocuQ4aGuqj3OllhM1F3APdHPvtP/PQf7xM63QLI8wrpCikkADRCjgmOjmLVpZvrCllcDk/318KvtXiAwf2c9NNt2C1ps6ceaIw6YQWeoxW9nE8fYXWiogc5f4zBRebTMY1kRyiXVl+nE4nHR0drFy1aoyWgjAWvnGj0WjIzMqira1tmuWZyzTy7Bf/lkdPDOAd2aJLSWftR77Dl7flTr04Xg+9LRc4c3EVw1N/dmEeI8qKkDChqkXsiU+4ChK+9jZaRXHfvmiTqcC2Y0ePkpmZiSMvdyRgWBxb5g/Rvmk1aO94RkLssawSrl5HtlajtJs+QtWr7u5uOjvaKSldMEPkE2Yr/vGj0WhIT0tnoL+fwf5BjGbjSOoTsaokhYOP8K6vP4V+8//huw8sQKdVYLif7n0/50dOSRctzC9EWRGmgdEmg9FXyQNbA+HMu954nas2bSJD0hXPO5SIV6FF6RIZDeFpuIMLSAb36W8Z7oAWOGp6J2mx6hn19/fT0dFOhs2G1WqJ2VIQ4kVFBQV0Oj0ZGRm0trVQVFQMyOhKDo08879PUl34IZ758FUUZ5p8zzjVi7fwS3zTmzLdAgrClCIxK0JcxIoQCC/YONqELTy0Xr0c5Bt6nD+MP5qtxt/ybHU1RqOR3Nx8dDr9jIoWEKaaQG2U0duMFeMSfRSNnmksvnaTT7QUA75tPS4Xba2tlJSWgSJ1MITkodFqSc+w0dEurmDJpY6qYz149OlkWfSBxThFg8aUhi1F1pmF+YUoK0JChAcXR3udaG+RucFGc//y7X/j9ddYsnQZWdlZYlWZ5wSPmPFnuQqMxcCraFnowrPTxcodNr1ZwoLP3ONy0traStmChdMmjzA30Wq15DjsNDY0Trcoc4y1XLXViP7VX/D4hSE8MW8lg7Scfon/e8dqVq8e+bnto3z1j1UAXNr1K/75Ux/n/z11hO6Q49p47b8+xT33/Qt/PFrPwMjW/T+4l5uvCepr9T/yytDoLmed59/ikQdWs/mdD/Lw66K0CpODKCtCXATn+IqeCym01dj9RY9I8TvzhKomwXtVWpqa6OvtIS+/AKNR0hXPd6KrBQFFIlZOukRSFAf3EukCFr51NLkmg2jOb75tXreXrq4uBgf6KSgomIAyJwgB/NeLTqvFZrPR3tZ2+RoRu10y0LL5n77BXZZL/OCd61nxrp9w3u3G7fGGfr6uNjouVDH8wPPs27ePffu28+jHFtH86x/yk11tFBSVUpjSxp7dOzlcG3S3ajnOvuN15K3fwpKCfIzeA/z3u2/lb/+0mn9+/K+8uW8f+/bt47t3vMxn172bn9dEub+pKl01B/jtNx/i2b67+fLDP+CT12RN/kcjzEtEWRESItpkJziL0thZvcLVkHDnsEiCVRdVhd273qBicSU5drtYVYRRGXvi5J9ehdv31JBR7d8bK9l2pAIQj+I+WepMwFrp6nHR1NhAxeJKUKanZKUwd9HpdGRlZdPcHFoYcrrKo84lFO01fHnXWzz3pSsxn/8hd61exZUf/AXVfQO4/anBUguo3PZpvrLNgWd4kMHBVLIc5dhtDZw+fprO4hVctXEDtq7zVJ2vGcko5qXp2CGqDOu55ppFFGd52f/Id3hOt4lvPvwAVxVnYdLp0Ol0bP3ak3xu2Rn+85FX8ATJpqpeBpqr2PHzb/B03zv43He+zM15WjQaeR4Lk4MoK8KYRAsoHl+C2FDnmvhaB1CArs5OGhsbKSouJi0tdVySCHMf9bK6EWoTDCbcDjH6yIz9EB4tniXeeK6JEakY+c/W39dLS3MLxSWlk3RuYX7iG3NarY6skfTFqtcbtE9IFsX3/Yx9Bw7y5OdXo6v+IR+47gF+fXYQD+D1uBlwNXH6rSf52ruv4/rrr+feT32Dp4/7j06ntHwxC9Ruzp2+QJ0HcJ/kle1H8KSXUp6bg5ljHNzlJKtyLWVpVvShZ2frLctQX3yV3f5Nqpeh9nP8+Uef5T8OpXHf//lnbrRP2cchzFNEWRFGZfzTq7EnZ2P3Hbqq7fV6OXhgP0VFxeTY5e4ojI0yyjgMZP+KZjOJrgBweetEJ2TJrHUSXQ1TVRWn00lLawsLy8slCYWQVFRUVEXFYDBiMplwOp3MlJituYaiaFj04V/w6p+/yfXqKX7673/gkurFWXeYRz99Ex//zg4cn3uBvXv38tyjX+felYFj00sqWLJIQ9e5U5yvHWbo1HEOtuex4tpVLCgaO6tYXkFx6IbhHtqPP8kvXldxbPkQ71jkiX6gICQRUVaEuAjO2RV90hMto1d4D4lOl/wxAr7enN3d1Fw4R3FJMTZbVkRovjA/ie6aGDkyRovVCLQPbxNt0qVE+Ss20dJITCZ+JWxwYJDWlhbsdjsmk8R2CZODTq8jKzubxoZGuSNPKloMxo3c+a48PBcu0TTcTXv1S+xuuoIPfukRPrM1B/Di9XrwBMfEpy9jw8ZVWDoPs+/QAXYePkZXQQ5XFOWRCYABo0mDZ2iAYW9YTAzDVFedgRQzl+8ghjTyr/w4//7JNfS89jBff+okHX1S90WYXERZEUYlXleW8WQCUwh3vAk474T27FslPl1Vhc2Wid3uQBHfWAEYe+SNpqD4bSpqiDIRK2A/sGbsH6fjnZol06oSu5++vl4uXarzxasIQpLxj36tVkd6egadne1RWol1ZXz00Xq+GZfbE/gEVS8eVxOHT9ditKVjVhQUnQ7F46G3vx8A90AbjRdPUxsaQkRR+XLKMzXU7vktv3m5jwWL1lNR6g+GX8qGGwoZOPMmb525hHM4cM7e5j288JcmCu67mfXBHZqzWPS2v+N7H6jg+G+/wr89fZzWHlFYhMlDlBVhXEQ+gsIDlAOr3eE5YsbOvEREi/7+fk6fPkV+QSE5does4AlxE18GrMRjVeI//2SO1cgUygoKqNDX20dLczOlZWWTdnZB0Ou0ZGZm0tLcErFPVJXxcpRHP/ItfrvnAEeOHePYsWMcO3qEQ08/zJPO1dz0wDtYoTdiLVpMmVVl78svcOzYMfbueIXtL7zIqZ6w7gpXcs26Qozn93N62E5pRQn2IA+wpTffxw0FLfzqP37GizvfunzOP3z7/7LT8F6++en1RGBxsPCGB/k/N9k4+Ydv8u9PHqCmycnwpH4uwnxFKgsJcRM64Yt08oqP0VfBY+2tPnMGo9FEfl4+Op0MWyFZKBGjbrSxnJgD2Ni9xGa81hffcR6Pm46OdjweD/n5BQn2IQjxo9PpsNlsnDhxPCQOTJIYT4RUCpf38Zcffo9XgrYazEv54sMPc5PD99pevJWP/UMn33v4Kf7tFJgLl7Puxi/w4OI3ceWmBk3w0ii7Yj3lJy9hLdnA2opizMGny76GT/9nJSu//288/vOHec5vJCl+gB88cSdF/nYaHal5FVzhzsIAGLNKufq9/8TnjQ/z6Bt/4Hem9/Dx96whY7I+FmHeorR2OuWOIiRAaK2JxGs2BE/CgquqBP8ObTs4MMBzzzxDTk4OV151FWazGbGrCBAeJD+RfhjpJ1JJUCNsfdHiWqJtT45E4znO5ephx6svo6Bw2x13JlEuQfDjuzK8Hg9Vp6p48fln+fwXvoii0YQoK/Ohrk/niRO89fnPk3/1VVz3n9+ebnEEYVbw/H3vp/v8Ba597DFM2dmjthU3MGESGK1M3+hOMaHVwX3U1tT6VogLCkYUFUFIFrFiXqIlz55Kxus85jtuYGCAS3V1VCxenGS5BMGPb3xqtFrS09Pp6+tjcHAwiq1SEARhYoiyIsRF7OxeiR4ZmTUsnOCeh4aGOHe2GpvNRm5uXgLnFYSxUEN++7OBqVFU5tFHXGRaiOTINr4pn9frxeVy0tXVRWFxsbjjCJOOTqcjLS2NjvaOKGlTBEEQJoYoK0KchCcuDn4gRSvfGDl5Cz0yljtYYLIICk0NjTid3eQVFJCWnoY8+oRggqs6TE7Pgf6jJX6ITjRFY7zKRyLH+M4xPDRE/aVL5OXmiSVSmGR892ydXkeGzUZLa2SQvdyzBUGYKBKpLEyY0VefoxfWi74luCcFt9vN2bNnsFitFBYUTlhOYS4SGT8Sv6d8aGWV8LiV6Bnv4pNivATnzIvfmca/iOBjcGiQCxfOs7iyMomSCUIk/tGl1+lJS0+no71NgusFQUg6YlkR4iIy/Wuw9SQR16zQehbRg5Z9K8TtbW20t7VjtzvIsNkSPI8wX5jIqIgWmRKtBGQ8yY8D/UWrThS+TR1zQpe4LUZBVaG/r5/G+gYWli+SK0aYVPxjVKfXk56eQXtrm6gpgiAkHVFWhHERS1UJ91YOn5L5Hb0Cr4L3BVa6Va/KubPV6PV6SkrL0GhkqApjMZrKMTaBSJXpChAOFEVNTMEISO7xeGhpacZg0JM1RnYVQZg4vpGn1+vJyMigtbWFkHo/giAISUBmgELC+GNO4jf1jxaeH1w8MjBd6+zooKWlmeycbLKzsyKOF4RkoBCpeMefNnjstBMqAbtK8Fa/tSa0r+iyxcdIvMrwMGfPnqVi8WK0Wm3cRwvCePCPT61OizU1lZ6eHtzDviIdcscWBCFZiLIijIPYj6Fodez9RwQUnIB9JZarS03NBTxuN6WlZVIEUoiTgAoQPOpGI7RFuEUlOKHEVBF8XcR/bn/L4WFf9rwlS5ZNnoiCcJmR9MUaDWazGZ1Oh9PpJDhxCojiIgjCxBBlRRg38Zv5I9ebo0UK+POAuZxOmpoaSU/PwO5wBPUhCPETma8udNxF5utKJKTevzd2i4AzTDQLyljbEkVB9ap0d3fT29tDfoFUrRemFr1eT2pqKh0d7VH2iroiCML4EWVFmESCHbtCp22jJTquu1hLX28vpWULMBqNUyWsMGeIDGaPPVkKJMqO3s/UE2oViifM3tfG4/FQc+ECBQWFGM1mmR4KU4L/ajMYDKSmpdPe2iqJHQRBSCriXyNMiMTXhCPTWga/GuwfoP7SJYxGE4VFRQn1LAixiDaKxqrRMpGRF/26iNwasL4E1zGK99yhkg+73Zw6eYKVq1YnKq4gTADfaNXrDaSmpdLe3o5YUgRBSCZiWRHGQbzrZuHhy7EmZIFJXEN9PU6nk9KyMiloJ0yI4Nip0DxbY6spsV0ck1nwMVoP/siuYFnHutYUUBWGhwaprblAxeLFsrItTBn+savXG3xV7Ds6gu70MgoFQZg4YlkRxkFAuRjPo8hvWwnPkeQeHubSpTpU1UvZggUTFVKY9/iDfEPLPcYas6OpJ6Ptj699LKuKX0q/81doUPLYMTO+dl6vl9raWmyZWaSlZ8RxrCBMHDVoFBsNBtLS0mlrbQ1pEfzXfBqTjfv2Uf2Hp6dbDEGYUSz/m49gKy9P+DhRVoQEiT9dcbTieqO53DQ3NdHW1kZJaSlWq5X593gTkk3s5MDRRmI8qYpD24VXlBivfSVwbSQ63n1Heb0eTp08ydJly9Bo/L3JtSNMDQoqGq0vI5jb7WagfwCT2RQju978IK24mIW33zbdYgjCjMI8zvpfoqwICTFZnsher5f6S3X09fVRUbEERZk/DzVhMommIkdLqRp7IjU+62G084UXQY3n2PjO5fV6OXXyOPd/9OMJHi0I40cJtggqYDSasKZaaW9ro6CoiPkcu2JxOLBczmYpCMJEEGVFSBLhEzIlKJTeH0Ac+5j2tnZaWpopKCwkNT0NVbydhaShRFUXwjPSxdNPMKM7dk0VCqoK3V1d9PX1kZefL1eOMG0YTUZSU1Npa2sdUVaEyeb8+fN8//vfj7n/hhtu4Pbbb59CiQQh+YyqrLTs3cu5X/1qqmQRksTqf/1XTDbbpJ4jfEIUbeIWWds7ONYltNZF/aVLtLW2cdWma9BoJO+DMDmEBv0md9U3tqoymvLgvw4SVzCCr6ATx4+xuHIJOr1+njnbCDMD34gzGAxYLBa6OjtHdfudifz0f37MuepqPvG3n6FoFila/f39nDhxIub+5cuXT6E0gjA5jKqsDLtcOM+enSpZhCShut1Tc56R/yMnRqFr1krIq9D9CtDd3U1TUyM5OTlkZmaOEQYtCIkTbeIUui3x8ZaYUhJO9Ore0W1AY/Skqhw7eoSrr9nM9Fh3hPmOf9wa9AYsFiudnR3MJlXlp//zY954bQeDg4MMDQ5OtzjjZvXq1Tz00EPs3LmTX/7yl9MtjiAkjbjcwMpufRvLP3L/ZMsiTJBXPvd5ei7WTcu5o7mejG198dFQX09jYwM337JNrCrCpDGxbF7J6z/6kYnbVvzth4aHOFt9ho9+/AFRUYRpwX/NGI0mUtPSqK2tCbOjz2zF5e533svFmhrOnDk93aJMiJSUFEpLS6mqqppuUQQhqcSlrBisVlILCyZbFmGCaPX6KT1f7IlRcBrWYJVFIdQ9TGGgv5+W5iYMBiO5efmj9ioIySJUIZmcMTe60hOc/8ufyjuxZOD+/s9WV5NfWIQ5xSKxXsI04RvPOoMOi8WCy+nE43aj1YVOMdQZOkJtNhsGo3G6xZgw+/bt4z3veQ8DAwPTLYogJBVZxhYmGTXitw/fA6u5qZGLF2tZt249Wq12qoUT5i3xVkOZvLMHCj/6CdSxj78XOHrkMCtWrMSXQG9mr2ALc4+Qu7qiYDKZMJnNdHV2juyXMTlVDA0N0d7eTm9v73SLMm4O/+wB3v8Pj1PdNxR15Ay7mtn7q3/hc/+1g9Yo+4W5iSgrQgLEmsoFT7ECf/unYpGKiu/18NAwjY2NDA4Osmjx4skQWBCmhdiqUPT6LuGxXPHgv74O7N/H2nXrI1QfQZgODAYDZpOZrq7u6RYlbv7z2//OiePHAPjav3yJurqL0yzRDODAj7j3nju57bbbfD/veCcfeOTApJ/WM9hLT98g3lgNVBX3YB+9A25Rg+cRkrpYiJtEahGPWYBPhba2FmounGfNmnVSyE6YFsJHXOwq9uHlH8fqNby3WCp75DnjuwJ8PbW1tuH1eslx2BN2IxOEZBCeW89kMmOxWunoaKecRZfbBa6AmXef/7vP/X3I69lU52vp0qW89NJL7N27l6985StotVq8Xi/btm3jk5/85DjiQL3s++EH+bc/VfKpXz/BFosRDR76+/fxi19Ovnqw5oH/5SkUZtFXIEwBYlkRkkBgTVdFueyVrIyy1utxu2mor6e7u4sVq1ZFcYkRhMkjcmwm5oA1dv/RR3N4BFfgzImNf7+0hw8fZMWKVWgUUVOEmYHRaMRisdDZ0THqVZXcK25iaDSakJ/ZpKwoinJZ7quvvprt27fz2c9+lhdffJG3v/3t48gKdpj9uwZY/9AnuNpkQqfRoNHosViu5pMPrfM1UVW87iH6+/ro6+ujr6+fgcFhPIDX42ZocIAhd6htxOseYmBgkGG3d9Tv3eseZGDY43tv+LIdugf95+mjf9Ad2+oizFnEsiIkTOxp0Vil9/ybVLqd3VysraFyybKIIExBmAoSm46MP5dYuE0msspLIlabgDy+lMVH2XLt1gTkE4TJxWgyYk5JobmxkWhxilNrVwm2aAackgf6BxgaGkq4N0WBtLT0pEk3mRgMBsxmMyaTKcEjdZjMemprz9LpWo7dZkYbprypw07q9jzGN7/3Ku0aUD2pFK+8hfv/8Z3kVb/KEy+8irLqI3zilnJ8kagezv/1x/zs1W5W3/0B3n5lCSkxzn74px/jX50f5LHPXI/FqGXQ1cJfvvMRfjIDfWkAACAASURBVHrCjE6Xgq3sWq4r9CT+gQizGpklChMism596NbgnEf+v7xeLy3NzVy6VMctb3u71FURZgCjj7/YtYSSM24TrdCiAAP9fVw4f44HH/okUz0FFIRw/Hd4o9Hks6x0daKqapCVIrJM8OQRbe0+sO2Jxx/jz3/annCvBoOBh3/041mhsNxyyy18+tOfHseRK7j/07ey9/sP89CBzfzzV++gSG8hPScNf74096CHoaEc3v/jJ9mcA10X9vPMk4/xx+eW849bCyhPtfFmdTXnr1vAIoMG3DVUn2sns2QjyxbGVlQiGeT1b3+QX9a8i689+TesdPfRcvRJvv7NZlg/jrcmzFrEDUxIIj5XFr95Xw3y9A9+UPT09HL2bDXl5RVYLPHftgRhckmGY0qoO1eoSuO/KqKVTU1UXVE5c+YMJSVlGAzGGeNOI8xXAiNQo9VgNplQvV4G+gYmGEcVzzUZu43fLTlkm1fF6x2fI9Hw8DC/f+I34zp2qunp6eHSpUt0d48j0cGKD/DIo9/mwZJD/OCf/pG/e/B7vFzfQNdIRmR9aibl193FWl0Tly5doqdvmAx9Jp2nz1GTXUrligIyuo9y6Gg7HmC45hzn3QUUrFxMaXYCcvTvZte+VG78/N+wEkCXgq38Zt67LT/x9yTMasSyIiRAvDW7o6+kgc+q0t7exoXz57nv/R+I2YMgzGySN24TtYn42x4+dJCVq1aNrFzLdSRMH+F2RqPJjMlsprOznRRLyqjqRjJslIE+/G5f0V2RFaCntwePx0NOjh2T2ZzQeQwGPR/9+IMTkHTq2L9/PzU1NWzbto277757HD3kcsuXHuFmVWX/ox/nR1/8DEfv+xGfvjUTw5CLxlNV7H/1Nzx3sg+dZ4jebg321auAFByFJWSnXKDuXA0dK1Jpq67Fk2qhrMiRgFUFOHKQtzQb+erKcYgvzClEWRGSRGi94sCWUKvKQP8A1WdOk19QSHZ2zhTLKAijkfwJvxLlVWxVPhaBa8tVU4N30Le82XzkCBtKy3CeqZbMOcK0ohiNpJaW4h+rJrMJszmFzs5OCgqLRjlyLFUlmtKRSP680KeQCnR1dmK1pvKxBz7B8pVzdxa8devWcbqBhaIoCmvv/wFfsn6Bv//lE5za9hEKz27nv776Cil3/Q3f/skGMtqref33v+WZdt8xKfZiFjpSaWw8x4WzKueq3KQtWsai4gQ9KfQGDKqLoSHA4Nvk9XoZGhqc8PsSZheirAhxk+h8KLxevepV6ers5Py5c7zt7bclVTZBSD6TVSIy2D0ysd6Pfutb9NTUALASuFj170hFCGG6sZaWsumRR/CPZpPRjDnFfDkjWCB+MbgeV+LjPxZKmOof/jp40ay7uxudXkfKHHdBbm9v5+jRo9jtdnJzcxM40kXDhQFsRVmYdJoRR7pBNEoKSloq1qEhBmsu0Z69jLvv3kCmd4iO9kbO1jRB6gpfFylFLF62gFPO0+x/w8mQNYXKsgKyEn0TRRUsMf6eYwfb2LAxG6PXzUBHHcfPt4Csdc4rRFkRkkT0ahVK0MRsaGiIc+fOkmJOofTyKpwsCQvzh2hTqLGJbJWzaiVagyEJEgnC+PEMDdF6+Mjl1/67vclkGikM2UWsDHl+VWWsJYFQm70akpAl8thojmChPXd1daHX67FYrHG8w9lDeno6mZmZ7N+/H5fLxeDgII8//jhbt25l27ZtCfRUzTPf30XhXevITdGjAF5PE28dd7P2to0s1htpKy6j3PgSb2zfj6G4n/bzhzhVPwSVgV6yC8twmE/zpzfPseKmW6ksSyRYZQT7Gm669k/85te/ZqFuE1meIbrPv8nxdqMoK/MMUVaSTH/DMQ42WVi6rJgMo27eTcVjFYNUVRWXy8nJE8fZet31Uy2WIIyD5F69oZ7zoZOuRNn0ta9gcTiSI5ggjJPe5mb+eGdkPITRZMRkMtHa2prwCB+tLktsYqXL9ys1gW2dHR3odXpSU1MTlGxmU1lZidfr5Te/+Q1r1qzhW9/61jh7SqeksJf9f3mR4ZEtilZHya1f4FNX+xSOjAXXcdfbLvGbPc/wTFUmpYuWc+8HCznW6cDi7yarjJVXLKW9N4vcsgXY4zRkpZesZn1/Dv+fvfeOj7LKF//fz/SaSSa9kkJCb4HQBQQEATvYRV3dvrrurtv3u9fd6733t7rNXXXtuq69AlYUVFAQ6SAgJQRICOllei+/PyYhk55AIIXz9sXLmfOcc56TmefMOZ/zaXKZhCQlMu+uXyE9/i8+W7MGVAbixi3knhvj+MyegDiuuXAQwkof07Dlaf7fqjwefOhOCtWKphjjQ53u86sEAwHKSk8QDAbJzy9AaFQEFwqdCfBd1247P0S8L8HAp9nYS61SodXpcLmc+P0BlEplhz6MzSUROn72W/t4dXQtul3nGhWAYCCI0+nAHB+PRqNt0tQMnbVo9OjR3H///WfZSx5L7/01S7uoodCZGb3sHu5f1rp8Wqt3OrImL+H2ydFlDioOlVBWbaGd14k5j6KCFIYvvZffRRXLFanMv+t+Wh9xTmZ0z/4YwRBhgAkrXiyVJRwrdmAeP5Xs2N60refw57txpk1m1LA4tMpzNUZB53SUXyXywu12s2vnDqbPmCWSQAouEFpvvtpvs5pdfofOZklw4RKtvUAmodVqUSgU2KxW4hMS6KnA3bmrfXQa1Y5Ekrb9h5vqRQWosNkIh8FgMCJTiMwN5x8nNSUH2bO/lHYBlfP0jM1OQqfuqJ3gQmdg7RoDVkp3rua5l6qZ/fteCiuuQ7zz8INUL/sbv0gVwkp/E71shEIhTpaV4nI5GT1mNGKDJriQ6PicuGe1o8uFbkUwmNBqtajVahobG5uElba09T1pjiTZdn3ouyffYmlELpMNOROwwUMyE5fdwMRl3dcUCKIZWMKK34/Pbm8vcfcEm5XGQIBAX49J0Ant0911ttHy+/1s/WoLU4qmou1lXHuBYGDQsYlK587Bba+0t6PvXnA5V9HIBIK+R6K1UZZGq0Wt1mC1Wtpcbwlt35mbfDPtZ1FXRl6tR9ORj5jVakUml2MwGoeU+ZdAMNQ578JKKOCjZOPzbDjWVKA2kjh2LpfmwjcbX+W9TUeoqPLxxaqnsO3PYMykaczM11N9aBc7du6nwtXULnkMF08bz/BkAzX71vLF5k84XGfH/9VqXnZuwVBwETfNSebE+nfYqr+I2+fmIJMkIITPVc2edZ9SljafFUWpALgbyjmw5UN2VzT1b8pg9KRpzMo3nx57Y8lWtu76mpOW5pJUJi2awZhh8XS1BS/d+AzrSmSkTlvOsjExffZZ9idtk3B1tnSEQ2EqKytoqK9n7NhxTQuUWCQEQ5/OzoPP7Olvm4dbIBiYND+nGo0GtVqNzWqlvdjRmb6xo6e8uzhh3dVrqW2xWJDLhWZFIBhsnFejzVCwnu2vP8YTb2yjyu3G7bZRU3OQL748RTgcwu9z4/EHCIWC+D1u3B4vvmAIrCfYt28Pu4834na7cbvL2fnBm7y1djcnG32E/F48Hh+BUJigzxOp4wsQDlvY/drD/O2DI4SjHCh8rnI+f/kx/r3pJBDAUXuEz177D298sp86txu3u5ajJYfY/01dUxsLR79ay0vPrOKLfWVY3G7cbjelW9fw8rPP89nBKhydqHRKP3uCh//xPFsq3XgDoXP/IfcD7TdlLSWhUIivvtzMuPHjiYntlROSQDDACTflIOiIthoV6fS/nhu1iMz0gsFHuOk/XZMZmMXSeNq4q+WwqvkdtH7Oo8s7ngHtyzqeJx3NHJvNhkwmH3JhiwWCoc551ayEgiV88sSz1Fz7Ev9111hi8ONwVHDokAptXCrTLvsWsoCTSruL+Tf+mOubwz1YXaSPn8eKOTmMTNYA9XzxyB95cssm9k4qYFHhldycpuTAxgO45tzAndeOJVkPcLIHo/LSeGoHmz7ahXblg/x4eS56HFRU1ONwRH7QGo9u5YPVayiWTeX6Wy+naHgCaqB2/yqe/ft/eP294eTdfgkjElvrVyy73+Dhh1/DNvXH3PODFYw39d1n2d+01o60LDBtHesbGuopOXqURXfdLTQqgkFM75/djgzGzlQ/IvxVBIMNtUaLRqOhsrKCUCiETCajb5/kjuZS68hg0fW8Xi8etxuTyYRarR5ykcAEgqHMeTYDkyOTgrhLv6akcSyT4pQYDMOYMqWbZqYsRpncnNy5gRdf3c1JFzQUl1Bap8TidBGAs4q3LUky8NqwlB/jlD2XAqOBtLTmk5dGSrZv42CdkWm3LTwtqAAkjl3Msrmb2PL+Tg4tLWJYlLDSuPs1/vnqC5SO+BH/73vXDClBpS1d/dxv/WoL+QUFxMefQUIogWDA0vNUdtGczdaovq6egN/ffUWBoF+JCApyhRytVksoFMLtcmEwtNdmtA+10vMZ0pEXWMdXI4drdpsdAKPRiCQTQopAMJg4r8KKTJ7Hkp/9HMfLj/PX/z3CcLORpOnL+eH87C7bNRzZzGefvse2Ch3JiWkMG6ZF07AHzRl54rdFgzlzOpesOMF7G//JgxWbyEjLpnDOpVwxKQWwY2204SeOuNgYWkfV05FbkIPhtePUeLz4motrNvHi4xXslM/hkd9ezrjYoRoisetTMpfLxc4d2/nu939wnsYjEPQvHefqbl3Svk1LLKTO+5Q4VlKCx+M56zEKBOeSaJ2GRqtFqVRis9owGJr9RKLXjc4iQ3YcoKKtE3/b2i0Rxdr7VVobG5EkCZNpCJ8cCgRDlPMsrMQybunNxCUb2V7qwVL2FW8/+k/8dSu57bpJdOjR4D7Fgc3v88mORnIvu4EVc0aRZVZxSLWfnTXt0gqdAXJ05mxmrvgWSfn5HCqv5fCBbbz0SAXuW69j2dyudTZ+v59wqI0vijqR8aOV7N1Rwe7jdczNSQNpKJ3kdOzYGG5Tvn3bV2RlDiMlJRURrlgwtOg+BPGZG351LOAcPngQo9vdZTAPgaA/afvk6rQ6VEoVVpuVtPT0qKtdH3T1NA5e+57am4E1l1isFiRJwmiKFeZfAsEg47wf+csUSrKmLWf5iuu48YZbuGVEHe+sWceBxk4a+C3U19XhM46icOIEsswqwI7N6sHj7u5uZhKSJaiuofa0h32IYKCO2srWNdWmZMbMWc7y627hzmsWMF55lI827qLMEU9SaiJqqqmsrsPVqpWVw/uLsSYlkW3QtWwiTCOYe/M9/Gmxgrf+9Uce2lDdm49oENHi2Nh26QkGAmz45BPmL1zYZKssEAwVWjsBR9O5S3xXbaRuN08+n49T5WX4/L4u6wkE/Uvr51yr06FUqU6HL+45bZ3uIXpmRV+V2vzrqA6A3WZDksBoFM71AsFg47zuIoPBfbz66oGmOyuR61IxqhpQGhOI0wIqFWqTCY3HQ6O1ycZLq0OvN2CrqqGiqgaAiq2r+eDz7ZyINgOLjSNeocBS34D/tF23nikzipAfeZ01B8JACK+zjPWPPslmR3NDF9XV+1i37njkrcKASmtEp/WiNcRgUOnJnVjIqHgr619+k493nqRZRird+CKvf+Jk4tI5jMqIpVUeyoQxLLrlXn48upzXHvotf/uspm8/zH6l+yhF+/buJS4+nvTMzC5zsAgEQ4voYBPda1U6FmFab9QkwpwsLSXGZEKpFNluBQOXlic38kqn06FSqbBaLG3if3WXJeVMV4yWiHutjM2CIex2O3K5XIQtFggGIefVDCwcrGbX44/xySeR3CXBkAxiLuZnP1lGrgbARM7IGcwa9Q0v/uXH7Bw5kYsvv5zF8xcx8/gq1jz4UzbG61CnjiQ1IYOUaM2KZjQrrpvJljef5Nf7nkc79TYevG0GCfN+yn17f8I//vA9dsSDpAiRPnYZk9P+TQkAAVxVe/nwr+/y+uuRHCjegJqkkZdy27XTSFGBKqOIa76txfDqKtb+/Zes0RpQAHZvDNOvXMmyRRNJ1ndgLpYwiiu+/3/w2K/4y59/Qemu2/h/984n8Zx+yueLro1cPnz/fa5esQKFYmDlHRUIzp6u/E9a1+jaG6XnlJQUk56RiUqjBVe3KuUBi6t8D+s/20pd8lyuXTQSsW0carR+0nV6fUSzYmkkes2QOqjb0z67o63HigS43G4CAT8GgxG5QiEigQkEg4zz67OiKOS7f/oFdacLlGjjshiZn9jkuK7CmDGFy76fyIgKG2hMpGSkER+bwk0/GsZFVVb8gNqcTqLqcq52yTCnpzS1NTFs8Xe4L78SpycA5lz0ajno81n6/QdJL7UTBmRyBQk5BSjmFmIxDQd0pORczHf+MJzTihqFnviUTLKbtSVKE2n5U7n62ykUVdRib1bcqBPIycsgIUaDvKko4aK7+NsoDXkxGmSANmMiV/zorwwrc6KIGTaoF+fOHYFbnw0fPVKMTC4jJzevk/oCwVClrSFK5Iy3s61R9zMjUuPwoYPMnjMPm1ZLX3jqdcTJzS/w6pp17KuKKhxzDb9duZCRaX1jOhN01VNWfJBy/wQ6SU0lGAI0CwxKpRK1SoXH4yHgD6BQKqKut9TtTUCK3o9Ewu6wEw6HMRqHRlJmgeBC4/wKKzIzw6dPZ3hXlVR64rNGE5/VujgpexRJXQcNg5h0xk1Mb1esSR3DtNQ2hQmFNN9CG5POqOnt27VGiSk1D1NqXpe11En5TEpqXaZNG8v0tG66H2SEo87G2pqxrF37AfMXLkSlOpuA0gLB4KOjBHaduRL3dFtWU1NDOBTGbDbjUij6XlixHeLDV17jpbeOMezyRdx64xjiAWjgq9df44GfrmfOT3/F8smZxAgrNEEvkGQSWp0OmUyGw24nzmxuF4ilqWab92crtERm3mnn+sZGwuEwcXFxZ9jfBcg3b/DLZ7/E4wtG3svVxMz6Fv+zYnTX7QSCc4Cw0RH0mI7OhtumgqypqqKhro6Ro8YgSd07DgsEQ5OeWud338OxkqMkJadgMBiQ+jyqYAVb1rzOSxutTLr9B9y0ZBwJcfom/zs/eSm5ZDz7a5770xOY/3YPi3ITRTQyQbdEC+l6vR6FQonVaiHObO6kRV9Gi2wbESyM3R7RrMSYTGJN6gEH3vgtT6/VM+2n36VQo0RGEI/3AO995uzvoQkuUISwIjgDwk3LQNtoLfDJ+nXMmDkLnU57DjZWAsHAp+tkdT27Fs2xo8WkpWeg0+nPYlQdYzu4my82l5NQdCWXXTWZVF206kRJTGoOC3/4bfbf/hDvfnCYqbfFojUK9Yqg5+j0ehQKOTarDYjOldJdNvszd7FvpvkONquVcDiMKVbkWOmeb9j2UTExl/yJxQU5xKpkSIQJhTJJSxVruqB/EDFlBWdEixNjy4JjtVg5cvgwk6dMQS4XcrDgQqUjN/vuNmYd4/V6qaysJDklFY1G0xeDi8JG2ZFvKA4YKBg3kjxdx0KINm4OF81Wc2LbNkrtbgLA9oevYckPX+DYFw+wYMEiLv/ZKioI4KjdxeN3LGDBgqZ/K77Nb14/2OUoSjc8ye++tYAb7vsPW46Lk9uhQnNIbr1Oj0KhwGrtKiJYRwaUEc589kQI+AO43W4UCgVare4serpQ8OBxh2n0+9FILdHdZDIdZnOTXtVv59T2//DzlStZuXIlK1fezX0PreUYUHfwc557/EFe3HyyVa8nN73Ag//3EO/uaomoKhD0FLGjFJwB0WFVW0zBNm/6nPETJqI3GJtyYIpEkIILgdbCSft0dGfWpwSUnThObJwZg9FwDvIV2airriMUiiU5wdzFYqBmWF428ndPUeb1MhHwWiqp2Pw3bjbfz5pX7kBS6TF7XdTt+4RDF/+dVxanAHZK97zL8//6O4+k/B93zUlo13PZxqf517/ewFp4Jz9deSUTk4WR2VBDq9MhlytwOBy0jwhG0/vo2UObK83lHScjjq7b9phAQsLlchIIBjAYjEgySUQC65Zx3Pqd2dzx2B+4bc9y/vLANWQp5K1q+N1e7DUB5v7uIWYmgrVsLx9/9D6rPsrnJ+ONxHqC7DlQQvmsTDIAKOfogaMENRNIT0mlr49dBEMfoVkR9JjWJ1ytFw6HzcbunTuZPnMGKpX6PI9MIBhYtM4TceZZI44fO0ZycjJGg5GzE346wGqhoaEBKTYOc2xsl1XlcgVSKEQoujAwm1//YgFJSYkkxuqQq4wkXnQX/3f9WJKSkkhKyiU3ZwrD006ye9u+liiQzbff/w4vv/QxjRPu4Dt3rmBKmh61QixJQ4fIihHxWVFgtVg6iPrV2fsWej97WudasVltBINBYoVzfQ9Rop/9A5555r+5KvAq91y7gmuve4QdUTUURjP5l9zMpQXxxMfHk52Vxaj4BE7tOsiJ5DxGj0vFULuTXQeaYqyePMZhdxppE8cwPEUhREVBrxGaFUGPCHcipjS//nrvHoZlZ2M0mpCk5pMy8ZMkuBBoe+ornXUso2Z/sGMlJUwuKkJv6Ht/FQgTDodpsFix2GxAL+35R4xgpDbKdEySkCkVeMu/5JEf/ZAXj0M4HCKoyWDasGCrT8j2zfs8ue0LvjFczV03XMekBDky8XMxpGj+vmVNEcEslkacThc6fYspVlfR8lpqtLzufF51FFY/UuZ0OggFg5hMwl+lxyjUGAz5XP/nl7kmFGbTn6/kj8u/YOlvXuMHU0CSZASdNWx5+b958IMKCIcJheIYedEYQjIjaVnDiNtVzrHiMqxjxmE9VoxHp2BkZhpGcR4hOAPEYyPoFR3tJ/w+H59v3MCMWbMiC5HYdAguMMK01Tz2vm3zu+aDgdrqKpAgLi4OhULZ13oViInFbDYTaGiktt7SRf8hyktL8GUmk6FStZxwyWTImoNohMN4rJW8etc4Lr7pf6m/Yy179+5l46qn+P60Nt017OWz999iVcU4Ll68jItzZEJQGZI0famShMEQMWO0Wq2nfVmg86TCZ0rz7GklGNtsBAIB4uLMre4t6A4JuUqNWq3m4l+/w5+vjOfjPz/CzrCb2uOr+cPKX/G6+waee+893nvxYX67YtzpdobUTHLjNbiOF1Na+jXbd/owJkxg5HCD+PQFZ4QQVgQ9IvpHvu2Pzf59X5Ockkp8fOJpu3qxIAguLKR27848llGkZXFxMYlJycTEmM5NGHApk7xRBYyQjlF8sJjSQKjDakHvVjZvcJJWOJ1cg65jdXzIh+vo67y9K52Vf/6QB65MO+23Fm4rBZkncOVN3+E7E2pY/dqLvLGjFn+wz0UxQT8TeZKbnOwNBmQyOXabrU2tcLt3XT0Jnc2rcJPWpZ0XSziM3WYjFAoRGxfXgwhkAgji9fgIhiOfliSBTIKkpHSQy5F7vbj2HaY8/WK+/dMFJBHG6bJRVdWSTVYyDGfU+FzitSfYvWkPpToF8dnppIgIoYIzRAgrgh7SsoxE/9wHAgG+3LyZwsLCSB4IhKAiEPSG5g1Y8wyL7PHDlJ88SVxcHAaj8ZzdO2vOYpZdOpJjn33E2vVHcHkDUX4pQbwOC5v+9U8+sY7k8qtGEWvqImyxTIYsHMbr8wEQCjqx1JVQVt5B3fQZfOu7d3NjykGeeupx3t5VjbcTYUkw+NHpdMhkEg6HvRetOhZdOi+F5tWneR3yebx4vR60Wh1KlQi53TP28ux9r7HnZBUNDQ00NDRSV/8Nq9YeIHHBdCYqlKjTkkj272D7Vw00VB/j4I5PWbu1oVUvqRnZmOUBtnxxAL05m7EFbTNzCwQ9R/isCHpMR2dSRw4dQq1Sk56RiVIpHifBhU5X3io98WRptrN3Uldbw6hRo9Drz4W/SjOZzLvhJurtz/Dco4/itl/Lspl5RO5Yx+an/snrW+Qs/v09LB6WTKeBX+UylJnDGa6TsemTdZzKnYij6ggf/fsRNtbGMa6jNpmzuf6mBhr/9QhPPy0jdOutXDY5Fb1GKU7RhhgGfZNmxW5rE7MrOnZeV1G6up47nfmwOBx2/H6/yFzfK1QYPF/yyG/W4msqkeRKRtz0V568NCJwxI9YxnXzDvDQv+5mozqJkRNmcP0tOr6q1bZsKlMKmJj/DcXHgxiSc0gx9MffIhgqiN2loIe0DxMZCATYs3sXI0eNbjr9FRoVgeBMiZ495SfLMJliMcaYTm/uzpnG0jSO5T9/iMLCx3j6pf/jx8+0XEq79Kf8fy/MIz+pdYQ/bXwW2WmxtJxVKzHGzuMnf6nkt795mDu/Ak1SHpMv+V/uSX+Vb8w65IBMqSM2IQmPSYMMMI29gu/9IIT836/w/OPPI79rJZdNy+5cKBIMKpqfXYPBgFwux26LZJKPJAzufVLI9iJLxylYm0udTheBQABTbKxYnXrMWFb+4zFWdlFDaUyi6Na/8NKtrcsXtXpnIH/eLfx2Xt+PUHDh0WthxV1Xh6eh8VyMRXAGGNLTUJ7Tk9fOMw2Xl53EZrWRm5eHVqtB5FURCDqmpwJH80w7cfw45ngzsd2EFO5Lcub/gP+d/4Me1Z38w9dY07ZQoSVh0h08ufaONhcWRt1kBrf8eEarq7HjruLnf72Kn/d6xILBgkqjRqlSYbfZCPgDbUyyzkxw6QlOp4OAPyKsiLVJIBi89FpYObnhc459+OG5GIvgDJjys5+QMGbMeb9vMBhkz65dDB9RIEJCCgSn6XnY4s4EmIDfT3V1FcOH5zf5gYlNlmBwEi2GGAwGHHYbDrsdc3z86Tq9cXpvPxOkqHnUHofdjs/nwxxn7sWoBQLBQKPXwkrBimsoWHHNuRiLYIAiNS050UtKXW0tVdWVXDJxfJRNvdhUCS5kOhdTeiJwNG+5aqprIAyxcWaUKlVfDlAgOM+0iCs6nQ6QcDodrYSV1vSddj4YDOJwOgGIMZmE3l8gGMQMWJ+Vuro6jh8/3un17OxsEhMTz+OILlza5RoOhdmzexeZWcOIj09EEkkSBAKgd5uhzgSYk2WlGI1G4RQsYjj95QAAIABJREFUGCJEnnOj0Ygkgd3em4hg0XTksRJdFh0RTMLtcuP1eDDFmpDJZQgzZYFg8DJghZXdu3fz4IMPdnr9Zz/7GUuWLDmPIxraNDY0UHK0mPjERHJycruu29hI+cmTTJ8xE2OMUWSrFwiAszUBk4hkfD91qpyYmJgmO3uBYHDT/IQbjEYkSYbdbo+aJ81pIaXTCR3PfiWJ9O5yOfH5fELoFwiGAIMiQmRmZibz5s0jKyurv4cyJGlsaOC9d1bz1z8/wMcfftDuuhSlW5GAfV/vJSEhgeSUFORy+XkcqUAwtHE4HDgcdkwmE1qttr+HIxD0GQZDJF9QJDFkJFtK88rSvddK62OAlpxErdMVNyeHDAMupwuv10tsXNxZJGkVCAQDgUEhrEyfPp3f/e53zJo1q7+HMiSx2WycONG5yV30QmK32TlZVkZ6egYxJhNwDjJrCwSDlJ5uiqRO5k152Uk0ai3m+ARkskHx8ywQdEmzWKLVaZHJZLhcTkKhtglAzyyzfPi0PiaayCx0Op34vN4mzYoQVwSCwcygWA1LSkp47733KC4u7u+hDEmGZWez+NKlHV5ruxAcOngQjUZDWnoGKpW6wzYCwYVGb7ZCHW+wIpw6dRKdXk+cuTMHZIFgsBF51hUKBVqtlkAggNfjiRLYeybeR2tVaPMqulazeCTMwASCocOA9VmJZteuXezateuc38djqaS4+DCe+AkU5fbdD5zt8Kd8VpnJgnn5DOYkrh63h5KSYjIyMolPSBDnVAJBH+L1eqmrqyMlJZWYmJj+Ho5A0Ce0uL5LGGNicDqdOOx2dLr2+cF6o6WXOnjVfCe/34/L5UKhVKLV6wkTFhYAAsEgZlAIK31GKIin9CtWbz3ZUqYykDBiKgvHJOGqK+WrT1dRPyatT4WVxj1v8dSX85kyQIWV6qoqtm/bCkBZaSlf793D+AkTgdYxVo4fO0Y4HCYtPR2NRtM/gxUIBj2tN03N86uutpZQKExsXBxKpbJ9M4FgUNK8ioQxGo1UVlTgcDhISo6uIZ3WOHYnVHQnckhE/FXcLhdms1mYUwoEQ4ABK6zk5uaycuVKDh06xPbt20+XT548mdGjRzN8+PBe9RcOhTjxxYts+LKa6vQU0gDw43DUcHLPMBaOSerT8Q8mQuEQySmpLL/2eiASn76Z5o1UwO/n8KGDJCUlkZyS0g+jFAgGP11lsj9VfhKNRkNCYmKPo4oJBIOB5ufYaIwhHA7hcDianvGWaGBnS3RqSLfbhcftJjk1tU/6FggE/cuAFVby8vLIy8tj9erVeDwepk6dyo4dOwgGg/h8vg4c9LomFDrBFy+9zr6xf+QXt04hFQAfDkcNpaUXduK11NQ0Vlx3fZd1yk+exOPxMGLkqKbkXiJmvUBwNkQLJKFQkMrKCjQaDWbhryIYckTWCoPBQDgcxuFwwGlxpTU9N9nqqE6kN7fLhdvjIc5sFquUQDAEGLDCSjQjR47khhtuwOVy8corr7Bnzx7S09MZMWJEL3qp4FS5hOna4U2CCoAKgyGDMWM6buGpLWb3ti85HMhm6tSpjE7V4jq5ky+27qWkxhOplD6Zy2ePIzNed7rdyS9fYt1+K54AED+V6aEzi3QyUAiFQhz85htMJhPp6RlIkvj5FwjOhM42YTabHbfbTXxCApqmkMVilgmGDpE10GA0Eg6HcTqdp5/vaA3LmayUHaWFdLlceD0e4Vx/jgh6rJTu3sAO10iWLBiBsb8HJBjyDAphJZqLLrqIwsJCxnQmYXSCJOVw8SU5PPTBkzzpWMz1V0/A1FUDWzn7Pl/HukMOsmZMQq+WUXfocz59byNlhjTSs7Iw4qB43zpec3q5cUkR6XFayja/wEuv7EY9ZwZ5Oi3yQAmfflrb7zsPj8fDi//59xm1zczMxG63kZ8/IrLYCFdFgaDXtDUBi55DVVWVyOVy4hMSe30YsO3PfyUcCnZfUSDoAySZnKm/uLdXbZqFCLVajUqlxuvx4PP5UalU9FZE6dZEMhTG7XY1RQIz96pvQYTSjc/wgWcGd8wfgVrZPpdayOei4sAXfFqvZ14bYcVWfoAdB/ZR79aSbEogbcIshouvQXCWDDphZfTo0Vx22WW9bieTpTLlhjtZuf1rdn70NA8V55GcUMjSO+bQLtWk7RR7N+7n3QNuhs+5jstnZhMXOMlnX37KXmsyc5ZezdzRZjR4qEp6k0df/5JtBblcMjHEzvfW0ZhzO99ZMps8owqZ8wTsf48NtX3y558xfr+fT9Z9fEZtE5OSmL9gIcNycpDJhbOiQHD2tN5yVZw6hVKpJDk5JSoJa8+EloQxowmHB7f2VjB4OBvNuiSTMBqNOJ0OXE4XKpWqzdFXdJrIzu7Ten601tBI+HxeXE4XWq0WlVolIoGdAbXffMpHtkxunVdArxIU2E5RVVFGSYUXecBCXOYojOc5w4Gn+jDbdh3GlTSROZOz0HXfRDAIGHTCyvr16zl8+DDLli1j4sSJPW8oyVCkTuDSJTmMSsmkuMbG4Q3P89S/jrL4sjuY3SyxeGop3rEWWYyBrNnXs7gomzgVUF/OiVMSxpFjGZFrJhILS0PK+DHkvraV42U2nPpitp5KZ/xN40jXqSJJbPTZjMuPgX4WVs6GESNHUjRtOqZYE4gffoHgjOhs3ng9XiyNDej1hjMKWZyz5FLCh46c7fAEgh4hjSzofZumaF8AMSYTNpsVh8NBbFxsB3U7p30e+7a5V8DtduNyOYlPTOj1OAVnh80bIqiNZfbsEShDChJysog9zy7BAXs1xQe+xuoZxozJ7Y6iBYOUQSes5OXlMXPmTFJTU7uv3A4JudJE7tSLGeZzMypFxicffsy7b20k66dzI2GFgy4aqsspDY4hLymN5OZQ8H4/voAGtUGHNjpqr0aDVu6jxhsi1GihPhiLyaxA3l5z2q9oNBru/cWvzqhtRmZmU1QVgUDQN7ToT2prawgGgyQkJiJXyJu2YL07EAjX1fX5CNvy+NoPqbZaOrymUar41TXLz/kYBP2PRO+FlUi7Fif7YDCIy+XspE7HWsKO3fFb15CI+Ks4HE6GZWef0TgF7QkG/Ox/+394+wAg02BIGceoNnscb90xdn78Gu/tqkaj0RIyj2X+4ku4ZGwS4KBk08fsqI8jL97Nwa/3cLTaC+Sw4PZlFOUkom3qp2HbCzy57hhuXySIkmLSjfz+qpEA+JyN7Fv/b47EX8ZYywe8ub0BVPHkFC7kmiV5uA9tZd1rr/HFkXr8h+uoK57InIULmFuYebp/weBk0AkrOTk5zJo166z7kau0ZIyYyuRDu9i0sxw7RIQVdRIjps+kUCplx4erSdZfxew8A+gMGLWNVFbW0tAIyc1+exYLDT4D+lglygQzCfJDWOsDBFOApslcW1151uM9W5RKJVOmTjvj9l2FXBUIBGdOVWUFkiSRnJzcfeV+ZO+JExyvqe7wmkHkXRL0EGNMDMFgqENhpSf+Kx2FOm7J5AIeT0SzYjbHi/WqDwiHw+x//fc89ZGcGXddRUHIj6NyHx+uqYWIDIG98jCfv/E8O+zDmHPDQtLwUH5oL199uAYZV7FgrBJrRTFbP/qGbaMXML/wYi4rUlD2+Vu896YKw8rLGJcSw4kP/8rz71jJuWERY3RqZOFaNr76CH8M38V9V48kFPByau963qm1YF2wgMsuC1FVspsN761Cir2Fa0flM2HqFE649+FMncaiuRPJTY9DZK0a/Aw6B4R33nmHe++9l61bt/aqXTC4n9ce3hhljRXA6axg3+EqdCNyOX0Go9ASm1XI4ssuYaLuKO+/uZpNxxwQW8C4Ucn4929m+/6jRM4XLez9+DMO6POZlBePKWsUE9Nr2fj255Q7PQQBDrzOk5s7+lEeXEhN/wkEA4vmLcrgQwJCwSA1NTUoFAoSEpMGzTz7/bXX8+CttyMXCfcEvSQ2No5gMIDdbj+dCLKZrmayRPNhWdfzw+1y43I6SRBmYH3EATa/8zUJl/2Ay4uKKJo6jWnTZlJU0GSy6m2g8tDnbDkaIHvuci4pKqKoaCaL508lX1HH3u37KW3aAvljhjGhcBpzZkylqKiISy+fhqH0IAeOW3DVbOPD97cRKLyKJVNnMK2oiKKi+dx0RS7lq95mU9PmLazQos4uYunc6RQVzeai6TMYn2bn6JFq/LGp5OTnkZpgJjFrJJMmjiAr0TD4TuUF7Rjw3+GcOXNYu3Ytd999N9OmTeM3v/kNQO/NwMIWStY9yadH3iRiQhlG0uhIn/It7l0wFj3gba4r12DKLODShU5sb3/A4w/XUnXtlcyfdxM3Kdaweu0/+M3roCCAMns2V183j0nDYlGqY1j8o+/geuQ5/vHbT5EkGVLBYq6flc7fS/rsIxEIBEMEu82Gx+MmLi4OlVo9aLIXjc7MJM5gEGHMBT2mWRDR6/WAhNvlIhwKIXUg8HYeYqJjHX9z/VAwhMvlIhwOYzQahXN9X7BvExtsU/jukgxiACQ5Sn0CqYlqqAe8DmwVDdiM45k4OaHJoV2OLiWV9AQZJ05VUmObhByITckhNzMVoyZidqLPySVL+RHVlS68yiMcqC9g4fwczGp507emJqlwHJl/fZpvTsGUHFCoNGQWjCcrLrKTizEmMCwphq+raqkHLtz03kObAS+smM1mli5dyrRp0zCbzWccN10mn8idf/9vHFFlklyJPj6VZGNESRiTOY5rbs8koImPCCzDZ3Htd0Yx3yXDZDZjitEQc/G13DnhEpzeJntKYwLJcUY0ysgPbmxGIcvvSWGeK0AIwJBEhmoiOS4DiWfxOQgEgo4Y3BuR6uoqQqEQKalpg2rj/6sXnkchkxEIipDJgp7SJGY0RQTz+3243W70ekMve2j9LjpDi8/nxelyEhNjQjbQHEcHKw4HdsmEsbOvKRwmFICwUoc22jFELkehACkYJBiMWMUrlQrk0d+LUolKFiAYCBP2+fGFDej1Mk7LrxJIahVqvPj8kSKZTEKtavHal8lkKGVyQoEA4tdo6DLghRWA2NhYYmPbRw3pDZJkIDnPQFdW4Qq1nvjTHvWAUkdsko5Wd9bFkaLrSmBSEpM6jNYxfYzkitxUAsEFSVeBiGuqq1uElfM5qLOkrHZwhjesLd/H+7sPI8uazjUTMuho/9V49HOePBjmommTmJIUw3kOZjRkiXadN5lMNDY24nQ6Wwkr0VHDIrRP+diVpsTt9uBw2ElMEufrfUZyKunhHVRXASmRIr/PR11NVZMEokITK0PReJhjx6Egp6md04ndDmFDDAY9+ICGRgtOpwto2mc1NFDjiyXGrEKZkkiq4hMOHPAw12yiOQVPuKqaStKZLU57L2iEwbFAIBjUtLV7Hyx4PB6sVisajRaTqcsUtYI+Iuj30Giz0ujxRzTfHdXxOam1OXEFQoPwqRrISKf/GQxGgsEAbre7i/odCS3Rr1u8WJpxu93YrTaSkpOj7ic4K7KmMiOtmFcfW0sVgMdK/Y7XeH57IHJdm0TqiGkUyA+yYfU6jgPgpGTXVr4s9ZI8biwFTT9vwSPrWP/Vfo42ANTz1dsf8HXsWKbnx2PKWsDSaXJ2Pf0CO5wuAkCYSt771+ucnLmcpRk9G65OpycGBY5GK7a+/SQE/cig0KwIBAJB9wxMj4+2I2reatXV1eLzeUnPyEQmaz45Hnjjb+aBW28jGApx15NPUO+wny5/5Wc/HzQmbImZE/nuNWNArhKhTPuROHMcxcV+nA4nXceabB3KuLunzON2YbfbSUpKGsAzaZChyOH6P91P8Lf38aPrnkWuMhJfdDnfW1DJaicgyYkfPoPrvifjozef5d7rnkJBCF3ONJZecyeXT0pBJYv8XsRPmo3h1Hoe/cljnPKE8OVeyi+/tZRxGTHI5TKm3flPEpIe4H/u/haP+MIQDpJx5R95+uoCdArw9GC4suQ8Ro/dxe6X/sZPtmzgihtvYPn8gg61qILBgxBWBALBoKZli9M6E8NA36zU19Xh9/tJTU3r76H0iBhdxHVWJpPxzI/uJlav57q/PMidjz6MQaPhP/f8tJ9H2D1yhRK9QgQy7S+a56TRGEMgEMTtdrWKBdZWk9UixERfiRZgWgcy9nq9OJ0O4szxfTzyC4uJdzzFS2ElOpUcSQJ9/Hhuf+hlbgoBkoRMoUIlLWZOSIEGkCmUmPNnsOLeQq4IRHSWklyBSqVGKW/5JZapkpl29Z1MzlATChM5NFArkcsidZQ6EwXX/BdPXBYkHI58x3KVDq0qYgSkjkli4Y+e4GJZVKh00zCmrbyHwpA8YrIpNzFy4W3810U3EkCOUqUSppxDACGsCM6K5h8UgaDfkQa+gNJMKBSkpibir5KW3iysDJbRg06tRq/RIEkSLq8X2RloVsLhMLaynfxn40Y+PukGwpA+lV8snMFF6UYkSaJm3zvcv1fDzaO9PLXpIDX2bH5yzxXM9e3ml09+QnEQImZFk/jlj5cwqZtxVB3fwetfHyVm+HxuH5NEOBzmxP6PeW7TNnY3SGAaxYpcN+6wcDI8FzSLI8aYGAIBPy6nk3A43GPNXNvYXtEu9sFAJNGkUqVCo9WISGBngUKta7U5lCQ5Kp2hzaZf2bqOTI5Ko+tGMJChUGnQ6fWd11Bq0HdyniBJMpRqXeu8KTI5CpU8aiwScoUKuUKIKEMJIawIzortv/gFjfv39/cwBBc4C1atQtEUimagb08kwGqx4na5SEhIRK5QDHADsM6RgLX/9YfeNwyHKT/0Of/ZeBDN+Mt58tYCUnGwbcP7/PvzLcjnzmBmWgyEQwTqtnP/kQU8/q1FZBrVAJz6qp5Zd/6GvyXKCfjcfPbBP/n72nz+vSS/G0fMMMFQKHKqS5gT+9fz7y9KSZ52C89MziHJfpgn16ynskEYjZxL1Bo1GrUGt8eN3+dDrW6bVLTtIVh02scWX5RIaUTv4na7sVgsJCennJHwLBAIBi5CWBH0CQqdToSKFJx3fA4HtNPuRZ+3DjQhIDK2+ro6PB4vecPzGWgj7A1hwO52I0lS77LYu0+xv6wMZ9IoLhlZQCRrloGpUyay/53t7DlVR25CDHIAKZ/vzBtJQpOgApA+/TKuDnixu30Q9DEyLRfflhL2LslnUk/HEKrleFUD+szxzB6eE8nPYBzBNYXHOLJbaIzPBdHRvowxRvz+AF6PtwNhpbP2HRHpz+vz4bA7iE8QySAHHhJypRqNWoVchHUSnAFCWBH0CYuefIy44cP7exiCC4y3L78Sd21dfw+jV4TDYRoa6vF6vaSlZwxiUSXCdx97FL1azdM/urvnjTxurC49MfFJpJujyg1GElReDjl8eAJNAU7jTCQrFFGLVQCnw83xHa9z/65GZIQJ+4Ogmdi7gTfUc6JRiTIrgWQRjO28YzYnUFlVgcPpIKYpGl5XySCbr3RWx+fzYrfZyM3L67AHQX9iYsLVP2FCfw9DMGgRwopAIBgydBVXaGAg4Xa7sDQ2otfriI2LHdS29RKRaGC9byghk0KEgkECQSL5GgBCIYJhCakr/yP/ER5+5D32ZszhoZ9NJyXgpXbvO/x405mMIUw4FCIU4nQg/xYzMcG5oPl7NRiNBE768bg9rZzs29LWtb6zmh63m4bGBtLSBkfACoFA0HOEQk4gEAwJ2sYSarFsb7Z1728i47A0NuJyOUlNS+/vAZ01YSIJIsvre6nd0hpJigngrD3FsWovkeTUIdz19Zzy6zDH6jp1suVkGXvCmdx+9RRSw2GCAReHK2p6P3idgURDGJ/NQr2jKe+K301pfQN2j7/3/Ql6SGRmxsbG4vP5cLtdXdTt2E+lXTjwcBi3x4PH7SE2zoxAIBhaCM2KQCAYUgxUHUWzuNRQX4/D4SAra9iAHWtXDEtM5GRdLfV2OzlJyTyw6i10KjV/vv1bPe9Ek8zo3AKOVH3NjoN70EpZJODi0P6jVMVkcW16PIkq6FAEiU9jonEPm/ZWkZct4bMeZm2Ju/dfvDae/Ix4du06ypcHtJCdgNZ6nA1lFmq9Mb3sTNBbTE3CisvlivrqWochjy5pixRVz+f1Y7VaMMebkSvkg1pbKRAI2iOEFYFAMMRou0np3M79fBMMBLFYLISCQRKTkgbAiHrP/9x8C79/+SUcHjd//9YdKBRntowkZRdyk1rD+7t28dqH+wCIHVbEzbNGMSouEnZUoYsjJ1GNQSFr+aRM47lzbikPbF/Lo4dkqBMn8d2lU3hutwZdN/dUqvWkmhPQaxWAloJx07kuvI0P9m3l2YNA0liWjxyNtkGLSSkfhN/OwKdZA6rX6wiHw3jcHkLBYCcBWlrP3c79VXxYLRYSExPPzaAFAkG/IoQVgUAwJGiONNTfp6qdbagkJGw2GxaLhZTUNFSqwZsH4P6bbu6Tfgypo7l+2Wiu7+S6efhcftlB3I7EcZfzl3FtxlQQwu+zcexUPfa2DRQa4kxmstJGc0Pa6KgLWkaMn8uI8XNbVZ/dy79D0HtkcjkmkwmPx43b40HfJvdGzww3I7PM5/dhtVpJT0tnMB4ACASCrrmwhJVwCH/9MXYfa2gpU6gxJucyKt3Yf+MSCATnlP4WXZrDKFstFux2O+MnTDh9VWyt+oogbnclm7Zs50jbS7okJo2ZQlaMuqOGgvNIdPjimBgTHq8HTythpb24L7X5f7hNPZ/Pi6XRwqRJhWI+CQRDkAtGWAmHQ9Qd/IK9m77k3QovkfzEATySHO3wFdx38ziCbitVFaewylMYnm3uJhNrBG9dCYeqJdKGpRNvUIuIBQJBv9LRVuX8GoF1dpdQKERjQwMul5OsrKzzMpYLCyUxphHcetOI/h6IoIfEmeMoPVGKx+0GWs/UaLOvrgiHw/i8Xuw2K0lJSedopAKBoD+5YISVULCGjU8+wMfGH/Pr+y8lFwAPjY1lHDgQSUjlayhl6wdvsEe/jJ/cMZ2exBSxfbOWZz6UcdWdK5g9PLFHAo5AIDi3DJwQxi0RjLweNxZLI3q9AWOMKeqqQHBh0TwvTaZYvJ7DuJuEldbiSed6x+ZZFSZMKBTE4bATCoUxxcX1uxmoQCDoey4YYQWOcvSInOxfXtQkqABoiIsrYPbsIC5LOQd3bONQWQ016l189kmY4Tn5jMxQUFNylOLSOnwAmMgaO4LcDB3WQ/vZub8US53E3i834K4cQ1FhOu7De7AlT2NUqgaFLKLVsR3fyk7PcOaPToSQH1ddCTt3ncAJoNBhTitg/OgUepEDWiAQtKE5QlBHJ7Ln28m+bRo7q9VKY2Mj2dnZA0iYEgj6j9jYOLxeLx6Pu82caH7dFRHjyoA/QGNjIwnCuV4gGLJcMMKKRDJjJybx5qY1fKSZwezpObS484Xwu63UlJ+kxuLEoThFydF49KZ0hmkbOfz1NnaWBdCqwXayht11Fq5aWoSqtpzyqkbcTonK0mMQTmTUOA37Vz3JkTmjyUuKCCuEw9RsfYlHa29l/mgzHnsJW9e8xrqTcaQkgNevxFgDuUJYEQjOmhYhoT+igHV+R5vVRmNDPTNmzerzu0qpKX3ep0BwromNi8Xn8+J2uwmHw8iktobU3Xt1+Xw+GhsbSU5OPmfjFAgE/csFI6zIZHks+tb1nFi7m/WvFFNxaiLJMXkUXTKWRJSYUscw76rluEMRM7BvN5mBearD5E1dzNgr8kjRQv22F3n4w4PsLx7NZRddxdXhU+z3y7j0xmYzsEoOdjWQkA9H1dds2NhI4X33sSIf3HY79TU1QlARCPqE9nG42paeDyEmum+/P4DF0ghAYmJyq9Pjs76PJCENz+uTvgSC80GzFkWpUqNSq/F43AT8gagIeV3Nj9blAb+fxvoGRo0ZQ38bVjoqKjj4yqv9OgaBYLDgtVh7XPeCEVaQyVDlL+R7WRPY+/577KwsZ8cXn3PMs4h50xYzthO/PE3yMFJrj7Lvy7f5rMYLDceoOeYj2e6gq7y7nRKWo5AnERvn4JvPV7O2fiIXTc8mwyiikQkEfUHbtHKtty/nWkzpqF8Jh8NBXV0daekZKJWKLuoKBBcSYczmeFwuFx6Pp00473Z56tu9kgC/34/F0khiUlK/zyjbiVJ2/ePhfh6FQDD0uHCEFQBkKNXJTLnmTia4bRze8CIffP4uqxpSSLptAu3FBTvl+/eyZcNeqiTQxsSgDoYIh8/iRFSuQp9eyJJrTrK5uIY9H/2bY6WFjBg7gwVjhM2toHfYDrzPGwfjWbK0kBSdSkSjO01HqeT6bxR2u5362lqKpk2LutLfWyuBoH+IDl8cGxuL1WrB4/EQExMDdHekEHUcEQavz4vNauvXSGCaxETyVq7st/sLBIMZha67dL4XnLDSglIbw6hZ1+CrruDRPfup7UhYsVWwf/NmtlcnsuT2K5iZl0Bw/2rKj33dbf8Wm41QKB6ato/WxvpW9x558Upyixo4unU1n+zaxaflkJd9Bdn6Tjq8ALCV72PrhrXsqeysRjpTL5/H5JFpGM7bqOrY//EGttSZmT2viFFpA0sDZj+4ludXFTBx/niSdSIWXTRdiQLnU0wIh0LYrFZsdiuZImSxQAC0BJeIM8dRVVWJ1+uhfXAMqcPXzYadwWAAq9WKRqNBp9PRX4cA2qQkht/cN4lSBQJBey4YYSUUOsaGVTYKl08kFoAgXm8DJ6ucqDPTSAGUSiV6hQqv3YETMPv9+P0eVOZY4s0JqF3lbN57kOOnbExq6levN6Jw1mPzBwgAKmLIGBZP+eavOL44gzFqNeFjn/DWTitMAII+XPWH2VuXxYzRZkZPX4K/8T88taWMU24uaGFFrtRiNCeTHALcp9i1cSNH/DlMvWgGubEAZgwaZR9qD5xUHtrG9m2NZC66hkkd+Cg7T2xn7davcaTMRaOU99mdBeeazozBzq+WJXpTVVJczJuvvwaA0RjDhAkT0Gi17Nq5g4aGlkS1M2c9nRiZAAAgAElEQVTNpmDEyPM6ToGgv4iNM+NuMgPr6exsFmn8fj+1tTWkpaeduwEKBIJ+54IRVsKhCra9+jpfljVHAQsRJADx87hl3gTiAWISycjNQPXu+zz7WC1Tx49h2JhhHPxkMy8/WsonsUbiCaOJaVFZ6XInMDHuFba+8QxHMmex/Kpp5C66gnHb3+Slf1WQpFQgxWZQkJUQyaocDuCs3MM7z7/DV5k68PsIeGHCpfPIO3/qggGJPnk405cOZzqAZS+q6iO4XIVccvWtzMo8Bzf0Wqk4sJEPPrKyoKgDYcV5gi0fHsabPIWrrppBTmL3qkrBQKZt3uuOrvb9uWx1dRUfffgBNpsNq8VCQmIi2776kgP7v0alUtFQX8+IkaMIBIPs3rmD0hPHuemWW8kvEMkNBUOf2Ng43G43Xo+nVXnHYb1bizP+QID6ujqSU1LP4QgFAkF/c8EIK5Isn6XfvZzqqDKZSkdSfiHj0rSRAk0s2VPmc60ug+pgDClp6eSaE7jSlENZvQ/UCeSk6pgww48mLT1iihQ3gkXXX0NOlRWPOpUYtQJ93Eyu+56SIw0+QmGQUsYzdV4WOZ5ckKkwpE/jsiUpTQ76crSmFPLHjyZZhAM7vwSDBDxu3J1d90rEj5vF0vRsCoSgMkjpSKPSfhN0LvUtVquF3bt2kp9fwIrrrsdgNCJJEu+uWQ3A7DlzuPLq5YRCIVwOB9u2baWqslIIK4IhT5gweoMeSZLhdrsJBoLIFfIu8w9FZ2AJBgI01jcwQmgiBYIhzQUjrMhkyYy/5JJuainQxw9j/EXDWpWOKEyj822DhpTRU0kZHV2mIrNwLq2VAcnMa3qlTShg1iUFPR67oC0W9rz5PO9uO0adt6lo/LXcd/1UzIaI38aBV+7l2apl/HS5j5f++iEVgMKQwIQrf8StU804qor54o0/8/KnxRytDPHqn+9hU94o5i2+kqunxHBs81o+eGc9BxwyZAoFitx53HblxRRmR4wIj69/mJcPpHFFUYBVH+2iXnsR99x1CdkGNTK+4YV7nmAHADJ0puFcfOMEKl7+HOWV3+fKzAY2vf8aJXGXc8vV4zGd/rtcnNj6MR9+UUHq7KUsmp5A2bq3eP+zXZQ5m6oUXMqPll9EQUrnarivX/wJz+1WkX/VL/nhRQl9/eEPMsIdaExaNCxtN0V9rVXx+/1YGiMhi11uFzU11UiSRH1t7ek6VosFi6WRQCCAzWbr4xEIBAMbuVyOwWDA7XYR8PtRKLraljQHzGgyAwv4qaurIyU1FRGwQiAYulwwwopgCHHiSz5vNJM/YwQzY5RAMasffYKHY+K594oCDGo5tfs/5v11R7Bar+bqK65gis9Bzc63ef6Jv5Ngvp+FqQmMKFrAzFoPFl+ACXOvYFZBPJkZRqg5zIEKG9LYpaxI0wGn2LxmHW+sVqO/aQEjktRYjm3jizUV7K5dwU0z5mNKGI5ZJUeq/YwH//gEa10z+N3NY4EAXkcxn973ANsqAhQV3c61mX4CNft578sg+ZPHs6jZ59pVyaHtG9hxNJ5ll8ShrNjDruowseMvYWKiFihl/Utv8x+Vge9fO42M2PYO9ftfvJv/efYII77/G2bkCG1Qd4QJI3V6jnv2hmFulwuXy82119/I6rff5OUXX0Cn0+Ow27h0yVJ0eh07tm3juWeeIhQKU1lxikWLlzB6zNgzvqdAMBiI1mbGJyRgtzvweDxotNqetQ+F8bg9eDxu4szm03NZIBAMPYSwIhh8xE9k2WVaks0xGNRyYAq+9W/xwMdbuH5RDgXqiCO85AySfdGlLFiQhibopibDy9b7nmbN1iMsvbmA3PEzKSzZxVclPkZNXcCCUU39u7OZMiedqTozyUYl4MR4fDf//Gob35yaSHZSkzOnK46xs2cz7+JRmNWRqbRv1cO8dXQkv374FhbkxwMh/M4CjJVH2PNiMQAqcyoFU+cwbN8mNu85waKsbACcFccproGkSTOZUmBCGSrgooUj0BnjiNcrADuqvRv569atFM8fTVJsfKuPpWb9A/zxmWJG3f0A318ykbSerflDnI62L+fPyd7ldlFWeoLZc+YwPD//dLlKpSIpORmFQsGEiYV4ouz10zMyiY+P76i7IYWzdDvrtpSgHD6Ti6dkIUTrC5fYuDgqTpXj9Xm7r9xsAhYM0NjYiMlk6kYbIxAIBjtihgsGH8Y08oz1bHnqD7yy5Rj1XrCVV1NrsuCOyoEjz1nIFbPS0ADI1WgTxzImxcP7R45RTwGdbge1ZlK1dg5+9DxPrP6MwzZw1R6nTD4Tt89PqLle6gim5qegUzdPo3188uYxzPN/zaXDzU1lMpS6ZPLnTiK7SVhBGUNK9gQKkzaxefteTlyRTTa1HNm7k+IKHRMXjW4SNJLI1FvZ89Yj/OWj7ZQ5wVl1hBOabNyBQKstd836P/G3f39IzLVP8oMlE0gVgkoHdK0paX/1TE5pW3oJhULYbDZqaqpIz8hEo+nYKS0mxtRh+VAn6Kzn5IkTqOImEOzvwQjOOxGDrqbwxXFmio8cxuf1tgqDEcnH0lI/+qAhEAhQVXlKhAMXCC4AhLAiGHQcfe9PPPHOFqpTruTm268kNVbF/hfv4e8lretJejOxp/eHMmQyNWpVmLDXh7+L/it3ruLVV/7D9lARi5fexVXD9Bxf/wjPbW9TUatBLZNFhVK2YWkAXVwsrbalkoRMrYkqk2HIyGbS7FEcXLOdfcevJFt/ksPfNBLMKqRoUiIKoOyL53jhjTUc1M7liuV3c2OqjuJ3/pfH26b5KXubvzxi4f9n777jo6ryxo9/7tzpNckkk94TQgoJoSZ0FARRsaHYy1pWXJ91q7vP+vPZfXSb67N919V1V9desQFKld4hEAiBAOm99zrt90d6CD0QSM7bF8jcOffccyc5yfne00qiH2PF0gT8tGIoxJlI/eaxnM9ndX7Dwtrb2igpKcbfP/C0gcro1EL+nnV88f4nbC1oQTpygoNbJnPTkhuYG17PmvdWsC2zmM6+prHc8sOlTA/3QQccXf4cXxseYon8Ob//Mg8nEtqIW3nm+3OxATiaKD+ymlde20TnrCALoYnzuPPxuYQCLYUHWLf5AM1qD5RNWWxJk0i9fTEL58ad/uGFcMl01ySrtzfNzc20tQ3sWTn9vikup5OKigpCQsMuZREFQbgCiGBFuLpU72b117toCLmLx5bewJRwIxqlghabBmXeEOTfeIKD2zdyrC2RxQ88yqJEK2atjOqYF4Z0xxBcoJNCbSMoMgmb7i22btxHzPh8jjc3Ejg1gRiDEhoy2LFxKwWaOSy9536uGeuBQSPj3mdCe3RAZr6zeeq6Sv73rU/5y/rr+fOdYYjJpn2d2272Q/OJ9eZSW1vLR++/h9Pp5NCh9PPKZend9zBx0uQhKdGVR4Nf7EwWLW6gcUMWyrFzWDQzgSCrJ60njqCOnc6dc4Pw1sDJr/7OF1/vJnrpNYRa9bRU5LBz2/9StfAJnnr6FnCk8cZP3+BXfj78+e4E7K3t1BXXE/fgD5hohYaiY2zbvoYVG8N4am44rvZGqk5sZlX1GG66cQE/mOOPyeqJebg/klHOYjHT2tJCR0dH15HePpWB9bJ77yKH00FFeTkp06aLn3aCMMKJYEW4ujibaWy2o/YIItDHTOcIrDLKiuw4hiKWcLXT2tqKSxONn68NsxaghpqqZpqbNGc52Z/gCInPt+6i+PFogroPt7XTnL6PndCzIhwo8fENISbUk/d3LefzagP17jgWT4lCDeBspaWlHcngi7/NikEDUE1lWRsDtiMAjZWQGx7hM+ufWfKHR3hafpO/LLkUG9NcvbqHlvT2pFzIvJXzaxI5nU5quzZ7bKivP69zv/jsMywWC1HRI3HVQBmNyQubrw9mYzFqn0DCQv0wAc6xM5gtqdCoNSgVEJgazxevZnF44VR8rZ2zWuxRi3h04XjCvXW4nd7cet16XjycR/ndCdj0HoTPWkKQ1oJBCU6zk9pjaazcd5S8ueF4A7i8GBOTzLTZSUToVMP5QQgAuFGr1RiNJpqaGrF3dKBWqznbcE2n00lVVSU2m+9p0wqCMDIM3WbggnA5WL2xabQcOZRJTV1nA/Dgv37CP3eX0thxlnMH0mrRW33QNbdQUd21g7jJhMVioSqvkJyCIgCyV/+bd1dv5sRZ25sh3PXwfByH/8r9/7er85CzlarMD3nu1+tO2c9FaQsnfupE/HK+4v1VmcjhiYz161rhy2LBy2ik8Hg2RWWduwMdW/5/vLkxneJmTqWzEnLDc7y61INNL93Pdz8pOs8PY7ToXPa0++nspZlq37u06oWaPmMGoWGjb3iLrDPSnrGcF3/yCPfccw8P//ZLcgpq6HD3Dt0LihyLr1mDJElIkp6oqBCcuYWUAJIsg6OZQ2//gHvuuYf7n3qWv606gavD3jv00+SJj78/NhGoDDt395BMScLD04Pm5mbsHacbpNunh9TlpqmxEVmhxGgc5bspC8IoIHpWhKuLHMc9P3mQ3P/3Gt+/83UcsoLAxc9yz8x8/pp7nnkprMQmXst1kw/y/Peu553IaSz91pM8ecsdFJa8ytvfu43X1DLW1LuZn5xCVfbZMlRiuPbnbHkrlAfvf4rUT9Wg0OI16QF++up3ef+7ywfci4mAkBjixlrYXepNZMIYfOTuskVy/cN3UfC71/jTY4t5UaXAd+63WTg1+/Tl0FpIfuwN/u26j4d+cxcLtnyP1/+yhMDz/FhGnr4zUwYGEe4++60MxR72vfkHBAbyyr/euKBcdDodKtWpS1OPbLms++t/WJ6uZd63fsy34vzQHV3Of79c0S+VUqlEkrrCTUlCKSvB6cRFGzVFG3nlRx9Tlnwbz788A++6fPasWsnXdX0yUChQyArxpO4K42W10tTYSEdHOwYMDFYfu3tIXS4nZWVl+AX4IykksWyxIIxwIlgRrkyWBG7/ycvc7Jbp32ZTogtbxHP/nsd/O124AYVKi4q53OpUotWpkYAZz+1kp1vdbzlUvXc4d/92NUtQd012V6D0S2Txj17juqedoJBRqTSolRHc+2widzzj7GzIKtWoJBePu0CpVqMEEh/6J5/er0CtUSH3LZ7agNe4x/hwx4Ndq4ZJSLKTxtJVmNQqgvz9+iSWUMhKlKow4sfOYFaqT58GlIwmYBZPvJjCI47OciiUGpTSUh5wKVCrO6/rf/NLfH2DAq1WhQKQdBYmPvkhux91IckaxKJgvdycusLQpSTLMhbL6Fzp64LkHCe9QEvinTcwa+oYfGQFVW31uJzn2GXa1kbTgQyOmVP57vcWEqFR0t5aTFtzzaUtt3AReh8SWK1WjpZl9pm3cvq0TpeTyooK/Pz8TpNWEISRRAQrwpVJklFpdAw6UEOhRKNT0n8GibJfWqXWyMDBAZJCgUpr6J+nQkap0WEcMB1FpdGhOsMUFVmtG3RfCLfbhVtSoTOoOp/+ut24W2so3b2XHZoofhyg6JO2mbLik2TWSgTPSGSsPOBZrySj1uro/3xd1e+1pNJiGPAhKdR6jKPtofx56L+nfd/nsaf2vwxVf4twKpPJgtkhUV5bR73LhdHihbe+iOy8amprwdu1mXc+O0hxZdDZMwOQlahtZjxa0zh67BEmRJeTfWA1yzeU4jXr0t6LcGGkPn9bPDxpaWnGbu8cBnameud0uigsKGDy1CmnSSEIwkgiesIFYQgVvfcwd72aQWtra+ef+kpyvvg5d756jGnLfsTiQHC7XDg62qg5foBNn2+iIWgx990+VvzKveSkAX9gKOaXnP4awplIwfFMmmCmZuWveOKhX/L+US/m3ZiC4vAr/PChxSz+2UESr51CeLgVuevjVCjVqOQBn61CiUajRKEyYo29mbtnuvjw2cUsfuBZ3kq3ccc9E1Gp5M6viKRAqVShHJiHMOz8fP2oq6ujta0Vt7tzWJd0mnrqdDioqCjHz89f1DZBGAVEz4ogDKHg2YswLX2cOa93b3MnY/JJ5RfvfcXiro3v2yuyWPvvZ/nlF3bGz3+QZ355OyNxzacrk7vfZnSnI53m35059A4nEy6GmfhFy/jtomV9jkXyv5Pv75fq2pt7/5382Bsk931TocQ094d8MLc7Sz9SH3+VlY/3v9KNPdnP4MHvzRiS0gtDxw3ojUZcLjftbW24XC5kWR48rbtzJbCa6mpsvr6Xt6CCIAyLcwpW7K2ttFRWXuqyCBfJNSRr9woXJWgp/96+9IxJtH6xLH72UxY/e5nKJAD9+1LOHq4IgnA59B2W6e3jQ0NDPXa7fUCw0rt+n8vlpqy8DG8fH5QqlZhcLwijwDkFKzkrVpKzYuWlLosgCMIVTzSMBGHoSYC3tzcN9fXY7R1otdoBKboeM7jdVJSX4e8fcNnLKAjC8DhjsKI0GDCEhFyusghDRDpN97kgCH2f0boHOd6fmFwvCJdW37rl6elJeUV5114rg9c+t9vVuWyxv//lKqIgCMPsjMGKb2oqvqmpl6ssgiAIl9hgYYcIRQRh+PTWPx9fX7KysrDb7X1Clb7/cuNyuSgpKmbONXNFL6cgjBJiNTBBEEalM02i73v8TM2hoV5LTBBGM09PT5oaG+iwn2avFXfnhpAlJcUEBYtRH4IwWohgRRCEUaYzxHAPOCIIwvBx48bT04vW1lba29txu/vWyt5HBs3NzbS3t+NltZ4ylFMQhJFJBCuCIIxS3f0mvcHL+TZ9xB4PgjB01Bo1ep2epqZGXA5n1zCvzhrm7vqrtKQE/wAxuV4QRhMRrAiCMMr07lx/rkO8xHAvQbh0+vaQWL29qa+rx9FnKf6+9bC0pJjAgEDEowJBGD1EsCIIwijVPwS5uKaPCGUE4eJJ+Pj6Ultb0zVv5dRHBsVFxQQGB4lQRRBGEbGDvTDkctesxdnePtzFEEaooFkz0Xp4DHm+3ZvLDbZg6pkbRSJQEYTTKSkuJuvY0Z7XRqORiMhIOjrs5Ofl0traSnffyvjkiXh5eZF19ChOh7NfXXTTuXt9SUkx02fOuvw3IgjCsBHBijDk6k5m42hpGe5iCCOU35TJQ5RTdxPoYrgHDW4EQegMVJZ//BEHD+wnMioKhUKmprqKmNhY2lrbyMvNwT8gkIaGevJycynIzydpfDJ1tbXY7fZT8rPb7VRWlBMQGDgMdyMIwnARwYow5JK/s2y4iyAI52DwQOVsQUd3eNI/nQhVBGGg7JMn2LF9K+MSk7j73vuQZSUfffAu69euBWDuNddyy+1LqK6q4s3X/82ar78iYdw46uu756x01ys3ElBTU4NarcZgNPT0hAqCMPKJYEW4aq1bt46KiorTvn/vvfdextIII8lgG9KdjmgwCcKZybKMUqlClmVkubfZoVKpkBUyKpUKhdw5hVavNyApJJqbm3C7XEgKRU8tLC4qJDAoeBjuQBCE4SSCFeGq9fXXX3P48OHTvi+CFeFMcrKz2bd3D2NixpKUnHzO54keFUE4N6FhYUycNJmsY0f56IP3kGWZ0pJiZsyaRXtbG0czj9DW1kZtbS2lJSXMnjMXX18/vLys1NbW4nA4UKlVPfkVFRaIzSAFYRQSwYowItx5551YLBbefvtt2trahrs4whUuJyebD95/l8Pp6dxw0+JTghVpkH8NHDbmFmGLIJxRSGgYd9x1N4fSD/YcmzBxIjGxcXS0t3Pi+HGaW5oJCglhXFISKanTsXp7Y/X2pq6uDofD2SdYkSgpKWHCxEmiN1MQRhkRrAgjwsKFCwkODubjjz8WwYpwVlqNFpPRdJZUZxoCJhpLgnAuQkPDCA0NG/S94JDQQY/bfG2Ul5bhdNiR0PVs2VpUWMjiW269hKUVBOFKJIIVYUR44403MBqNtIhVyIRzEBAYSPy4cezYvq3f8dNP2u3bqyL1+dvd9bcIXs5XTfZu0ouaMeq1VGWnc7SkFUxjmD0/lXFhVtQADUf5+ottnKhspHOLwCgWfHsBYw0aFO4a9rz7NjkxdzGzYzUf7a4G1Jh9kll4/3SChvPmRqGhnPButXp3Ll/s7F2+uL29nbraWmw2m5hcLwijjAhWhBFh69atl/wapfu/YF2JhRlTJxNhM5wxraNiB++8tZuA277PdRGnT9delUPavoOUm8Yzf3oEZ85VuBx6+1OkAUf6ByWiqXRxWipy2Pv1Wiq8pjElNoLExGoOrt/OJy1u9EvnEutnpP7EUar1foTHhaNTQu6GT3hzdTC/uCkRnaqZk1tX8fmuOupmTSYxMZCOpjqO7/qYD1dYePSmBCzDfZOjXNbRo6xft+a8z2toaKC2pqZrRbDO+ldaXIyPzQe1RjPEpRQE4UonghVBAOrzD7Jt/ZfsLx7s3UCmLJ6Hd1EGe4/5ERufdJZgpYqd771FofUBZpxl70JnSw35xw5x0ieE2SJYuWyOZh5h/drORtT+fXsJj4hk2owZg6Qc2KMycGiYdJoFkIVz0aGy4B81njlzxmMztRPSVsnL2/PJr2wkws+IJngS10b7YDXqUCug1r2Tx97fQ9bCOJJUgCTRZgpl+vS5JAbqcLRUEejK4j8bt3NiVgKTRLRy2QzW01FRUc62rVsuKD+9Xo/L5ep5XVhQQLCYXC8Io5IIVoSr1iOPPEJjYyN/+9vfKC8v7zn+s5/9DJ1Od155aT0DiJ16HdYmqDq2hQ0ZpfgnXMussd6AEb8ATxrzzzGzo2t4uz6Vnz44jQjP8yqGcJnYfP1YcuddXa/c+Pn597zX2+Q6dcPHodhGUuhl9A0lKioSm0kFqAgLD8ZzUzaVzS20ARZbCNoDH/OPtUeobHRAfT4tJRK17q6vgqQgIGE6iYGd9V2p1WKLicBr5QHyyxHBylXs7nvvx+LR+7SnpLgYf7EZpCCMSiJYEa5a8fHxQOd8lR/+8IfYbDaef/55Vq5ciSzLpKSknHNeGrONiAQbEUAReaSX2wkZO56UlN6R71nnmFeFcgxPPBgtApUrmNVqxWq1dr1y9/l74KuzE8PBLpxapUKl6v01pFZrkB0u7C4XLvLZ8MonbMiTGT//WlI9DSiPr+BIntyTXpIk9H0fTCgUKDRq1O422jsu550Ig0lITORnz/38gs6NHhPTb8hXQUEBCxctQtQ4QRh9RLAijAjx8fEEBwejUqk4dOjQZblmzd53eHVFOkx8mGXXjcFDp6Ri81944eNjyEo1bynVmFIe5oUlsT3ntFTlsf3jP7EqC9D6ERbsy/n1AQlD79S5Kae+d6YjwiWRe5jNBxoJXHIbs2fE4aNRUlP5JQqpd2iQ2+2mtLwSuqfTOxzYaxqoV3qTdJYhmMKl5+nphaen1wWf37dGlhQXERgUJOqfIIxCIlgRRpyXXnrpvIeBnbeTq3nlg4Oopt/C9VNCMahljnz4U15eqWXmT54iWSXjaC9k3Zt/4Tm+ywtLYmmtLmLL279nTXE0C5ctINxeT96Bb1i+roaQBZe2uKNRVVUVf3zpxQs695bblzB5ylRODWBEU+my0WjRycU0tWmRXUoUVdt5+4ssWtt6g3+cDhq2/pMPZ/2DpfEOmmrz2LxqD83J9zDNd/iKPhoNHDQ5lDWlqakRl8uJyWQewlwFQbhaiGBFGHGioqIwGo2X7gLZa3hpwzrqY7/FI7OmEGlVIVdu4rNVR/G88c9cHxuKWQa3IxDT4qP87s0v2DI7nNimQ2QesRP74APMifFA67Ljo2wmv2ADFZeutKOWw24nJyf7gs799JOP0el0xMUnoFCIAGVY2FK5bf4u/rLyRX78uQKlTwr3zh7LlqLeHc2RZQKnz6XpP4/xWJ0bp1KLadzt/OTuyZhVp89auJTOtD/R+ZOA4qIi/PwDkGX5rOkFQRh5RLAijDjLli1DoVDw5ptvDn3mVbt5680GPGd/mwdunEyElwpZAkqOk9mYzL3X+mJUdK6LI8kavGIj8W/4iJO5LQRVHOOoZgJPTPFAC6BQodWbMBuUIli5wqhUKnJzc/D188fbxxsYfLWjbm5En8v58ht/I/fGOVHp+jxYCJ3Dk89OQ2k0YFCqMS34Dj9PbcXudIPSiLfJRcwssOjVQOecFYPvJO64YzoL7YBCRmXwxGYWy9teboMt9T1UCgvyCQ4OQZIksceKIIxCIlgRRpwXXngBg+ESLQLsbKW+oQVnqwud0o1S0X3ciQMdWq2E1LN0lISkVKLEgdPhxt1hx67QIrYJuDx8bDb+9so/L+jcuro6tm7eRFVlRU+wIgwtpc6EZeBoTbUBL58+dVfviU3ff6UKf33n/zsXBJOQFGrMtkDEAKErxdAFEt05FeYXEBF5hg2rBEEY0USwIow43t7el24YmM90Hr3Jk92ffcBfl2v40dIpBHqowdefYGkd+/c7mD0TFArA5cJRVk6ZHEhcgBKV0xPvjjIqKwGfzuxampuoqa7seS0MHVmWsVrPP9Bw48bD05Od27dRUV5OeEQkGu2ZI0zxnFcQhl53H01xcTEzZs1EkiREbROE0Udx9iSCcHW5++67uemmmy5N5goVupBrefqZJdgO/pPffrSf8gY7BNzIklky23//d3baHbhx09GWxxevfk7lzNu4PkSHMSSWYA7x+XubqQSoOUnmtpV8mSl27rjSKBQK4uISKCsro6qysqt5JL5OgnD5uHv+lJWW4Nu1F5IIVQRh9BE9K8JV7+WXX+aJJ56guLiYt956C0/Pi93gREIhKU79pSgpUEgSSDLqwOv4yRMVPPXHP/DwvgX8+td3M/m7H/DX4Gd4asnN/MbpRqHWkfDwn3jzpiBkBXiGTOGeZxy896vf8uCiF8E7holTJvHgzJPkit/AV5yYsWPZs2cXVVUV+AcEIMuDPdvpnUzcvRqSGE9/uQRx119XsFQSz9xGnt61xcpKy/Dw9ESj0Q5riQRBGD4iWBGuerIs89prrw1ZfkEpS/nvQfaTjFn83/x5cd4xxmMAACAASURBVO9rRdL9vPyf+/ulCbn993x5++D5SpIGn8i5PP36XJ4estIKQ03q2qfeYDQQFBxCSUkJYeGReHhY6D+VfmhXPRLOjyRJSGJ1qBGqsw6CRGlJCX5+figUClHVBGGUEo+kBEEQTtE5Nj4uLp7y0jJqa2pwu888DEzq+k8QhIvXXZuKCgsIDAruDFYEQRiVRO0XBEEYhBs3IaGhOJwOKirKsdsduJH6zFzpnuzbPbZeEISh01mviosKCQgM7OxJG+4iCYIwLESwIgiCcBqyUmbcuETy8nKpq6tFBCaCcPm43W7KSkvx8/MTK4EJwigmghVBEIRBdD/HHRsXT0VZGbU1tbhcrkFTikaUIAw1iba2NhoaG7F6+4hhYIIwiokJ9oIgCGdg8bBgs/lSXFRIUHAweoOha+qvmGAvCOeqrraW6urqntcajQar1UqHvYO62jocDkfPe0FBQWi0WsrLyrDZbF2BiqhvgjBaiWBFEAThLJImJLN9yxZi4+PR6/UgiQaTIJyrmpoaPlv+MVs2bcTHx4bL5UKtVjFn7rVUVlawf99etDo9zc1N1NbU8K1Hv830GTMoLS3BZvMVvSqCMMqJnwCCIAin0T0ULCp6DE3NTVRWVOB0Onp6VfpPuBcEYTB7du9k/do1REVH89gTy/jWo4+hUqt58z+v89WqlURFR/O9H/yIu+++Bw8PT1579WUqKiooKS7Gz99PBCuCMMqJnwCCIAhnIcsy48YlceL4cZqbmsU0e0G4AL6+fvj6+hEQGITV27vneGhYOGaLmYioaAxGQ8/xkpLOnetlEawIwqgmhoEJgiCcgdS1O338uHF88N671NfXYTKbkRRSv4WLxcCwC9BSRU5uHkXVLb3HzEHERQbhbVIPX7mEIeXr50dwSCiH0g9iMBpxdNgpKiggNi6O1pZWdm7fBkBebg4V5eUkjEtErVZTVlqKf4A/siwjapggjF4iWBEEQTgHNl9fPCwW8vPy8PX1Q6PVDneRrmrNlbnk7NnK5qwSKjtAB0AjRSTy8O0eeJu8hrmEwlBJTp6I2wU7d2yjrq4OgKkpqUybPpPa2mr2799PQUEBClnJpClTuePOu1CqVMgKBQa9EUnRu6P9lcDZ1kb59u3DXQzhCmeKjMQUFjbcxRgRRLAiCIJwjiZOmcK2zVtISEzsCVY6m09XTkPq6tBM4YF1fLmhiODFD3HfnAg8ACjn4MFG/M2aYS6fMNQmTJzIhIkTTzkeGBxMQuL4U45nZh7Bx2ZDluUrbh0we1MTh196abiLIVzhoh96SAQrQ0QEK4IgCOcoKiqar1etorKyErPZgiz3jqW/0hpUV7Z6aqtrcJhCCA0N6gpUAHwZP963N1lLIft2ZVLS0ErnDjf+TFg4gSCtivK0L9nLZBZP8O9Jbm9tJP/wdgrkeFImBqO/bPcjDLXSks6VwDqHgF2Z1GYzYQvmD3cxhCtMzbEsqg5nDHcxRhQRrAjCFaKjJp/MjDxavSJJSAjCNNwF6qv6OFvTitBFJxEXZEU/yn5ydM9b0Wi1xMXHk5mRQVBQMDq9rud94XwYCAgMQnfkOFs2bMZr/kRiQr0YOEulOfcgB0+U0O6SUMlQfnAjWRZPnp4ZRfuxr3hlVweTJiwhAAAHLXXH2PT+e5SkPseUUx/iC5dZUWEBB9LSLujc0tISIiIiUVzB81V0ViuTf/iD4S6GcIU58vY7IlgZYqOsySEIg2uuyCYjbScnqgZ715uY1AnER9ou4ZPaJooz97FrcxHW+WHEXbLrXIgWCvauYWu6lmT/caN4FazOkGTChEm88/abTJsxA51O17PnypXZnLpSWQhNmsV8l4q1m3ex8sNM9gbEkJg6gbg+9cytC2HmrbMJ8TKjU0LxFz/lvz7dRf7UMKJnLCZh5SpWH72Ob8WawdFGS3EGWe5kbpkVjXFY708AyM3J4b133rqgc/38/EiZNh1ZVoq6JQijnAhWBKGLJClQKKC+8BAHcmvwCk8mMdjCUD03d7TWUXB4F0c6orlmRiSGPu81lhzjRFEV3lMWMGt8KJYhuN5QaSnYz5psB2Onz2ValA+GUf1Tw42vry8mk4ncnBy8PL1QqpRd73QSvSznyBJC8hwbAX7ppB/J5vjhnawuSSdvzh3MSYjAWw/GiCQCT27mq2/yqG9xQlkT9uxCil0uooOnc2PSO/z76yPcHpuKvrWVoiNHcCXdT5LfcN/c6OPuqgFD9f0/afJUQkJCUSqv3GFggiBcHqO62SEI3Qy2SKYsiGQKULRLQQ3ZRM6+ibtSgobsGq62RgoOfsOaRjUp/YKVduxODbaoqcSOGYvtCltkqrVdTcSka4mLCcJyhZXtcupugilkBZMmT2bf3r0kJiYhq8SP0QunxXfsVK4bO5UpE/azY81HbFyxAZPJxMxYJ8e+3MyuzGIUQb54mg3I9erujizATNz0ZNz/3M7RuknEVh9lV4aBad+JEr0qV4jwiEjue+DBCzp35uy5mM3mIS6RIAhXI/FbVhDOVVMOW9btJLOoBjsAIcy4ay7xPmbUQP7mf7FbfxPXKDbx/o4KkGS0gdO549YENA2F7Fr+HmvSCim3r+GNV4qIjpvG/BQvKg5tY92WLBqcWrQ7jxA9OYWpKZF4As35e9mU0UiAj0xeXg5F5Ram3jqbxCArVTvfZ216Fc12wGsS86ML2JATwV13JFO14TW2qhfx6JzQnuLbm6rIPrCNDEccM+OVFGQepsUUibZsL3tymkAXQMKUFFISA7uWkYXmvN18s203hbUOMvccIH7eAqZE+VG3/wPWNcRy24w4LHpVzzVOrv0b6xqmc/eS5D6TpkcWNzA2No41X39NdXUVAdqgrj1XRI/KxfAIn8g103PZ/epRimvraC/NZ+3qgzinL+LexZMJNmlp3HCcDzb2OSf+BmZZf8O29HKsTds5ap7GXWGG019EuGQG+/4PCg4mKDj4ovMWi1cIwugmtoUVhHPUmHeCSpcGa2gUUVFRaCs388k3h6htageg4vBaPnvz73yQpSUqKpLQYDsZn7zDmxsLkJUGvIPC8PPUozH7ERYZRqCPEVdtNVXltahDEkhIiMKqKGP/nk0cOFkDQHvlCfZu+Jh/r8ukReVDVFQQXjoNJTve490P9lHv4UdoVBRR5kK+evdTvtx4nCa3G3XtcVZ9spO8ntK301B1iG2rtlJqN+GsL+PwNx/w0cqNHG/3ISrKB7kqg9VfbGBf17Urjqzns1XbqVb5EhkbS5Shks2fbSSttAZFSwGbvtxJZlMbjp5rZLP1/VXkdHigYqTqbC4ZjEbGjB3LwQMHcLlciGbU+arj5OHDHEovorXnWBMlhaU0GjzwMxrQ2x10uJow2Pwxq7XIdYdY8c1x2jqcncklCdkcxTWpPqRt2sTew3XEXzcJn2G6I2GodW+3KgjCaCd6VgThHKl845kWYMbD3DnZt1Z/jB9/nE7WjAQ8jZ37QjSpvRk/dS7TI0w42hJQHvpf3t6ezQNz5xEzdSbVBQc52ZjE3Pmz8AEczToiJ84j0jMQqwZajqt465O9HMksJDmqa1O8NiWWkFhSr00lwqwBClmxdiN1wUt44LrZjPHSIrcUocxay9qTICkU+KfewKR1y/k6bQHLJnhCWxO1OcfJUo/n/in+aCtzcSg06P1imDF7NuFWF4WWL3hzVQ5ZeVVM8m/gwNa9FLjHsGDuQpICDSjrg6n+41tknphIXNw8pmneYPOBEhLmRmNSK+DENja7ZvHYdeGMhmfbKanT+M+/XmPutfPQy0oRr5yXFiqP72DdxhwI7A5u2+lQ+zNlwQwmh1nRqJNZkLKV99e9yZ936dGag4gN8kVO753DIClk/FMWEfPNu2zznMV3Eq3DdUPCJSP6VQRhtBPBiiCcI61PEIajq/ngvQMUVHdAfQFVecHUOp1de0CAT9xMpoQakSQJpdKHpKRg3lhRRCkQNUieSoMFQ1MZuz//A5uONUJrDQX5CsaEt9AKaAHMQcRFBePTvVFewSH2Ffsy9tvxBJq1yAD6IGIjzChyJJAkVL7JzB73Aa9/k8FdE2aia24i/8QJTOOfYIwHtFSC1mIjMnYc4dbOfP0CAgkw5FFTV09jbSu5xUUcLS2lvjyDlUqAdipPnkAOrKJ1QiKzJuj43Y4jlKWGoldryd6+EWnK0yR7X9IvwxWgs9Hk7x+AwWgk++QJEsYlgqQQzalz5smYKXPQ2OJo7nNU4x1GdKg/nnol4EvSogdRxVXS3O4CXSDjgqfiN95NhFbV+VlLCjQBU3nwcT3lmnAidINfTRAEQbh6iWBFEM5JMbs+WMX6w40Ep0zkmskW1LnfcLLI1S+VQa9H6l7KVpLQaXW4W1tpGzTPRgoObWPlh2m0hkYzY2EoxqpjfNOR3T+ZVoNGqaTneXJDA7UOE0YPFcpBa7CEQmUiZsFcAl7cyZGaKcQ25XLimIFx80LQAi2AUqlEq+nd2UKlUqNCwmF34LDb6XB6ETohnlkTw3tXJ1t4M1pbFN4GPT6TkvFcd4CMsnmEtqfx6Te+LPrNmFGyEZ8bWSmTMm0627dvIz5hnAhUzosOa3AM1uCYM6bS2sYwwTam37EU376vJBRKE2ETpiH2iR6Z3Ej0DgkTtUwQRiMRrAjCuSjKYldaGZqJ1zB77mSCjRrq23agVjRdeJ4NVRSmZ5JNELctXsgUPzMdxxtJ236ChjOd5+GJVXWYxpoOnA56anFVRSlud9fyoQolpsCZTAj+H3alFRGsOUl2+BzuDNacW9kMJszaNuo0NsJjphI92Gz5sOuYH7OWHZmlTNSuZV/gDL7tP/IfbXc3l9xA0vjxrPjiM+rr6/Hy8hqQUgxfEUabofqeF3VHEIReYoK9IJwLpRq1oooOpwrJpUGu3c/na45QXd9x7lkolXgazbRXVlMLoJBRqtqRXA04HGZUzQWk79/H/syaM2dkG0tSYD07V2wlt7a5c4L70U/417Z6HM7uRArUKk/GJwezf91K1m3LIGzyVLwGbhF+Ol5xjE/wpjltE3uP5VIPQC371+0kp6KuczU0jZWZqbHk7dvEqm8qmXlrKpZR1rjQGwzExsWzb++e4S6KIAy7SzElXurzxy0m3AvCqCSCFUE4F97JXDc7kobd/+b5Hy1j2Uv78B0bjsly7j0JCr0F38RkIiqW85vv/5w/ryrFJymFWM1B/vk/y1j2P29xsNpA5Niz7GinDuSabz/KLMUOXn3uB/zXsmUsW6Pi1pQg+u6fplBr8Z44n+T6vezrmMp1Secx7V1pJHbew9ySquXw+8/z42XLWLbsGd451oATdc+QNOPkG7mmfQebGuKZE2vpGQI3GnQ3oGbNnsvWzZvOkEIQRoOh7A2RcCP1C01EmCIIo5cYBiYIA/gmXs/jUR2o9X3GPikNhM1+gB8kNdJmd4PSiLcJxl/rxmSzoAYS7vk9P5NtKLsfAchqLNMe4Y9xCrwBZB3eY+bw+AsJNDmVaI0eeJkULPnOGOa1OEGhwajXILmcuNR6LIAi/gaeDHGgNZno3Y9RhdlvHDc/9TNmtdg7J/frrUibNyFl9mkoKBTIBjPeGheNiamE95lMYgkZzw33ROLWWXoP2sZx02OROLqurTLbmHjz44TPaaa9q8dGabTiY9H2PuUwRHP7j37JtU4TfobRtCJW5426gcDgYHQ6HcezjhEdM7bPu4Iwulyq7/veeSsg5q4IwugjghVBGEClt+AzyCxxpd4TX71nv2OGPhss67yC6dfPIimQjd4E92ynLaFUG7AGGui7wKrFJwgLp6GzYBu080aJ0Segz07dZaxKKyBw4qP4dx9y2mkvOU5201QWLQjqV9lljR6LZsBNqvR4DLhxtckbP9OZlvdSYfYNZjTvM61UKklJTWX7tm09wYogjD5DO0+l77R64crWWpLB2s8+ZI92ET98JJWBs/cE4WKJYEUQrjpVbPn7OpS3zCM50AcdULrmVd4+4sV190d0VWoXbS15rH13FYpFv2CKXlT1S2nylKmsWrGC1pYW9PrRsR6aIJyrix0gNtL7VTLe+z4vfrCPvNrB35ekhby45VlSL2+xzpnb2UFTXRVVujZcZ08uCOdNtGAE4arjRWRkIb/8f9/hpXoHEuDqSOKx137DXJsWXE5OfPJDnllegXnWk/zjptARvKP8cOtsQukNRmLGxpK2fy8zZs4e5jIJwnAYipDk1CO9vSu9IYsbN9IIClnG3vYCL9/gwOkGSlfyzLK/oHnkLX66wA+DGkA9KjbaFYTTEcGKIFx1FATM/z5/muvE7e49ptKoUEgSuGUib/8d798MkqxEoxLraFxqkqRg9ty5fPzhByJYEUa5U4OWkRNWXBpKrRFT96TEZj0qhQK13ozFwwPjua7gKAgjmAhWBOEqJMkqNPJp+kskCUmpQStq9yUnIXU+5ZUgNCwcp9NJQX4eIaGhALjd4HQ6+p2hUHTudO90ueg7Il+hkFEoRGApXK367kB04dw9/Sj9564Mlm4k9a6cE7cbt9uFw+Hs/EwkCUmSUSo7f6a4XS5cLiduFEiSG6cLZIUCheTG6XJ3pne7cblcnecrZJSyAgXuzjzdXZ++QolKlnpXdzzLdQctqsuJ0+nELcmdZVCMsq+VMKREc0YQBOFiSZ0T7adMTWHnju0Eh4Tgdrs5dvQYL/ziOZRKJbIsYzKZWHj9IgICA/n4ww8oKipGksBut7PkjqUsvvVWlEoxaE+4ml1so/TUHetPF7CMKm43bnsjJXte5Ykn36NYKeFWexE+exl/eOEWwtQyVZnref3vfyXPMoux+kO8uUXDksee5J6oLP71p/U4ZqUQWLSfNSv2UOJ20pF4P3/+wV1MNe7nVz/9BxuzK+hwO2ib9hPWPH8bQV7azs/e0UpV2qs88uhbFKkk3EozQdOX8ZcXlxCulk8pqsthJ3fzG7zy8l9Js93P009+m8XjTruMjCCclXiMJwiCcBGkrv1UZFnJ+ORkMo9k0NbWSnFRMS/84jksFgv33Hcfz//qNwQEBPDO22/xu9/+BrvdwVP/9V2+/8MfExYWxscffcD6dWuH+3YE4bIauOLX+exONHoCGDduVzuV+1/lO8+sZewLq0hL28X6937GlLI3ePa1vbR3z2xvOMmW9JO0TPo5aev/xc+WTuhabTKLlX/fQsv4x3g9LY20tX/jYdVm/vajb3Htg9uJ//m/2ZCWRtqqXzLv2J946o1DNHW4cOOk/tArPPrU50T8YiVpabvZ9NmvmF3zOs/8fVfPsvbdXI4O8ra9w7/++T4Nk/6HP/72GRGoCBdNBCuCIAhDQQIPTy9CQsI4eOBAz2Fvbx9mz51HQGAQqTNm9hyPjI4mKXkCsfEJxMYnDEeJBeEKdWrIIg16fJSEK25wtB3jrd++R/Ntv+almwMANVafGBbMiaZq05esL+tKKwUyddICliyKGpCJH3O+dTe3zJ+IDcBnJgvmhEK7kht++hDXRQd2TuIPWMy9Cy0Ub9tOjsOBy3GCN/73dWpuf4k/3R4IqLB4RLNofjw1mz5jTVnvFVyONirTV7H849VUJTzBk8vuIFHEKcIQEMPABEEQhohKpSJ5wkS2b99KSEgYVm9vyspKWf7R+4yNS2DD2jWYzWaUShUnso6xbs1q1BoNafv2YjKZ0evFmj/C6HI+g8a6t2K92HXHrkauwl3szFOQ/IA3ubm5nQc7aqmRZCztRVRUAjJgNmLw9R5krxMvPD0smHo358LHNxCtTsLXV4tW03s8IDgCOb+EYpebhKKdbM2GKff79F7X3kiVpMKrPY+yCsAbcHZQc3IDb+amc1yzgO/ev5QkDwRhSIhgRRAEYUi4kZUyEVFRrFr5JbJS5qc/e46//ukPZBzOIONwBhYPCw89/Ag2Xz++WvklW7dsBkCt1nDzbUuYNXvOMN/D5eNsa6S2oRVJZ8bDpOXUke+CcGbdCxmPlon2jvYWNr/8NMcGPNPwCBuHpxawX5rruhwOtr3yNCcGXNccHoNX9ypmraXkZmRSFhjN1JunMd7HgWhiCkNFfCcJgiBcJKnP016NRsP48cns2bWTxbfcxou//+Og5/zX9394+Qp4BWrO2c77Xx5EnXwz9yyIxTTcBRKuEqN0ur3ahJeHgTE/epeXrh+8tlRmXJrreppUhP3gXf50w+DXbSkEjKFMvu5mrg05xrub3uOfnmYenTcWb6NoZgoXT8xZEQRBGEJqtZr4xEQyM4/Q2to63MW5AjlpqS2lIL+I6tpaKgtPcuRoHuV1rTjtDZTmHifj0CEOHTrEoUM5VLa00z2Ht706lyMny2mpK+Tw4UMcPlxIA+By2qnO6zrncCZZOaWUl+SQXVxHS0s9JYXZFFa39CuFo7maooJCSmtbcJ5SRuFqMDSLJV8FJJADp3P9RCPb1n5OYUP3Gw7aWmoozqum41JdO2A6i6d6sGX1cgrquw86aW+toShnwHWtY7hmybd5corE9k9f5vX1R6lodJyapyCcJxHyCsIVwtFcTWlJNXa9DwGBnmjPfsrFcbZSV1FCQXEtCouNgKAQvHSnT95UdoL8VgOh/jaMZ9nExeWwU114hHJlBAnB5iEu+JVI6hlPL8sKvLy88PTwZMumjfgHBJx3bsHBIXh6nTrqfGTooDo3nR1bdnE8rxFFdQt1FTUsvGkeUzxy2PDlFjKKGkGGplIXsd96kLtTYvDSKKne8Rr/84WF+2+wsHtPPgp5AvfF+eN5dAdfvvVPDiqCMctaDBY/zO3HyLPcyn/dpGP7p8vJD7qbHywdjx6ANsrS1/LhpkqCrrmVxSl6zvCtL1xhpFHXuyKhVAay6L47Wf2n93npw3DujAVooaaqgIKiRO59ynqJruzPDQ/dx4rfvcuLH0RxdzxAG3W1uZw8OY4Hvm/t/7vKOpYZNz1AXd1fef+zV7E338c98+IJ9jWJBqdwwcT3jiAA7Q0VFOedpKxpsHeN+EeFEWAzoxns7SHRRuXRHaxamYEq9WZuvuTBSgeNZRlsW7GWLSfaCUqeyhzzmYOVgq3/4c85sTx972Lig84cgDjbm9n30Qt86Pks/3l8Qv8rN9VQWlpAnUOPh0pG5x+JbYTNK9fp9ESPieG1V/9xQeffevsSrl90IybzSAz0dARPWMhdWmgfMAysIauEhJse4PrAYKwayF/5PM+v20NqdBCWgK5lhSrSWdv6Y/78y8dRyRIdLYV8/vrvOWBcxo+fv54IexMlh1bx95ebIQnMVj/GBAZxPCeDI3VxTPZQQ2shR44VgWc8idHBIlC5DIZ+UnzfgKV3T5arntafcdNmovbXIPe9JVmFcfIj/OF7Kv77rXd5N63zsNEvgnn3T8ETqDf5EDVuMp4hXvTdrUllCWRschJSkFe/32Ean2gmplgJ9dD3awxqA5KYOVuHTVaAJKGe8Ah/fUbJj15/l3cPdqbRewdx7YMpeAHtWguB0Ykkqq2oAUPIZG687ynkFZ+y4fAe0iJ88RXBinARxPeOIABtdSUc2/cNaSXQUl1AXkUTRlsYIVY9EMBkvQfWiwxWnB0tVBeeoMjhR1yMb79gpLU2h6ycUoxx1zBrZhzeF3k/Z+WoIy9jH+m5BhY+/SzXhFzqC3bpaKI67wBrt+ylvFlFTEQMMaaRFKx0NqA0ajURkZEXnEtRYSH19XUjNFg5PXPMZGKrsjmWvo3DLQ6olXEcLyKvtZ3Y7kT6ydy/OBZZVoDbiaNiN/vygpjzf9cTAaAyYg2dzJzJB/iqAzD7EhoXSUD2Hg6klZF0TQiOwgKK2434xMcRdmkeSAsX7NzDGnefgGXE7GhvTeWJX6YO/p5Sg0fqY/zjNG9bQpO5fVnyKceNUbO47wezTjnuMX4JPxp/aj4+s77D//VNLisxTH6Ef0x+ZNDranwimXPnMvouD2IIncKSp6awZPCiCsJ5EcGKIACWkPEs+tZ4FgFFuz7gzc3ZRM5+kLtSgobsGs7majI3vMsnjQv5eb9gxU5zdSNKn0gmjptKiH7ILnl6djvtTQ46tB79lrK81Dpa6mlssxMx6RYmtFXgOWEWEZfx+peNBCazhZkXuLrXtfPmExR8uSLIK0UjRRlZHNqzkyPVjdjdSpS1hTS1+fZP5uONl0LR2Sx1u3Fm53BCGcfSiNPlq8EzMJywgEwyTpygfLo3LQXFtKMlOsRX9KpcJpcmjBhNQ8EEYfQSwYognKvWMo6kZ1FY3dQ1IdeH2BkJBFv0qICKjHWc0ExmnCKDrcfqAQUqayzTU0JQtVRxdOcm0rKrqGs/wIbVEmHBY0kaY6QhP4N96YU0Ow3U795Ma9QYxsT4YwTaKk+Qkd+Gl0WioqKc6joDY6bGE+ptojFrKwfzGmhzAMYoxgdUkl7my8zpETQcWkumciLzE2w9xXe2NVCac5TcRiM+iix2Z+ZRVqZlz/qNEB/N2Pgg1DX5HM86TkFNB6DFb0w8Y8L8MKkG+TyA5vy97DhWSYfDDZgYO2smkabBmyXO1npyjx1ka0YBVms9VcoQYmvrwdg1vKe9htzjWZwsqOmctKn1Y2zCGEJ8TZzm8leg3lXBrFYrTz713WEtzVWl/gQbl39OuhzHnQ/ex/hgT5x7XyOvqOKMp0l6PQZ3I83NQFcPndPpoLWluec3nMYaTHRUKAW7TpCd44u9yo7KI5YoXxGqXHlOH9acbrDXCOhPEQThDESwIgjnqLUog/SM41Q0u1EpoerYRo7IKh6ZnYBVpyJ/02v8szyHG+JkKmvacDrKOPLpQer0D7E4rIO6shKqGtpot1dRVFCCzhhCe0MLeUfSOZLvxKCpJPdwFQfzS7Gbb2Cqv4mW/L2s/OgAbr9w/MwyrnY/fJPGUHF0E2vf+5x8z2CsGi2yup7Sb77m4/KFxKeG0nTgM/6RZSfxt4vpfC5tp7Eyk82ffEJuyC3M8y+noqaR1tZ2yotKD8apJgAAIABJREFUqPAPwLfsOHnbNpJe1IhTpUNVX036yRqabryGKZGnjpWpyFjPhk37KUKPTlIgleWzt1LPEw9NYmDqjuYaTmxbwcY92dR5+dJeUkZDSz65ZeW4F8wlKUSmJHMbmzYcpdRlxGKA+uYqtDZv/K+qYKWbaD6djVqtRu2C9vb2zuC0sYG6Vjf+U2MI9PFE3VLE5gPZ1Dee4asvScjBMcRoPmLPllwmXh+Owd5CXUEGu0/U0zt2zIivvz9m8wn2rN+Gh1GHbUIs/iJWuapJA7aJFLVOEEYmEawIwjlyqfyZtCgJPx8fzCooXf1rnl2/n5ykCCy6zt6BmvJCuOV7PDnBC3trFp8+92s+/zqLRT+ZQ+qt9+B2VNPQOJ8HH78GH6CjtoLA+NncMz+WID3UZXzFWysOcjC9kDj/uM4LN9VRpQnlrpvnEOtjACpZ/7v3Oeyew733LSbJZkBVf4T3fvc1uEGSFESkLiRq8xbWn5zLvVEm6GiituAImc3h3LhwBimWcJRNDlYcMnHjQ/cy2VDDwbWfsO1YG4mL72d+oi+a6kN88O8VHMkIJSJgQPjRlMumj5eT7r+U7zwwnUC9CkX+Kn780/+w47pJ3GTpk9bZRl3eHlav2kTbpO/x+ANJ2Oig5uQuvvh0E+s2e+N3cwBH045QoRjDogdvZ7wPVBUW4jIar7IfUqK5dK603kGEWg+w8+A6PqWR1BgrCbFa1h/eyOd1J/HWu2mvc+CUzrDUhKRAZUti3g3pfL76Td5riMXsdtPeXAnq/uMLTX4hhNrM7FxzBCllAbNCPS/xHQoXa+DslbPVrhE0zV4QhD6urnaAIAwjQ1g8QQX72PrVeioaHFBeQ1O2gxK7g3FdaSzJi7k5yQtJUqBUhpIyLYRPvymmBAgbJE+1pw0b7Rzds5yNhS3QUERBTj0+YfU0Que8Fn0YU5PGEODTNcal4hD7sk3E3j+dKA9DZ6+DJZ5ZE314Z70ECgWqsFTmx3zB8rVZLI6ahKa5meIT2ZB4N+P8gIHbfzQVk5+bS16pjHbPWmrTAVopLs+hVl9Bfb29/6ZMZWnsym4D/THWfVyISgHQgIJs0o80cNO0Pmk7mmnIz+SkPZY7FibROTBNjVdIBHERaazPPE5ObQxmiwVHfjob13rC9CTiwoJRX/iXa9iIxtI58gghec50OJhFeXsHTk0AE669EWfaMYpr22hTRTHjxlA8oh1EeXauVmQccw13KHywKru/GyWUah8m3foAat1qMurbaFMbMYdNYo69uHOCfTejFZvVjM1kwRqaQJjHMNyzMAROnYA/AqfZC4LQhwhWBOGcVJG5cRe7007Q4mnBrNOhlBWn/FL0tFhQSJ1HFQoFZpMZV30Dg66ITAsVOYfZ9tV+itxujN5e6GRFz/k9jAb0GnXvUKiKCko6fIj206AetDUvIau8iJuXwtf/2sXxhiQimgo5keUk/r4IBp3P3tFOWxugN6A3KLt+MJgInTSP2JBIvPVQ0zd9cyP1LhNBnhrUaiUyAF6Mv/lBvIMH5O1y4mi206ENwtfW57hajUavQNnRQpvbh4kps2jXH+bQ0X2sX57GzjHTmT9lHFG+I3EGvgBafGNSWBiT0ueYlXlB/Vcziozr/bcqZh53xQzMR4FK68vEWx5kIgAOGooO8dWedjwjbfSsV9HRREOtA73fWOLj/C79PkbCIHoDjXNZ80sEHYIggAhWBOHcVGaxZe0eSkNSuHPxLGK8jbRur2bDnvqzn3s6zdXk7dvJtmyZax+/k2tjfeHkRhqLN1F7pvOMJixyMy0NDpxO6IoUqKutxu3uGrstq/CKmctE0x/YnVGOTT7BSfM0vh1+mjWC1Rq0Wg2+gbFMv/4Wxg3y1LlfsGI046FwEjD+Bm6bYEM/4CeJvbmu94VCRmlUo24roLQM4v26jrd30NbswqE2odOC2S+BGUEJjEs4xOG0b1i5Ywu79J5YPcfieTV2sQiXgRtHRzUZa45ivWkmwYCjpZ78g5s4UGFi8q2hXcFKB9V5mWTm1uExdhGxviJUGQ4XutdK//PONMXejRgMJggjj+LsSQRBoMNOh7MFg80Xi86IsjGLDduyqGtsP+csZFnGpDNgr+sc4oXLibOjFYVRi5e3L9q2co5lZnDkZM2ZM7JFEedby8GNByhpaO1cmSxvE5/urcbp6k6kQK0KYPxEM/u+2cCuPZl4TJ1x+mWRTcGER/ogF6SRdjCHzlCjmbyMLApKq+kYmN5/MtPHNHBg+UaON7d1rY5Wy/51+08NtNRGLGHjiPn/7d13eFR1vvjx98yZlplkkkwy6T0hgYRACCX0AJEiAUFQxIp1WXXX3dWru7a9Xvfquj93712su671qgiICtIUkaIEkCIsvSXUAOk9k+m/PxIggYABgYTweT0Pz5N8zznf8zmjmXM+59t0e1izaCPHAXBQdmgf2/OrMCR1JcnnBPn5+eQft+Ef04PBfXoRraqksKyKWtdPf7biGubxUr1vIf+cMYMZM2bw6mvvsegHF90nTWZgrBFHxRF+/Op93vx8PSWWVIb2i+faWr2mY1JxoSnFyUSkLXvKlMZCdCbSsiJEWwSlMaj3WuZu/Jx/7V6OrzmEOJMZrb7tr/wVHz9CU1IJ+34p78woo2dqbzK6pRK35xtmv/oyqy1+BGkd+AX9xKOUMZbsW3Ipm/Utn7yxFaNOi8oSS0JUEGuONjufTk9k5nAiVn1OnrMvd2WcZ/U7XQCJ/caSXTqXvOX/4JUNVnxwYDemMnr0UCLOiiGa7KnTqfrgY2a9mc9SRYuKehqCxvHoWReuJyC2D9dPLGVl3ue8/vIK/HHjUuvwTxjG2EHdCVYVsnn9t6zeXoVvgBZqq3GGp9O/RwIWaVUR56RC0QbSffx4bAV1TWUajP6xdO+fRCDg8hixhKfQ12gkKjGFJOvPWdpV/BwXPprk5CxfrR/XvMVFdUaZEKLzkGRFiDNYkgYw0ZyOb4jldKHBSvcRU1DiCimvc4ExkrSo/sT0dhMZ5IsWSBj1CNN04Sgn75pqLab08fz2IW3j4HqtEWvqUG67N4hChxFLeCSRETGMv8VKfnED6PyJCPFn8DAHLt8QAgAlfiCTJ9vxjwhuNtjch4gew5isBJJfUofDA4R0I37XGmYea3ZTVzRogyOJ09azLzmb1GaXgzaQ+H6juSlZQ0RTzzCTNZ5+Y2/CeuAAxU2DbAwhCSSE+6MBIrOmcH+aP1GWxvleg5IHM+FuhR3HbDgbm1YwJ3XFBHj0RnqO/y2BusZpBbTGAJIG5OIXHsvuY42j+7V+wUQnpBAXpAdnBKm9B+ET2rTGCnpCEpKJj7Jikm8pcR4qRYOly2BGd2l9u8YURFzP7FYnuBBXk9PD6Nu2j3QHE6KzkMcAIc5gDI4lLfjscr01kQxrYouy0GYL3AclD265vohaQR+eyuDwkwUKet9QUvqH0nyMsKn7QGLPFUxQHOmtNogYCE/L4lTVlLFiXjHWbl1Ox+B24Sg9zDF7OsOui285oFhjJCg6maAzBsObrPF0t8a3Gop/TE/6nVFm6TKAIa08JKo1OiJSh7RokVEMfkR0HUBE11Yq15qJTM4gMrnVUwshrknnTzbOt1VSFSE6DxmzIsRVp5LNc75ma3EFDU0lpWtn8elWHX0HJjcNKPbgaChk7fxvsGflMkgGFAshOqnmo1kkQRGi85GWFSGuOkbM2h288/el2BwqFMBeaiTr0UcZmeoHHg+Hv/0f/v7NMRyhw3lsYlcZUCyEuIq0nnq0LSFpn1VXynfv4cdXXr0i5xIdT1hWP7pPu6u9w+i0JFkR4qqjI3r4LdyXVo3ddfL2bSYyJQKzogavF2uvSdwf7UQbGEV8kAwoFkJ0Bo2Jx0+vbN+W8S2Xlm9UJD0f/OUVPafoOAyBssrs5STJihBXIV1AJIkBka1vVKnwsSaSar2yMQkhxKXRemtIW2f8uvKpCuh8fbGmd7/CZxXi2iDJihBCCCEuqxXfLmPhgvmnfo+OimbcDRMpKjrO8m+XUVl5eiHZ3z76ONExMad+954xhfH5O3Z5z/jNy8VMmtxRVVRU8Nhjj51ze1ZWFtOnT7+CEQlx+UmyIoQQQojLZtXK5Xz84QeYzWZyx9+Aw25n2TdL+evLL+F2uQgPD+f2O6exa8c2Vixfzov//V88+5/PExHZsvX4Qmb4+qnWlU8++pC1a/K49/4HyMjsfZFXduW53W6OHDlyzu1JSUlXMBohrgyZDUwIIYQQl43NZqOuro7effoyNHs4OaNGk9y1G1WVldTW1nLdqDH06JnB5ClTCQuPoLKiArfbfep41QWtd6+Cs/Zvuab9rJkf8dWSRZSUFGO323/29bWXuLg4Zs+ezTPPPNPeoQhxWUnLihBCCCEuu+3btpKa1h273c6+PXtOlX+/agVx8fFs37qFkuKiVo+9mG5c52pduXHyzZSVlrH6+1UXUWvHodFosFgsmM0y36Po3CRZEUIIIcRlM3LUGBrqbcyeNZO/vfwXAGJiYvjDU89wrPAoixYu4Ok/PIHH48Hj8fDcn14kKjr6J2pti5bpysluZHq9Hq1Wewnqb1/5+fnk5ubi8XjaOxQhLitJVoQQQlxx1Tu/4oMvt6DrNYHbRnfDr70DEj/bmQPhT1IUhQmTJjNh0uSzjumR0YsxuePPKlepfrot5Vzna76teQmo8AIetwuPp7GbmcvlwuPxoFZffb3ivV4vDofjZ9XhcTtxu8/+tBqpUTRqVr+cy98Nz/HFb7LOFw3emoPkLfiIBTsDGXP/rxged+69S75/kxeXeBl7900MTQ5BJtgX5yPJihBCiCvIi9vpoKGhAafTCQ026ups6PU6tBoFr8uO3eHC7fECarQGPVpFQa0Cj9OGzalg0HmwNbgADQZfA4rXi9tho8HZ+IZZpdagMxjQqhsfTJ1OJ16VgtrrxOHyglqDTqdDq3Jjdzhwub2AgtbQGMPV99jaMZxvzq22JB9XyiczP2bD+h8wGo28+/Zb+Pr50TOjV3uH1SYqlQqTyYTH48Fms50qVxQFg8GAXn9hj/175r/AG/O3cKQK3A4bdq8GH52Wxv9cg3l8zm/aVpGnjgM7N7LzuC+j7jt/oiLEhZJkRYhrkMfV+LDo0RjxNVy6rwGXrZoapw6z2YByyWoVnUs9B9bOZ9b7s1lX5IKNm/lucRZT7p7C6MwQyvM+4q0vvmdfkQOVy58BDzzKrcOSCfVROPHVn/j1kjj+MLGW/3n3B1Cy+Y+Pfkm3siNsmvsXZiwvRe1V8A/LYOLvHmF0gg9V+T8wd+4nHDZlklK/joWby3AG9yD3hsmMDNjNZ/MXsy6/GqctipyH7+Hm69IJ1Ui6cik4HA7q6+su6lg/PzOKcv5vkTPXXVG12NYyOWpsO2hsXbn9zmnccee0i4qrvQUFBTFv3jwOHTrE9OnTMZvNOJ1OkpKSePLJJ9HpdBdUX7dJz/HqpMaft7z7C14qGceMX44m1L8x6fF6vXzXhnq8FScoLHXg7DmBnPgLvCghfoIkK0LQ+EaprqaKemdrW7UY/f0w+eg6zQN45YGNzP18DhVpD/P7cV0uWb1H5v+BR9bl8I+/T+YcS1aKa56JpKG38UiwBf/m3cDcdrbN/18+2Kjjuul/5Y/dwzDs+ZwnXv6M7+LuJzclrPHwo4v4y64nmPnRb9EpKpx1xSx85XcsND7MG3NyCKkvYffXH/HaG7OIfPEeogFK89lfHE3ve/8fc560s+HTD3lvxuOs6ncTD9z/Co8mutj08Wu8nbeWHnERWLtapXXlEvhh7RreeO2Vizr2qWefIzo6GlSg1WhBpUJR1KjVCioVaLVtfyi/0gtEXinx8fG8+eabbN68mSeeeIJbbrmF4cOH89RTT122c3o9bhx1FVQ2gME3EH8fBY/LQYVThzWxN5MDjJworcBo8sXsc3pckNNWTW1dPXYXoBiwO1x4O80dVVxukqwIAVQe3MSi2e+y8kDjl2pVvQOd0b/pyzaenHtvYezgZAJ/xjm8bie2mgqqPSaCLSb54xOiufLN/LC5GkvCYIL1DooPHwafBDLDF7B/dxW22NDG/TQDeeS+3mg0avC4cBxYzFfbosh+ugsNhw9zGCeO0GhStHns3O0i2gD4xpKaPIIRPQIAiIyNIToxEU1aOsmJvgAkJMcRtLeCigY7dsCnfT4F0eSTj/+PoOBg1GqFiIhIFEXB398fs9mMSq0mKioKUKFoFBRFQaVSo9VqUalUaBQNakWNWt1YVltTQ3V11UXNKBYaFv6TLTwdgcFgwGq1YrFYLt9JvB7spQUs/+hlZh60kj31d9zb15fSvev49stZLN7nQIcHh18s/UZM5K6R3QkwanHWV7J9yXt8tnIDh+sMaALSGRhdRK0z6vLFKjoVeV4SAghKHsxdzw7mLuDoull8sCqfxOxpTO1/6b5MndUnWP/pq8ytGcN/PjYC6yWrWYhOoLqSclspP66cQ8GG+c3eueoIddjA42r8NTKCULX61IOnp7iQg7ZCbP96gbxm1emtcQQ5qsEAmHwwBgYQ0LTN18+MX1QUGrMfpqaywIBAfHyu3jU3OiKTyURs7MUNXrjn3gfQ6rS4PR4OHTiA2+OhoqKcAwUFuN1uPv90Diq1GrPZjMnki1anw2q1oigKZrMZH6MPRh8TAZZAvlu5kiWLFlxUHH968S8kJCZ2+AH4PXr04IUXXrh8J/B6cJUfZOvXHzC3sBcP/fFBBlpclO5byxfvvMuhmGm88G4Osdg4vH4RMxfMY5bOwLRRiRz5fibzvj1B3OQ/8mhOVywVW5j5+jtUlv+8yQHEtUOSFSHayllD0bFiKusdNA7jNRESH0aAobF7WO2JvZRoognnBAdKGgAVijGEuNhA1I46ig/mU1hWh62+kH178qkPsBIRrKehooQTJTU0PorpMAdbCbaa0QOu2lJOVDrxMaioramhvkGHNSaMQJOehuICjlXYcXkAXRAR5jqO1/oRH2eh4dheipQoksN8T4XvcTZQU15MhSfgrLfGblsVpSXFVHl9CbFaCTBqGs9dUkZNQ9O0mMZgYsICMelPf23UFu2nsMKJxwvog1F11v4W4vJTNGjUUWTfPoEpI3sS2srd6Vhrx2mN+Pv25r6/PUW279mby/Ze6kBFW2X26Utmn74/u57ExNZXZXe73VRWVFBdXUWDrYHjx4/jdDkoLSmhrq6OmppqSktLqagov+hzL1v6Nfc+8IsLHgtypdXW1rJr1y7MZjORkZe4E67Xi7u2kO2L5vPqJgM3PfQgA4MBWzkl+9ezy5HMmIk5xALgQ0z3TPrvPMia7dvZk6HhRH4pxtQh9M/oigUgMIOR2alsqJcbhmgbSVaEaCPn8U0s+XQV2wur8aqhrkih18P3M7VPIv5ahV1zn+Etx13cHrGNBRtK8XhrKbP34oGnppLpc5wNi+ayfOcxStwrmfVBIalZY5kyzI+9q+bx2XdH8WjAXq0mvF82E6aMpLu/nurdS3n7871YYqzYKosoLglnzIM30tO3hvUfzuCbE2rUaFEHZpBlXMm7+0bwz1dvpnj+n3ip7F7efzanaUpYN/Wle1j+0UdsDr2dewY0uzBHLYVblvH5khUUhgznpnFj6OFfzN7v5rNw0z6K6lRocVLlk8wN464np1csJr2GmuO7Wfbu31hWbkKPgsrSmywfW+sfnhBnUBQFxds4dawLwBJNXEglG7bt43B6FyxRRrQ4KD9Rg8FixqBrZV0MlQpNTFe6+rzDmmXHyJwYgR8enHYb1ZUO/EJ/TsdN0dEpikJQcDBBwcEAdEtLa2UvL2vz8vhm6dcXdY47776nwycqAEeOHOHtt9+mV69e3HHHHZe2cq8H+6GveWtjFb2f+JAJKU3lLif2ShcOczLxzRvQjEZMfiqUQ9XUHijiaIkeTXoYwUGXNixx7ZBkRYg2qq/V0+PG+7ghKgqLHgrmPcPzi9YxKCEc39DGlODEpi/Z3PM5/vrXMBz1m3n/kZd5c3Y67z46iNyHf09gUzewZ5u6gTUUHyYocRAPjOpHsh+UbJ7P/321lfUbU0jKaRr4XpnPet9UHrvrTnpFmYEaVr/2PIsOdmfq07czIMIfXelaXnn2S7weUKnUpPW/juC/fc+q4kGMCzGAq5byY//m30ctDJmSgb9jTWPdjhqKd+xhyartNCTfykM3DiJeV8OWBZ8wZ2U1abf8iocHJRBAFds+fZN/fLkUS+DN9OuiY9NHL7GocDD3v3AbfQKNaEq+5y+/rwRZTFm0gckSRrhRYfv+LfywxUB6TBR9hg7gwOz1rP5eQ21SJL5UsnOrm4E3DCTe2lqyoqCLGMb4kd/x8eK3WBSZSyIuaqorKKsIZuRN/a78hYnLrLW5v5qXn23AoEEMGDSolWM6j27dul3WbmBqUwRJZg2FW/PY12UgXawGUKlQa1WondXU1gInWzZdLlxOL15Fi8agQat48TqduBpnGwfAYbfjdnf8sUCiY+jYnTCF6ED8UweQFuCkcMc68vLyOF7ng3vPYfLtDk5OImbMmsZD2WFNgz27kTMqBtfhQo6fo05DSAzxXZIwHN1AXl4ee4+U01DUQElxKac6Lui6MGJwT+KimrKA6q38uEMhbeJYegT5owMIHsCkkdEoigrUarSpOeQm7OWbJQU0AK66Oor2HKQu/Tr6xjbV66qjfN8aFi/9nkJLX3JHDSLeBFTuYcfuEvTdB9EnLaGpn78/6aOGkVa3jy0F5VSXbGb9DgOZt44n3dfYeP+xDmHKqPBL/bGLzsqaSObAVKLs+1m7bD37jlcT0u9mpk7pg+nYZlYuXMjChaupCosi0McHDWAI60a/9Gh8ldMPnYrOSMbNT3PHCC+7Fi5k4cKvWLPlILrkZAIArclCXJfuJIWaTh2j8Q0hvksX4kJ8T7+xM4WS3CWGMH+D3Bjb3clphi9sq7cN/zqriooK8vLy2LNnz6WvXK1giB3F9F/fSNTBL3hn7mr2FDWA3hdzVDhW2zY2rTtGLQAuak8UcuiEE21EFOExVkKDwXb0EMdO1Da2otYcZ+f+I1TUypgV0TbSsiJEm9RwdMc+dmxYzeYTlTjcCkrlQWobWvYNDgkORt20+JlarcYSGISntIwKaGUqXztVRUfYkbeerQV7OW7Xoqsv42AJtOihHWDG7GM4vcLv4cPsb4giO96H1tf/UqFoQugxrAdL5v1AwZRkImuL2Lu3gq7jGx/gygEaSthbsBZ7WAYjJ1xHekjT4fV11DQE4h8WTEBAs2r9zQTqajlc5cSVf4A9jnhuTNKjbeWFtxA/zUhs31zu6ZvbojQyawq/OMdC2Za+d/L7VoZAaH386DP1v+jTyjHmyG6MntSt5ZmjM8mNzmy5Y0Qfbj57gXXR4ZyrdaTztpq0xmg0kpKSwooVK6iqqiIyMpKVK1eSlpZGSkrKT1dwodQaTDHDuOd+D+/94zNen+PgzusySewyhKEZB1iz9lO+VHoQjp2ywoMc0UTTp386scEmyExh98KtrFnipTwpDH19ETuO1WFzScuKaBtJVoRoi+o9LJv1Odv06Uy95y4yIgNw/fBPHplRdvF12svIX7eYT7+upc/d07hzQDzaA9/x4fsrKT3fcQYfjOoG7PVuPB5OtY/W1dXg9Ta+O1RrtIT0GU2fz95h/d5cRnp3s9+Vyc1d/E/Xo/HFGp1IhMHGvq0/ciikF7EWPWh16DX1VNbUYbNxeg7XhgbqXTp0BgW10QeTykZDvadlDLU1F/95CCEE8FOJh6QrYLVamTp1Kh9++CExMTE8/fTTP7tOS9IAskOjMWhbti2Gdr+O4dpgUOswxw7l9tvqeW/VIXYWxJLSLY3BN91LQN4ivt24kULAJ7wr2eNH0C+2sTUztt9oJqJj9fqdbNt4FCL7kDMyl5AiI+FmackUP02SFSHaorKK8gYV0VmpRAcHoLUVsmbLfmrqjG2uQq1W46PT46qrxwbQYKe+sg4lIppuqfGYHJXsLcgn/0g5/l3PU1FIHF0sK9m7cT9lccEYzTrUxdtZsfVEY+IAgIJOl0BGHy/vrFhLpP9eGHAfqc3HkxiCSUy/nhutBcxbsYx5eJmQk0lcQDTx0Sr27drK7oJUQtOC8MHGsc3bKFCiyYrxwxSTSNfAVWxfs59BEZmE+mhQF/2bZf8uRtb5EkKIyy8sLIzHH3/8ktUXM/QeHjyjTKVS0TX3MU7dkrRGgjMn8XjzhsmAKDJzp5OZyzkYieuXS1y/ljtknmNvIc4kyYoQbRGURK/kVXyzeSVfVu4nyMdFbbkL9wW8E9IYTITGJ+G/fi0L52tJj4wmKDGakL1b+Gq2kQNBHuxFRdi8WvzPV5E5kcFjMpi95FsWzTuK1aRH7bZR6205b6tGqyc+cwjafyxlmTWGsaNbWTNGF0SXfklMcC5gzorF/F91LRNyMkkZNJLSypVsWzWX4t3BmKjjxOFywgZm0zchCFOAH8PHZfDxVwuZrxQQrNei8tTToJw3ciGEEEKICyLJihBn8IvoxoCsEIIi/E4XmmLpN2o8to27OFZRQYWuKyMmTMaU4KKL2YAChGVOYKTRgvpkXwSVgiEui4njDYQC6H2xpg9hfJGT3ZXV1IT6kN59GKPtGjYcqKDCFkpKxnDiutpwWCLwBTRhqQweHENomLnZH6sfKTmTmar6mg2HKqmqqIf4odzYdwPLVzXrCKHRoo/uSnfNF+yIuY/MiNObDIGR9MzKwRYaCPpgkvuMZLyykQ1HndgcLiwpgxhrNLFm0zYOllTgAIJ7X8/wXomE+GkBA93GTOV29WI2HK2lsh5IHMEDd/sRfiSJVpa7EEIIIYS4YJKsCHEG/5iejIg5u9wU25exsS1H9yaknv45euDtRDffqGgxJg/jjuSTBRpMlgQGT0lgcLPdAnKm0vNcwURlcF0rDSLcSwuMAAALQklEQVTgR/KImzhVNdWs+98qAmIiT88c7HHjrCqmwpXEgOHJNEu9MAbHkjUs9nSBOYqe2VEt44jK4LqojHNFBpjpNmoqLYcuJzDtfIcIIYQQQlwAGdckxFWnln0rN5BfWcPJiR+rdixhwY8ueg5Ka+pC5sFpL2H78lVUJo9hWJK0dQghhBDi6iMtK0JcddQ4CtewePtq9Go9GqC24BiWcXdwfXogeDwU/TiH2esOc7w6hhtuy2zshiaEEEIIcZWRZEWIq46R+Oyh9N19nNqGpum/YrLIGNWTCJ0CHg96/wgSEgNJi81kQLzp/NUJIYQQQnRQkqwIcRUyRvViWFSv1jeq1QQkZzMuufXNQgghhBBXCxmzIoQQQgghhOiQpGVFCCGuMute+DMavb69wxDXOJfd3t4hCCGuAZKsCCHEVebE+g3tHYIQQghxRUiyIoQQV4nujz6Ku6GhvcMQogXFYGjvEIQQnZgkK0IIcZXwT5ZZE4QQQlxbZIC9EEIIIYQQokOSlhUhhBBCiGvQvsV/5f2vd3CsurWt/XjorQfoq5VHRdG+5P9AIYQQQohrUGz2fTza14HLAzvnPMkbZSN47o5sgv10gAF/jdLeIQohyYoQ7cFWtJtVC79gk/46HryjL65tS/nsy+9QZdzKbblpmNs7QCGEEJ2ezhRIkKnx5+MmDUq9mWBrCKH+MjW66DgkWRGiSW1BHp8vXENN/BjuGJ+OP8DBFbzx/hw2GXN4+NaxZEYbL83JPG7stjrqPE68gMfloL6uFpXdhffSnEEIIYT42TwuB/s/fYzHZx0GNPiH9WHa80+SEwoNxftY9eVMVlcm0Nuyk/fml9NrzBTufjAHy+5lfPLxhyzeWglY6H/r/dw6fhBxJtgz/0X+URDH+NCDzP92CwdL7dBvOm/9agTu1S/w6PvbsTk8aHQ5PPnpI/Rp7w9BtCtJVoQ4yePG6bDjcHkAL97KrXw2dwGFAdfz61ty6RF2+eajCO15Pb9JHwMqNQpQuW0+7ywsIHTQeG4cmoTpsp1ZCCGEaJ3X42H13yYxo/huZsydQGRDJYeXvcvzz3+A9bVpJHs9uCrz+WFzGT5THmTu3CRUajVFG7/gn1+sxSfrd7z7xzTMB5fz2nt5LA7yZ8p13fG47DT88AEf9n+Up158hDjLbt6Z/j/8cuprhEz5M/98/xl8tIXMeuRX/PmV/sx9pB+q9v4wRLuR2cCEOIsXj/sgy+fMY2NNOtePH0FGuIJapcLrduFwunC7nTgcdux2J26PFy/gdTuw2+1N/xy4Pc1q9HpwO09vc7jcZ7WgeL2NJV63C6fDgaPpn93uxOXxSIuLEEKIK+vwHGaujOWWh8cT7vHg0RkxZw4i228NW7aevCsFkdJlGDdN6IZWq0VTX8CuLftoCOzLwP7d8PV48MT0pH+KDWdhIcWlTceFj+K2sb2ICfVFq+1DvwEGFG0WkyckYTLp0WrjGZwdj/PAUY612wcgOgJpWRHiDB5XOVvmr+KrI34MmTSGwYm+p7aVrf0XLyx0MDxTxbIVGzhyIoUHXn2I7GAdhQv/m2fn7MPh9KAQxeSXXubmFAOKx0PN8b0sfv0xZu7SoeitxCb3pGugB5q6BRf9ewkfL/0B/6wpDLSvY+ZH89lU6ka9cQ1fzh7MPQ9OZWRmNJeoE5oQQgjx044dId9VQOFjU/mkWbHOEsXAihIIA4w++PiGEHRyY10tVVVHWLP8ezbmzWzxVjx4YHeG2m0YAMKCCTHoT94GCY+MRpMQS4SiRg2ogMjI2Mt9heIqIMmKEM15nBxau5jjej3dcu5mRK/ws/cpWsXbO2/l5T++SUq4L7gbWP3qA7xeOJYX3n+eRKMO59oZ3P7kDGJmPUFmfSHfvP4Hltru5KUvppLaUMru72bxt3+VYh11ZuVmUkc/wH+EB/PWl/mEDZnI5GzpBiaEEKIdqBX02iE8MfsphujO3txQVHF2oUqFShVB1sSJTLsvh/hWJhTb9cOlD1V0XtINTIjmagso2LeXemMscTGR6D2t7KNkcOuk/kSEN7W4HFvKl2vNDB7XG11FGSeOH6c4qj8jQ9awfmM9DVWb2HEgjJwHppIKYAgmNn0447JDruCFCSGEEBcoOoWuutXkrajCDjR2k3ZQX1OP61zH+AYQbHViP7Kb/fkNTfu5sdfbsDuctHZbFeJ8pGVFiObMKWRlB2Ku38XyxYsIuGUcPcN9Wv6hhAQTbNBz6iVTaRHHPCUceu/PbFLUpwYBqrWRpFQVYa/cw05Db25IvaJXIoQQQvw8EWOZMuZzXn//VZZ1vZPuuKmrPs7OLU6G3TkM39aOMcXRNaM/O7YvYv2KJfjrMwmlmt0/niCoSwpp3WOu9FWIq5wkK0KcwTdxMGPioljy4QqWfh2I3+QhJPrpOefSWBotOroy6U//wfgoM9rmU5Y46jixUoPW68DpBLSNxR6PB5fTeWrMihBCCNGefCzRxKn90ahP38RUKhW973uThzS/4f2XXmIhoPELpufE3xAM2DV6zMHhRKhNLe6RIemjmHS7hwXz5/PeS0sBCOg5jlv7WfEB9AFhRIda8NGe7uCjMYcRF2nB0Pz8viEkRPqfvHWKa5QkK0K0IqxXDrnVFcycv4qvzf7cNDqDcNM5vi7Dk0kLXMCGb48w+LZuWHVq8NopP16Lb6gJXWQ00d4N7N1ZSc+eAehcdqpKjrL/aBl0bb1KRdGg9nhxudy4L99lCiGEEACkTHyWl1opV7Q6su5/k6z7z96mD4pjyJRfM6SV40J7jOH+HmNo5TASch7kqTPKrIMf5KXBzQpUKnSZd/P3zDZfguikZMyKEK3ypUv2GMYNDKYgbxlLlm+nuLqh9cQheCDjc3tj+/YDFv+4kc1btrD5x5V8Mf9HqhUtPlEZ9O3mZv2cT1m9ZQtbNq5j08aN7CprZbRiE7+gCMJ1Horyt7Jpx4Fzn1sIIYQQohOTlhUhmijGQKLiE6kP9Wv6wwij9+hcql3fkLdzN3tTIkkJjKFbspcgo65Fpp884SkeUr/IzEXz2OsGlaIQO+Y3WFHAP5HRv5iO9v0PWDbnAPiGEJc6jOmTD7BHG4AWUJmtxCd0wWgxNFYYlkL/gQVUf7eZbxa60N44gj5mw7m7ogkhhBBCdEKSrAjRxCcindGT01sW+iUxfGoSw08V5PKLtNaPTx7/FM+Nb22LgtGSwrhHX2Rci/IhDDj5Y2IWkxKzmm3zJXHozTw49OYLvAohhBBCiM5DuoEJIYQQQgghOiRJVoQQQgghhBAdkiQrQgghhBBCiA5JkhUhhBBCCCFEhyTJihBCCCGEEKJDkmRFCCGEEEII0SHJ1MVCCCGEEBfIVl7Oj6+93t5hiA6mbMfO9g6h05FkRQghhBDiAjmqqtj10cz2DkOITk+SFSGEEEKINtL4+pL6yCPtHYbo4PxTUto7hE5DkhUhhBBCiDbSGAxEjx3b3mEIcc2QAfZCCCGEEEKIDkmSFSGEEEIIIUSHJMmKEEIIIYQQokOSZEUIIYQQQgjRIUmyIoQQQgghhOiQJFkRQgghhBBCdEiSrAghhBBCCCE6JElWhBBCCCGEEB2SJCtCCCGEEEKIDkmSFSGEEEIIIUSHpGnvAETnsGTave0dgrgGed3u9g5BCCGEEJeRJCviZ1HrdCh6fXuHIa5VGvkKE0IIITozVUlFtbe9gxBCCCGEEEKIM8mYFSGEEEIIIUSHJMmKEEIIIYQQokOSZEUIIYQQQgjRIUmyIoQQQgghhOiQJFkRQgghhBBCdEiSrAghhBBCCCE6JElWhBBCCCGEEB2SJCtCCCGEEEKIDkmSFSGEEEIIIUSH9P8B0AMaCAkxkWIAAAAASUVORK5CYII=)"
            ],
            "metadata": {
                "azdata_cell_guid": "2c488497-0510-414a-a96b-dd3d543a4111"
            },
            "attachments": {}
        },
        {
            "cell_type": "markdown",
            "source": [
                "**A 11-15 feladatok gyakorlásra szolgálnak a közelgő zh-ra :-)**\n",
                "\n",
                "11. _Készítsünk listát az oktatók adatairól!_\n",
                "\n",
                "1. Az oktatók titulusa és neve összefűzve jelenjen meg, közöttük szóközzel!\n",
                "2. Ha valakinek nincs titulusa, akkor csak a neve jelenjen meg, szóköz nélkül!\n",
                "3. A listát rendezzük a beosztás kódja, azon belül a státusz kódja szerint növekvő sorrendbe!\n",
                "4. Az oszlopokat nevezzük el értelemszerűen!"
            ],
            "metadata": {
                "azdata_cell_guid": "d2340f5f-1614-473c-b937-85740d67f7c1"
            },
            "attachments": {}
        },
        {
            "cell_type": "code",
            "source": [
                "SELECT oktato_id, beosztás, [status],\r\n",
                "CASE\r\n",
                "    WHEN titulus IS NULL THEN nev\r\n",
                "    ELSE titulus +' '+ nev\r\n",
                "END AS \"Titulus és név összefűzve\"\r\n",
                "FROM Oktatok \r\n",
                "ORDER BY beosztás, [status]\r\n",
                ""
            ],
            "metadata": {
                "azdata_cell_guid": "e99c2c53-898f-4787-b0e6-182d106dc16f",
                "language": "sql"
            },
            "outputs": [
                {
                    "output_type": "display_data",
                    "data": {
                        "text/html": "(25 rows affected)"
                    },
                    "metadata": {}
                },
                {
                    "output_type": "display_data",
                    "data": {
                        "text/html": "Total execution time: 00:00:00.013"
                    },
                    "metadata": {}
                },
                {
                    "output_type": "execute_result",
                    "metadata": {},
                    "execution_count": 35,
                    "data": {
                        "application/vnd.dataresource+json": {
                            "schema": {
                                "fields": [
                                    {
                                        "name": "oktato_id"
                                    },
                                    {
                                        "name": "beosztás"
                                    },
                                    {
                                        "name": "status"
                                    },
                                    {
                                        "name": "Titulus és név összefűzve"
                                    }
                                ]
                            },
                            "data": [
                                {
                                    "oktato_id": "18",
                                    "beosztás": "1",
                                    "status": "1",
                                    "Titulus és név összefűzve": "Nógrádi Kata"
                                },
                                {
                                    "oktato_id": "19",
                                    "beosztás": "1",
                                    "status": "1",
                                    "Titulus és név összefűzve": "Rácz András"
                                },
                                {
                                    "oktato_id": "20",
                                    "beosztás": "1",
                                    "status": "1",
                                    "Titulus és név összefűzve": "Kovács András"
                                },
                                {
                                    "oktato_id": "104",
                                    "beosztás": "1",
                                    "status": "1",
                                    "Titulus és név összefűzve": "Ludas Mátyás"
                                },
                                {
                                    "oktato_id": "200",
                                    "beosztás": "1",
                                    "status": "1",
                                    "Titulus és név összefűzve": "Aranyi Mária"
                                },
                                {
                                    "oktato_id": "300",
                                    "beosztás": "1",
                                    "status": "1",
                                    "Titulus és név összefűzve": "Szabó Andrera"
                                },
                                {
                                    "oktato_id": "105",
                                    "beosztás": "1",
                                    "status": "2",
                                    "Titulus és név összefűzve": "Kiss István"
                                },
                                {
                                    "oktato_id": "107",
                                    "beosztás": "1",
                                    "status": "2",
                                    "Titulus és név összefűzve": "Mészáros Kriszta"
                                },
                                {
                                    "oktato_id": "108",
                                    "beosztás": "2",
                                    "status": "1",
                                    "Titulus és név összefűzve": "Róbert Gida"
                                },
                                {
                                    "oktato_id": "111",
                                    "beosztás": "2",
                                    "status": "1",
                                    "Titulus és név összefűzve": "Vitéz János"
                                },
                                {
                                    "oktato_id": "7",
                                    "beosztás": "2",
                                    "status": "1",
                                    "Titulus és név összefűzve": "Kiss János"
                                },
                                {
                                    "oktato_id": "8",
                                    "beosztás": "2",
                                    "status": "3",
                                    "Titulus és név összefűzve": "Pelikán József"
                                },
                                {
                                    "oktato_id": "9",
                                    "beosztás": "2",
                                    "status": "3",
                                    "Titulus és név összefűzve": "Farkasos Piroska"
                                },
                                {
                                    "oktato_id": "6",
                                    "beosztás": "3",
                                    "status": "1",
                                    "Titulus és név összefűzve": "Dr. Szép llonka"
                                },
                                {
                                    "oktato_id": "14",
                                    "beosztás": "3",
                                    "status": "1",
                                    "Titulus és név összefűzve": "Szénási ászló"
                                },
                                {
                                    "oktato_id": "2",
                                    "beosztás": "3",
                                    "status": "2",
                                    "Titulus és név összefűzve": "Dr. Szentágotai Istvás"
                                },
                                {
                                    "oktato_id": "3",
                                    "beosztás": "4",
                                    "status": "1",
                                    "Titulus és név összefűzve": "Szerb László"
                                },
                                {
                                    "oktato_id": "11",
                                    "beosztás": "4",
                                    "status": "1",
                                    "Titulus és név összefűzve": "Dr. Józsa Gábor"
                                },
                                {
                                    "oktato_id": "12",
                                    "beosztás": "4",
                                    "status": "1",
                                    "Titulus és név összefűzve": "Dr. Varga Kata"
                                },
                                {
                                    "oktato_id": "5",
                                    "beosztás": "4",
                                    "status": "2",
                                    "Titulus és név összefűzve": "Dr. Balkán András"
                                },
                                {
                                    "oktato_id": "302",
                                    "beosztás": "5",
                                    "status": "1",
                                    "Titulus és név összefűzve": "Dr. Kovacs Istvan"
                                },
                                {
                                    "oktato_id": "301",
                                    "beosztás": "6",
                                    "status": "1",
                                    "Titulus és név összefűzve": "Dr. Juhász András"
                                },
                                {
                                    "oktato_id": "10",
                                    "beosztás": "6",
                                    "status": "1",
                                    "Titulus és név összefűzve": "Prof. Jogrerős Pál"
                                },
                                {
                                    "oktato_id": "1",
                                    "beosztás": "6",
                                    "status": "2",
                                    "Titulus és név összefűzve": "Dr. Kovács László"
                                },
                                {
                                    "oktato_id": "4",
                                    "beosztás": "6",
                                    "status": "2",
                                    "Titulus és név összefűzve": "Prof, tanszékvezető Ujfalussi István"
                                }
                            ]
                        },
                        "text/html": [
                            "<table>",
                            "<tr><th>oktato_id</th><th>beosztás</th><th>status</th><th>Titulus és név összefűzve</th></tr>",
                            "<tr><td>18</td><td>1</td><td>1</td><td>Nógrádi Kata</td></tr>",
                            "<tr><td>19</td><td>1</td><td>1</td><td>Rácz András</td></tr>",
                            "<tr><td>20</td><td>1</td><td>1</td><td>Kovács András</td></tr>",
                            "<tr><td>104</td><td>1</td><td>1</td><td>Ludas Mátyás</td></tr>",
                            "<tr><td>200</td><td>1</td><td>1</td><td>Aranyi Mária</td></tr>",
                            "<tr><td>300</td><td>1</td><td>1</td><td>Szabó Andrera</td></tr>",
                            "<tr><td>105</td><td>1</td><td>2</td><td>Kiss István</td></tr>",
                            "<tr><td>107</td><td>1</td><td>2</td><td>Mészáros Kriszta</td></tr>",
                            "<tr><td>108</td><td>2</td><td>1</td><td>Róbert Gida</td></tr>",
                            "<tr><td>111</td><td>2</td><td>1</td><td>Vitéz János</td></tr>",
                            "<tr><td>7</td><td>2</td><td>1</td><td>Kiss János</td></tr>",
                            "<tr><td>8</td><td>2</td><td>3</td><td>Pelikán József</td></tr>",
                            "<tr><td>9</td><td>2</td><td>3</td><td>Farkasos Piroska</td></tr>",
                            "<tr><td>6</td><td>3</td><td>1</td><td>Dr. Szép llonka</td></tr>",
                            "<tr><td>14</td><td>3</td><td>1</td><td>Szénási ászló</td></tr>",
                            "<tr><td>2</td><td>3</td><td>2</td><td>Dr. Szentágotai Istvás</td></tr>",
                            "<tr><td>3</td><td>4</td><td>1</td><td>Szerb László</td></tr>",
                            "<tr><td>11</td><td>4</td><td>1</td><td>Dr. Józsa Gábor</td></tr>",
                            "<tr><td>12</td><td>4</td><td>1</td><td>Dr. Varga Kata</td></tr>",
                            "<tr><td>5</td><td>4</td><td>2</td><td>Dr. Balkán András</td></tr>",
                            "<tr><td>302</td><td>5</td><td>1</td><td>Dr. Kovacs Istvan</td></tr>",
                            "<tr><td>301</td><td>6</td><td>1</td><td>Dr. Juhász András</td></tr>",
                            "<tr><td>10</td><td>6</td><td>1</td><td>Prof. Jogrerős Pál</td></tr>",
                            "<tr><td>1</td><td>6</td><td>2</td><td>Dr. Kovács László</td></tr>",
                            "<tr><td>4</td><td>6</td><td>2</td><td>Prof, tanszékvezető Ujfalussi István</td></tr>",
                            "</table>"
                        ]
                    }
                }
            ],
            "execution_count": 35
        },
        {
            "cell_type": "markdown",
            "source": [
                "<span style=\"color: #09885a;\">12</span>. Készítsünk listát, amely megmutatja, hogy összesen hány tantárgy van kreditenkénti csoportosításban!\n",
                "\n",
                "  \n",
                "\n",
                "A listából hagyjuk ki azokat a tételeket, ahol ez a darabszám <span style=\"color: #09885a;\">1</span>!\n",
                "\n",
                "A Folyami gáttan tantárgyat ne vegyük figyelembe!\n",
                "\n",
                "A listát rendezzük darabszám szerint csökkenő sorrendbe!\n",
                "\n",
                "Az oszlopokat nevezzük el értelemszerűen!"
            ],
            "metadata": {
                "azdata_cell_guid": "a765e9d6-58b3-4171-872a-78f3118fd6e3"
            },
            "attachments": {}
        },
        {
            "cell_type": "code",
            "source": [
                "SELECT Kredit, COUNT(Tkód) AS \"Darab\"\r\n",
                "FROM Tantárgyak\r\n",
                "WHERE Tantárgynév <> 'Folyami gáttan'\r\n",
                "GROUP BY Kredit\r\n",
                "HAVING COUNT(Tkód) <> 1\r\n",
                "ORDER BY COUNT(Tkód) DESC"
            ],
            "metadata": {
                "azdata_cell_guid": "422e8127-b652-4d3a-bfd7-9b1637b5781e",
                "language": "sql"
            },
            "outputs": [
                {
                    "output_type": "display_data",
                    "data": {
                        "text/html": "(4 rows affected)"
                    },
                    "metadata": {}
                },
                {
                    "output_type": "display_data",
                    "data": {
                        "text/html": "Total execution time: 00:00:00.012"
                    },
                    "metadata": {}
                },
                {
                    "output_type": "execute_result",
                    "metadata": {},
                    "execution_count": 16,
                    "data": {
                        "application/vnd.dataresource+json": {
                            "schema": {
                                "fields": [
                                    {
                                        "name": "Kredit"
                                    },
                                    {
                                        "name": "Darab"
                                    }
                                ]
                            },
                            "data": [
                                {
                                    "Kredit": "2",
                                    "Darab": "3"
                                },
                                {
                                    "Kredit": "3",
                                    "Darab": "3"
                                },
                                {
                                    "Kredit": "4",
                                    "Darab": "2"
                                },
                                {
                                    "Kredit": "1",
                                    "Darab": "2"
                                }
                            ]
                        },
                        "text/html": [
                            "<table>",
                            "<tr><th>Kredit</th><th>Darab</th></tr>",
                            "<tr><td>2</td><td>3</td></tr>",
                            "<tr><td>3</td><td>3</td></tr>",
                            "<tr><td>4</td><td>2</td></tr>",
                            "<tr><td>1</td><td>2</td></tr>",
                            "</table>"
                        ]
                    }
                }
            ],
            "execution_count": 16
        },
        {
            "cell_type": "markdown",
            "source": [
                "13. _Készítsünk listát az oktatók nevéről, a beosztásuk alapján elvárt és a tényleges óraszámukról!_\n",
                "\n",
                "1. Az oszlopok neve legyen 'Oktató neve', 'Elvárt óraszám' és 'Tényleges óraszám'\n",
                "2. Szűrjük a listát azokra az oktatókra, ahol az elvárt és a tényleges óraszám azonos"
            ],
            "metadata": {
                "azdata_cell_guid": "3f9237ae-f109-401c-acb9-31d75e73331b"
            },
            "attachments": {}
        },
        {
            "cell_type": "code",
            "source": [
                "SELECT ok.nev AS 'Oktató neve',  COUNT(o.ora_id) AS 'Tényleges óraszám', b.elvart AS 'Elvárt óraszám'\r\n",
                "FROM Beosztasok b INNER JOIN Oktatok ok ON b.beosztas_id = ok.beosztás\r\n",
                "    INNER JOIN Orak o ON ok.oktato_id = o.tanar\r\n",
                "GROUP BY ok.nev, b.elvart\r\n",
                "HAVING COUNT(o.ora_id) = b.elvart\r\n",
                ""
            ],
            "metadata": {
                "azdata_cell_guid": "4b31bb89-cfbc-46b1-8639-85c462877786",
                "language": "sql"
            },
            "outputs": [
                {
                    "output_type": "display_data",
                    "data": {
                        "text/html": "(4 rows affected)"
                    },
                    "metadata": {}
                },
                {
                    "output_type": "display_data",
                    "data": {
                        "text/html": "Total execution time: 00:00:00.012"
                    },
                    "metadata": {}
                },
                {
                    "output_type": "execute_result",
                    "metadata": {},
                    "execution_count": 31,
                    "data": {
                        "application/vnd.dataresource+json": {
                            "schema": {
                                "fields": [
                                    {
                                        "name": "Oktató neve"
                                    },
                                    {
                                        "name": "Tényleges óraszám"
                                    },
                                    {
                                        "name": "Elvárt óraszám"
                                    }
                                ]
                            },
                            "data": [
                                {
                                    "Oktató neve": "Jogrerős Pál",
                                    "Tényleges óraszám": "2",
                                    "Elvárt óraszám": "2"
                                },
                                {
                                    "Oktató neve": "Juhász András",
                                    "Tényleges óraszám": "2",
                                    "Elvárt óraszám": "2"
                                },
                                {
                                    "Oktató neve": "Varga Kata",
                                    "Tényleges óraszám": "4",
                                    "Elvárt óraszám": "4"
                                },
                                {
                                    "Oktató neve": "Pelikán József",
                                    "Tényleges óraszám": "6",
                                    "Elvárt óraszám": "6"
                                }
                            ]
                        },
                        "text/html": [
                            "<table>",
                            "<tr><th>Oktató neve</th><th>Tényleges óraszám</th><th>Elvárt óraszám</th></tr>",
                            "<tr><td>Jogrerős Pál</td><td>2</td><td>2</td></tr>",
                            "<tr><td>Juhász András</td><td>2</td><td>2</td></tr>",
                            "<tr><td>Varga Kata</td><td>4</td><td>4</td></tr>",
                            "<tr><td>Pelikán József</td><td>6</td><td>6</td></tr>",
                            "</table>"
                        ]
                    }
                }
            ],
            "execution_count": 31
        },
        {
            "cell_type": "markdown",
            "source": [
                "14. _Készítsünk listát, amely megmutatja, hogy mely tantárgyból nincs óra egyáltalán!_\n",
                "\n",
                "1. Csak a tantárgy neve jelenjen meg!"
            ],
            "metadata": {
                "azdata_cell_guid": "f634e09a-85ef-4e70-8ec6-ef355dfddaa7"
            },
            "attachments": {}
        },
        {
            "cell_type": "code",
            "source": [
                "SELECT Tantárgyak.Tantárgynév\r\n",
                "FROM Tantárgyak\r\n",
                "\r\n",
                "EXCEPT\r\n",
                "\r\n",
                "SELECT t.Tantárgynév\r\n",
                "FROM Tantárgyak t RIGHT JOIN Orak o ON t.Tkód = o.targy\r\n",
                "GROUP BY t.Tantárgynév"
            ],
            "metadata": {
                "azdata_cell_guid": "88abc55b-2c78-495b-a72f-3f8f4eb5fe70",
                "language": "sql"
            },
            "outputs": [
                {
                    "output_type": "display_data",
                    "data": {
                        "text/html": "(1 row affected)"
                    },
                    "metadata": {}
                },
                {
                    "output_type": "display_data",
                    "data": {
                        "text/html": "Total execution time: 00:00:00.015"
                    },
                    "metadata": {}
                },
                {
                    "output_type": "execute_result",
                    "metadata": {},
                    "execution_count": 32,
                    "data": {
                        "application/vnd.dataresource+json": {
                            "schema": {
                                "fields": [
                                    {
                                        "name": "Tantárgynév"
                                    }
                                ]
                            },
                            "data": [
                                {
                                    "Tantárgynév": "Folyami gáttan"
                                }
                            ]
                        },
                        "text/html": [
                            "<table>",
                            "<tr><th>Tantárgynév</th></tr>",
                            "<tr><td>Folyami gáttan</td></tr>",
                            "</table>"
                        ]
                    }
                }
            ],
            "execution_count": 32
        },
        {
            "cell_type": "markdown",
            "source": [
                "15. _Hány órájuk van az óraadóknak napi bontásban?_\n",
                "\n",
                "1. Csak a napok nevét és az óraszámot jelenítsük meg!\n",
                "2. Rendezzük a listát óraszám szerint növekvő sorrendbe!"
            ],
            "metadata": {
                "azdata_cell_guid": "4cbf2f0d-a65d-480a-8186-ccdb24498443"
            },
            "attachments": {}
        },
        {
            "cell_type": "code",
            "source": [
                ""
            ],
            "metadata": {
                "azdata_cell_guid": "c148aee8-bc85-40bf-b80a-a4898a6c05cb",
                "language": "sql"
            },
            "outputs": [],
            "execution_count": null
        }
    ]
}